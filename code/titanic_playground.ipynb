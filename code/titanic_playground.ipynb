{
  "nbformat": 4,
  "nbformat_minor": 5,
  "metadata": {
    "kernelspec": {
      "display_name": "Python 3",
      "language": "python",
      "name": "python3"
    },
    "language_info": {
      "codemirror_mode": {
        "name": "ipython",
        "version": 3
      },
      "file_extension": ".py",
      "mimetype": "text/x-python",
      "name": "python",
      "nbconvert_exporter": "python",
      "pygments_lexer": "ipython3",
      "version": "3.7.10"
    },
    "papermill": {
      "default_parameters": {},
      "duration": 1084.149131,
      "end_time": "2021-04-28T08:33:23.683049",
      "environment_variables": {},
      "exception": null,
      "input_path": "__notebook__.ipynb",
      "output_path": "__notebook__.ipynb",
      "parameters": {},
      "start_time": "2021-04-28T08:15:19.533918",
      "version": "2.3.3"
    },
    "colab": {
      "name": "titanic_playground.ipynb",
      "provenance": [],
      "include_colab_link": true
    }
  },
  "cells": [
    {
      "cell_type": "markdown",
      "metadata": {
        "id": "view-in-github",
        "colab_type": "text"
      },
      "source": [
        "<a href=\"https://colab.research.google.com/github/KJM94/Team_project/blob/main/code/titanic_playground.ipynb\" target=\"_parent\"><img src=\"https://colab.research.google.com/assets/colab-badge.svg\" alt=\"Open In Colab\"/></a>"
      ]
    },
    {
      "cell_type": "code",
      "metadata": {
        "_cell_guid": "b1076dfc-b9ad-4769-8c92-a6c4dae69d19",
        "_kg_hide-output": true,
        "_uuid": "8f2839f25d086af736a60e9eeb907d3b93b6e0e5",
        "execution": {
          "iopub.execute_input": "2021-04-28T08:15:27.906288Z",
          "iopub.status.busy": "2021-04-28T08:15:27.905065Z",
          "iopub.status.idle": "2021-04-28T08:15:27.918914Z",
          "shell.execute_reply": "2021-04-28T08:15:27.918282Z"
        },
        "papermill": {
          "duration": 0.070143,
          "end_time": "2021-04-28T08:15:27.919100",
          "exception": false,
          "start_time": "2021-04-28T08:15:27.848957",
          "status": "completed"
        },
        "tags": [],
        "id": "offshore-literature",
        "outputId": "03b74d30-f25b-46be-c653-8fce6aef7c1b"
      },
      "source": [
        "# This Python 3 environment comes with many helpful analytics libraries installed\n",
        "# It is defined by the kaggle/python Docker image: https://github.com/kaggle/docker-python\n",
        "# For example, here's several helpful packages to load\n",
        "\n",
        "import numpy as np # linear algebra\n",
        "import pandas as pd # data processing, CSV file I/O (e.g. pd.read_csv)\n",
        "\n",
        "# Input data files are available in the read-only \"../input/\" directory\n",
        "# For example, running this (by clicking run or pressing Shift+Enter) will list all files under the input directory\n",
        "\n",
        "import os\n",
        "for dirname, _, filenames in os.walk('/kaggle/input'):\n",
        "    for filename in filenames:\n",
        "        print(os.path.join(dirname, filename))\n",
        "\n",
        "# You can write up to 20GB to the current directory (/kaggle/working/) that gets preserved as output when you create a version using \"Save & Run All\" \n",
        "# You can also write temporary files to /kaggle/temp/, but they won't be saved outside of the current session"
      ],
      "id": "offshore-literature",
      "execution_count": null,
      "outputs": [
        {
          "output_type": "stream",
          "text": [
            "/kaggle/input/tabular-playground-series-apr-2021/sample_submission.csv\n",
            "/kaggle/input/tabular-playground-series-apr-2021/train.csv\n",
            "/kaggle/input/tabular-playground-series-apr-2021/test.csv\n"
          ],
          "name": "stdout"
        }
      ]
    },
    {
      "cell_type": "code",
      "metadata": {
        "execution": {
          "iopub.execute_input": "2021-04-28T08:15:28.040256Z",
          "iopub.status.busy": "2021-04-28T08:15:28.029402Z",
          "iopub.status.idle": "2021-04-28T08:15:43.677990Z",
          "shell.execute_reply": "2021-04-28T08:15:43.677316Z"
        },
        "papermill": {
          "duration": 15.705177,
          "end_time": "2021-04-28T08:15:43.678147",
          "exception": false,
          "start_time": "2021-04-28T08:15:27.972970",
          "status": "completed"
        },
        "tags": [],
        "id": "caring-mexico",
        "outputId": "227def4d-3fd2-4dbd-e5fd-bf2f16f8e859"
      },
      "source": [
        "!pip install scikit-learn==0.23.2"
      ],
      "id": "caring-mexico",
      "execution_count": null,
      "outputs": [
        {
          "output_type": "stream",
          "text": [
            "Collecting scikit-learn==0.23.2\r\n",
            "  Downloading scikit_learn-0.23.2-cp37-cp37m-manylinux1_x86_64.whl (6.8 MB)\r\n",
            "\u001b[K     |████████████████████████████████| 6.8 MB 4.7 MB/s \r\n",
            "\u001b[?25hRequirement already satisfied: scipy>=0.19.1 in /opt/conda/lib/python3.7/site-packages (from scikit-learn==0.23.2) (1.5.4)\r\n",
            "Requirement already satisfied: joblib>=0.11 in /opt/conda/lib/python3.7/site-packages (from scikit-learn==0.23.2) (1.0.1)\r\n",
            "Requirement already satisfied: numpy>=1.13.3 in /opt/conda/lib/python3.7/site-packages (from scikit-learn==0.23.2) (1.19.5)\r\n",
            "Requirement already satisfied: threadpoolctl>=2.0.0 in /opt/conda/lib/python3.7/site-packages (from scikit-learn==0.23.2) (2.1.0)\r\n",
            "Installing collected packages: scikit-learn\r\n",
            "  Attempting uninstall: scikit-learn\r\n",
            "    Found existing installation: scikit-learn 0.24.1\r\n",
            "    Uninstalling scikit-learn-0.24.1:\r\n",
            "      Successfully uninstalled scikit-learn-0.24.1\r\n",
            "\u001b[31mERROR: pip's dependency resolver does not currently take into account all the packages that are installed. This behaviour is the source of the following dependency conflicts.\r\n",
            "pyldavis 3.3.1 requires numpy>=1.20.0, but you have numpy 1.19.5 which is incompatible.\r\n",
            "pdpbox 0.2.1 requires matplotlib==3.1.1, but you have matplotlib 3.4.1 which is incompatible.\r\n",
            "imbalanced-learn 0.8.0 requires scikit-learn>=0.24, but you have scikit-learn 0.23.2 which is incompatible.\u001b[0m\r\n",
            "Successfully installed scikit-learn-0.23.2\r\n"
          ],
          "name": "stdout"
        }
      ]
    },
    {
      "cell_type": "markdown",
      "metadata": {
        "papermill": {
          "duration": 0.069168,
          "end_time": "2021-04-28T08:15:43.817822",
          "exception": false,
          "start_time": "2021-04-28T08:15:43.748654",
          "status": "completed"
        },
        "tags": [],
        "id": "duplicate-physics"
      },
      "source": [
        "https://www.kaggle.com/udbhavpangotra/tps-apr21-eda-model\n",
        "\n",
        "\n",
        "https://www.kaggle.com/hiro5299834/tps-apr-2021-voting-pseudo-labeling"
      ],
      "id": "duplicate-physics"
    },
    {
      "cell_type": "code",
      "metadata": {
        "papermill": {
          "duration": 0.069521,
          "end_time": "2021-04-28T08:15:43.957961",
          "exception": false,
          "start_time": "2021-04-28T08:15:43.888440",
          "status": "completed"
        },
        "tags": [],
        "id": "dense-object"
      },
      "source": [
        ""
      ],
      "id": "dense-object",
      "execution_count": null,
      "outputs": []
    },
    {
      "cell_type": "markdown",
      "metadata": {
        "papermill": {
          "duration": 0.069885,
          "end_time": "2021-04-28T08:15:44.098122",
          "exception": false,
          "start_time": "2021-04-28T08:15:44.028237",
          "status": "completed"
        },
        "tags": [],
        "id": "suffering-supervision"
      },
      "source": [
        "# KAGGLE 스터디 "
      ],
      "id": "suffering-supervision"
    },
    {
      "cell_type": "code",
      "metadata": {
        "_kg_hide-input": true,
        "execution": {
          "iopub.execute_input": "2021-04-28T08:15:44.244483Z",
          "iopub.status.busy": "2021-04-28T08:15:44.243846Z",
          "iopub.status.idle": "2021-04-28T08:15:46.437250Z",
          "shell.execute_reply": "2021-04-28T08:15:46.437931Z"
        },
        "papermill": {
          "duration": 2.270265,
          "end_time": "2021-04-28T08:15:46.438102",
          "exception": false,
          "start_time": "2021-04-28T08:15:44.167837",
          "status": "completed"
        },
        "tags": [],
        "id": "demonstrated-coalition",
        "outputId": "c8fab834-7d94-4c46-9886-86dd0a923c1e"
      },
      "source": [
        "import pandas as pd\n",
        "import numpy as np\n",
        "import random\n",
        "import os\n",
        "\n",
        "from sklearn.metrics import accuracy_score\n",
        "from sklearn.preprocessing import LabelEncoder, StandardScaler\n",
        "from sklearn.model_selection import train_test_split, KFold, StratifiedKFold\n",
        "\n",
        "import lightgbm as lgb\n",
        "import catboost as ctb\n",
        "from sklearn.model_selection import GridSearchCV\n",
        "from sklearn.tree import DecisionTreeClassifier, export_graphviz\n",
        "\n",
        "import graphviz\n",
        "import matplotlib.pyplot as plt\n",
        "import seaborn as sns\n",
        "\n",
        "import warnings\n",
        "warnings.simplefilter('ignore')"
      ],
      "id": "demonstrated-coalition",
      "execution_count": null,
      "outputs": [
        {
          "output_type": "display_data",
          "data": {
            "text/html": [
              "<style type='text/css'>\n",
              ".datatable table.frame { margin-bottom: 0; }\n",
              ".datatable table.frame thead { border-bottom: none; }\n",
              ".datatable table.frame tr.coltypes td {  color: #FFFFFF;  line-height: 6px;  padding: 0 0.5em;}\n",
              ".datatable .bool    { background: #DDDD99; }\n",
              ".datatable .object  { background: #565656; }\n",
              ".datatable .int     { background: #5D9E5D; }\n",
              ".datatable .float   { background: #4040CC; }\n",
              ".datatable .str     { background: #CC4040; }\n",
              ".datatable .row_index {  background: var(--jp-border-color3);  border-right: 1px solid var(--jp-border-color0);  color: var(--jp-ui-font-color3);  font-size: 9px;}\n",
              ".datatable .frame tr.coltypes .row_index {  background: var(--jp-border-color0);}\n",
              ".datatable th:nth-child(2) { padding-left: 12px; }\n",
              ".datatable .hellipsis {  color: var(--jp-cell-editor-border-color);}\n",
              ".datatable .vellipsis {  background: var(--jp-layout-color0);  color: var(--jp-cell-editor-border-color);}\n",
              ".datatable .na {  color: var(--jp-cell-editor-border-color);  font-size: 80%;}\n",
              ".datatable .footer { font-size: 9px; }\n",
              ".datatable .frame_dimensions {  background: var(--jp-border-color3);  border-top: 1px solid var(--jp-border-color0);  color: var(--jp-ui-font-color3);  display: inline-block;  opacity: 0.6;  padding: 1px 10px 1px 5px;}\n",
              "</style>\n"
            ],
            "text/plain": [
              "<IPython.core.display.HTML object>"
            ]
          },
          "metadata": {
            "tags": []
          }
        }
      ]
    },
    {
      "cell_type": "code",
      "metadata": {
        "_kg_hide-input": true,
        "execution": {
          "iopub.execute_input": "2021-04-28T08:15:46.581877Z",
          "iopub.status.busy": "2021-04-28T08:15:46.581228Z",
          "iopub.status.idle": "2021-04-28T08:15:46.586281Z",
          "shell.execute_reply": "2021-04-28T08:15:46.585727Z"
        },
        "papermill": {
          "duration": 0.077762,
          "end_time": "2021-04-28T08:15:46.586416",
          "exception": false,
          "start_time": "2021-04-28T08:15:46.508654",
          "status": "completed"
        },
        "tags": [],
        "id": "returning-poster"
      },
      "source": [
        "TARGET = 'Survived'\n",
        "\n",
        "N_ESTIMATORS = 1000\n",
        "N_SPLITS = 10\n",
        "SEED = 2021\n",
        "EARLY_STOPPING_ROUNDS = 100\n",
        "VERBOSE = 100"
      ],
      "id": "returning-poster",
      "execution_count": null,
      "outputs": []
    },
    {
      "cell_type": "code",
      "metadata": {
        "_kg_hide-input": true,
        "execution": {
          "iopub.execute_input": "2021-04-28T08:15:46.733351Z",
          "iopub.status.busy": "2021-04-28T08:15:46.732724Z",
          "iopub.status.idle": "2021-04-28T08:15:46.734710Z",
          "shell.execute_reply": "2021-04-28T08:15:46.735165Z"
        },
        "papermill": {
          "duration": 0.077843,
          "end_time": "2021-04-28T08:15:46.735336",
          "exception": false,
          "start_time": "2021-04-28T08:15:46.657493",
          "status": "completed"
        },
        "tags": [],
        "id": "afraid-election"
      },
      "source": [
        "#랜덤 시드 생성\n",
        "def set_seed(seed=42):\n",
        "    random.seed(seed)\n",
        "    os.environ['PYTHONHASHSEED'] = str(seed)\n",
        "    np.random.seed(seed)\n",
        "    \n",
        "set_seed(SEED)"
      ],
      "id": "afraid-election",
      "execution_count": null,
      "outputs": []
    },
    {
      "cell_type": "markdown",
      "metadata": {
        "papermill": {
          "duration": 0.070428,
          "end_time": "2021-04-28T08:15:46.876745",
          "exception": false,
          "start_time": "2021-04-28T08:15:46.806317",
          "status": "completed"
        },
        "tags": [],
        "id": "fixed-boston"
      },
      "source": [
        "## 데이터 전처리"
      ],
      "id": "fixed-boston"
    },
    {
      "cell_type": "markdown",
      "metadata": {
        "papermill": {
          "duration": 0.071246,
          "end_time": "2021-04-28T08:15:47.019607",
          "exception": false,
          "start_time": "2021-04-28T08:15:46.948361",
          "status": "completed"
        },
        "tags": [],
        "id": "enormous-belgium"
      },
      "source": [
        "### lode data"
      ],
      "id": "enormous-belgium"
    },
    {
      "cell_type": "code",
      "metadata": {
        "_kg_hide-input": true,
        "execution": {
          "iopub.execute_input": "2021-04-28T08:15:47.165426Z",
          "iopub.status.busy": "2021-04-28T08:15:47.164799Z",
          "iopub.status.idle": "2021-04-28T08:15:47.888598Z",
          "shell.execute_reply": "2021-04-28T08:15:47.887266Z"
        },
        "papermill": {
          "duration": 0.79738,
          "end_time": "2021-04-28T08:15:47.888756",
          "exception": false,
          "start_time": "2021-04-28T08:15:47.091376",
          "status": "completed"
        },
        "tags": [],
        "id": "novel-fabric"
      },
      "source": [
        "train_df = pd.read_csv('../input/tabular-playground-series-apr-2021/train.csv')\n",
        "test_df = pd.read_csv('../input/tabular-playground-series-apr-2021/test.csv')\n",
        "submission = pd.read_csv('../input/tabular-playground-series-apr-2021/sample_submission.csv')\n",
        "#test_df['Survived'] = pd.read_csv(\"../input/submission-merged3/submission_merged3.csv\")['Survived']\n",
        "\n",
        "all_df = pd.concat([train_df, test_df]).reset_index(drop=True)\n",
        "#reset_index : 인덱스를 세팅한다. drop=True를 하면 인덱스를 세팅한걸 삭제함. \n"
      ],
      "id": "novel-fabric",
      "execution_count": null,
      "outputs": []
    },
    {
      "cell_type": "code",
      "metadata": {
        "_kg_hide-input": true,
        "execution": {
          "iopub.execute_input": "2021-04-28T08:15:48.037831Z",
          "iopub.status.busy": "2021-04-28T08:15:48.036386Z",
          "iopub.status.idle": "2021-04-28T08:15:48.040395Z",
          "shell.execute_reply": "2021-04-28T08:15:48.039870Z"
        },
        "papermill": {
          "duration": 0.080615,
          "end_time": "2021-04-28T08:15:48.040528",
          "exception": false,
          "start_time": "2021-04-28T08:15:47.959913",
          "status": "completed"
        },
        "tags": [],
        "id": "superior-uncle",
        "outputId": "31f1b182-8c32-41f9-8e10-2091dbe390e0"
      },
      "source": [
        "print('Rows and Columns in train dataset:', train_df.shape)\n",
        "print('Rows and Columns in test dataset:', test_df.shape)"
      ],
      "id": "superior-uncle",
      "execution_count": null,
      "outputs": [
        {
          "output_type": "stream",
          "text": [
            "Rows and Columns in train dataset: (100000, 12)\n",
            "Rows and Columns in test dataset: (100000, 11)\n"
          ],
          "name": "stdout"
        }
      ]
    },
    {
      "cell_type": "markdown",
      "metadata": {
        "papermill": {
          "duration": 0.070773,
          "end_time": "2021-04-28T08:15:48.183397",
          "exception": false,
          "start_time": "2021-04-28T08:15:48.112624",
          "status": "completed"
        },
        "tags": [],
        "id": "induced-defeat"
      },
      "source": [
        "### 결측치 갯수 출력"
      ],
      "id": "induced-defeat"
    },
    {
      "cell_type": "code",
      "metadata": {
        "_kg_hide-input": true,
        "execution": {
          "iopub.execute_input": "2021-04-28T08:15:48.335790Z",
          "iopub.status.busy": "2021-04-28T08:15:48.334260Z",
          "iopub.status.idle": "2021-04-28T08:15:48.448975Z",
          "shell.execute_reply": "2021-04-28T08:15:48.449467Z"
        },
        "papermill": {
          "duration": 0.194186,
          "end_time": "2021-04-28T08:15:48.449691",
          "exception": false,
          "start_time": "2021-04-28T08:15:48.255505",
          "status": "completed"
        },
        "tags": [],
        "id": "august-asbestos",
        "outputId": "f5c5998c-435d-454a-b455-fad791235c8d"
      },
      "source": [
        "print('Missing values per columns in train dataset')\n",
        "for col in train_df.columns:\n",
        "    temp_col = train_df[col].isnull().sum()\n",
        "    print(f'{col}: {temp_col}')\n",
        "print()\n",
        "print('Missing values per columns in test dataset')\n",
        "for col in test_df.columns:\n",
        "    temp_col = test_df[col].isnull().sum()\n",
        "    print(f'{col}: {temp_col}')"
      ],
      "id": "august-asbestos",
      "execution_count": null,
      "outputs": [
        {
          "output_type": "stream",
          "text": [
            "Missing values per columns in train dataset\n",
            "PassengerId: 0\n",
            "Survived: 0\n",
            "Pclass: 0\n",
            "Name: 0\n",
            "Sex: 0\n",
            "Age: 3292\n",
            "SibSp: 0\n",
            "Parch: 0\n",
            "Ticket: 4623\n",
            "Fare: 134\n",
            "Cabin: 67866\n",
            "Embarked: 250\n",
            "\n",
            "Missing values per columns in test dataset\n",
            "PassengerId: 0\n",
            "Pclass: 0\n",
            "Name: 0\n",
            "Sex: 0\n",
            "Age: 3487\n",
            "SibSp: 0\n",
            "Parch: 0\n",
            "Ticket: 5181\n",
            "Fare: 133\n",
            "Cabin: 70831\n",
            "Embarked: 277\n"
          ],
          "name": "stdout"
        }
      ]
    },
    {
      "cell_type": "markdown",
      "metadata": {
        "papermill": {
          "duration": 0.07177,
          "end_time": "2021-04-28T08:15:48.594177",
          "exception": false,
          "start_time": "2021-04-28T08:15:48.522407",
          "status": "completed"
        },
        "tags": [],
        "id": "processed-color"
      },
      "source": [
        "### Filling missing values"
      ],
      "id": "processed-color"
    },
    {
      "cell_type": "code",
      "metadata": {
        "_kg_hide-input": true,
        "execution": {
          "iopub.execute_input": "2021-04-28T08:15:48.748020Z",
          "iopub.status.busy": "2021-04-28T08:15:48.747201Z",
          "iopub.status.idle": "2021-04-28T08:15:49.207776Z",
          "shell.execute_reply": "2021-04-28T08:15:49.207219Z"
        },
        "papermill": {
          "duration": 0.54214,
          "end_time": "2021-04-28T08:15:49.207925",
          "exception": false,
          "start_time": "2021-04-28T08:15:48.665785",
          "status": "completed"
        },
        "tags": [],
        "id": "cleared-roots"
      },
      "source": [
        "#나이는 나이의 평균치로 채운다.\n",
        "all_df['Age'] = all_df['Age'].fillna(all_df['Age'].mean())\n",
        "\n",
        "#cabin은 문자열을 분할하고, 제일 첫번째 글자를 따와서 넣는다. 결측치엔 X를 넣는다.\n",
        "#strip() : 양쪽 공백을 지운다. 여기서느 x[0]외엔 다 지우는듯. \n",
        "all_df['Cabin'] = all_df['Cabin'].fillna('X').map(lambda x: x[0].strip())\n",
        "\n",
        "\n",
        "#print(all_df['Ticket'].head(10))\n",
        "#Ticket, fillna with 'X', split string and take first split \n",
        "#split() : 문자열 나누기. 디폴트는 ' '이고, 문자를 가진 데이터들이 전부 띄워쓰기로 구분되어있기때문에 가능. \n",
        "all_df['Ticket'] = all_df['Ticket'].fillna('X').map(lambda x:str(x).split()[0] if len(str(x).split()) > 1 else 'X')\n",
        "\n",
        "#pclass에 따른 Fare의 평균을 구해서 dictionary형태로 만든다. \n",
        "fare_map = all_df[['Fare', 'Pclass']].dropna().groupby('Pclass').median().to_dict()\n",
        "#fare의 결측치에 본인 행의 pclass 값을 넣고, 그 값을 fare 평균에 맵핑시킨다.  \n",
        "all_df['Fare'] = all_df['Fare'].fillna(all_df['Pclass'].map(fare_map['Fare']))\n",
        "#유독 높은 가격이나 낮은 가격이 있기때문에, 이상치의 영향을 줄이기 위해서 Fare에 log를 취해준다.\n",
        "all_df['Fare'] = np.log1p(all_df['Fare'])\n",
        "\n",
        "\n",
        "#항구의 결측치를 X로 채운다. \n",
        "all_df['Embarked'] = all_df['Embarked'].fillna('X')\n",
        "\n",
        "#이름은 성만 사용한다.\n",
        "all_df['Name'] = all_df['Name'].map(lambda x: x.split(',')[0])\n"
      ],
      "id": "cleared-roots",
      "execution_count": null,
      "outputs": []
    },
    {
      "cell_type": "code",
      "metadata": {
        "_kg_hide-input": true,
        "execution": {
          "iopub.execute_input": "2021-04-28T08:15:49.359355Z",
          "iopub.status.busy": "2021-04-28T08:15:49.358698Z",
          "iopub.status.idle": "2021-04-28T08:15:49.440029Z",
          "shell.execute_reply": "2021-04-28T08:15:49.439363Z"
        },
        "papermill": {
          "duration": 0.160323,
          "end_time": "2021-04-28T08:15:49.440167",
          "exception": false,
          "start_time": "2021-04-28T08:15:49.279844",
          "status": "completed"
        },
        "tags": [],
        "id": "aggregate-concern",
        "outputId": "f6712314-470e-4e02-d803-1937d9f4c39a"
      },
      "source": [
        "data_1=all_df.loc[all_df['Pclass']==1].groupby('Ticket')['Ticket'].count().sort_values(ascending=False)\n",
        "print(data_1)\n",
        "print()\n",
        "data_2=all_df.loc[all_df['Pclass']==2].groupby('Ticket')['Ticket'].count().sort_values(ascending=False)\n",
        "print(data_2)\n",
        "print()\n",
        "data_3=all_df.loc[all_df['Pclass']==3].groupby('Ticket')['Ticket'].count().sort_values(ascending=False)\n",
        "print(data_3)\n",
        "print()"
      ],
      "id": "aggregate-concern",
      "execution_count": null,
      "outputs": [
        {
          "output_type": "stream",
          "text": [
            "Ticket\n",
            "X             36336\n",
            "PC            16814\n",
            "C.A.            338\n",
            "SC/Paris        334\n",
            "SC/PARIS        260\n",
            "W./C.           206\n",
            "S.O.C.          192\n",
            "S.C./PARIS      191\n",
            "PP              186\n",
            "F.C.            183\n",
            "SC/AH           178\n",
            "F.C.C.          167\n",
            "STON/O          163\n",
            "CA.             161\n",
            "SOTON/O.Q.      123\n",
            "A/4             115\n",
            "A/5.            108\n",
            "W.E.P.           94\n",
            "WE/P             92\n",
            "SOTON/OQ         87\n",
            "CA               81\n",
            "STON/O2.         81\n",
            "A/5              70\n",
            "C                67\n",
            "A/4.             66\n",
            "P/PP             66\n",
            "SC               59\n",
            "SOTON/O2         48\n",
            "A./5.            46\n",
            "S.O./P.P.        40\n",
            "A.5.             33\n",
            "AQ/4             27\n",
            "A/S              23\n",
            "SCO/W            19\n",
            "S.P.             17\n",
            "SC/A4            16\n",
            "SW/PP            16\n",
            "SC/A.3           15\n",
            "S.O.P.           15\n",
            "C.A./SOTON       14\n",
            "A.               14\n",
            "SO/C             14\n",
            "S.C./A.4.        14\n",
            "STON/OQ.         13\n",
            "W/C              13\n",
            "LP               11\n",
            "S.W./PP          11\n",
            "AQ/3.             8\n",
            "Fa                7\n",
            "A4.               6\n",
            "Name: Ticket, dtype: int64\n",
            "\n",
            "Ticket\n",
            "X             31337\n",
            "A.              997\n",
            "C.A.            717\n",
            "SC/PARIS        470\n",
            "STON/O          387\n",
            "PC              330\n",
            "S.O.C.          313\n",
            "PP              308\n",
            "SC/AH           284\n",
            "W./C.           259\n",
            "SOTON/O.Q.      219\n",
            "F.C.C.          203\n",
            "A/5.            200\n",
            "A/4             152\n",
            "SC/Paris        135\n",
            "S.C./PARIS      119\n",
            "SOTON/O2        112\n",
            "CA.             107\n",
            "STON/O2.        106\n",
            "C               104\n",
            "F.C.            100\n",
            "WE/P             92\n",
            "SOTON/OQ         86\n",
            "A/5              82\n",
            "CA               66\n",
            "W.E.P.           60\n",
            "A./5.            60\n",
            "S.O./P.P.        54\n",
            "P/PP             50\n",
            "A/4.             46\n",
            "SCO/W            36\n",
            "SC               33\n",
            "A.5.             29\n",
            "AQ/4             29\n",
            "LP               25\n",
            "SC/A.3           20\n",
            "C.A./SOTON       19\n",
            "A/S              19\n",
            "SC/A4            17\n",
            "Fa               15\n",
            "S.W./PP          13\n",
            "SO/C             13\n",
            "S.C./A.4.        13\n",
            "STON/OQ.         12\n",
            "W/C              11\n",
            "S.P.             10\n",
            "SW/PP             9\n",
            "S.O.P.            9\n",
            "A4.               7\n",
            "AQ/3.             6\n",
            "Name: Ticket, dtype: int64\n",
            "\n",
            "Ticket\n",
            "X             84781\n",
            "A.             6420\n",
            "C.A.           2615\n",
            "STON/O         1508\n",
            "A/5.            918\n",
            "SOTON/O.Q.      719\n",
            "PP              679\n",
            "SC/PARIS        642\n",
            "W./C.           623\n",
            "PC              595\n",
            "F.C.C.          541\n",
            "A/5             420\n",
            "CA.             368\n",
            "STON/O2.        363\n",
            "SC/AH           331\n",
            "A/4             268\n",
            "SOTON/O2        264\n",
            "S.O.C.          231\n",
            "C               227\n",
            "SC/Paris        177\n",
            "S.O./P.P.       177\n",
            "SOTON/OQ        172\n",
            "CA              172\n",
            "W.E.P.          154\n",
            "F.C.            131\n",
            "S.C./PARIS      127\n",
            "A./5.           122\n",
            "WE/P            121\n",
            "SC              106\n",
            "A/4.            104\n",
            "SCO/W            74\n",
            "A.5.             72\n",
            "P/PP             68\n",
            "SC/A4            67\n",
            "AQ/4             56\n",
            "LP               41\n",
            "Fa               37\n",
            "STON/OQ.         37\n",
            "S.W./PP          32\n",
            "SC/A.3           31\n",
            "C.A./SOTON       31\n",
            "SW/PP            30\n",
            "A/S              28\n",
            "SO/C             28\n",
            "AQ/3.            26\n",
            "S.P.             24\n",
            "S.C./A.4.        23\n",
            "S.O.P.           21\n",
            "W/C              20\n",
            "A4.              20\n",
            "Name: Ticket, dtype: int64\n",
            "\n"
          ],
          "name": "stdout"
        }
      ]
    },
    {
      "cell_type": "markdown",
      "metadata": {
        "papermill": {
          "duration": 0.072368,
          "end_time": "2021-04-28T08:15:49.585239",
          "exception": false,
          "start_time": "2021-04-28T08:15:49.512871",
          "status": "completed"
        },
        "tags": [],
        "id": "distributed-midnight"
      },
      "source": [
        "## 인코딩 "
      ],
      "id": "distributed-midnight"
    },
    {
      "cell_type": "markdown",
      "metadata": {
        "papermill": {
          "duration": 0.072158,
          "end_time": "2021-04-28T08:15:49.729789",
          "exception": false,
          "start_time": "2021-04-28T08:15:49.657631",
          "status": "completed"
        },
        "tags": [],
        "id": "integrated-mattress"
      },
      "source": [
        "변수별로 인코딩을 다르게 해준다. "
      ],
      "id": "integrated-mattress"
    },
    {
      "cell_type": "code",
      "metadata": {
        "_kg_hide-input": true,
        "execution": {
          "iopub.execute_input": "2021-04-28T08:15:49.880067Z",
          "iopub.status.busy": "2021-04-28T08:15:49.879387Z",
          "iopub.status.idle": "2021-04-28T08:15:49.882633Z",
          "shell.execute_reply": "2021-04-28T08:15:49.882093Z"
        },
        "papermill": {
          "duration": 0.080452,
          "end_time": "2021-04-28T08:15:49.882767",
          "exception": false,
          "start_time": "2021-04-28T08:15:49.802315",
          "status": "completed"
        },
        "tags": [],
        "id": "editorial-europe"
      },
      "source": [
        "label_cols = ['Name', 'Ticket', 'Sex','Pclass','Embarked']\n",
        "onehot_cols = [ 'Cabin',]\n",
        "numerical_cols = [ 'Age', 'SibSp', 'Parch', 'Fare']"
      ],
      "id": "editorial-europe",
      "execution_count": null,
      "outputs": []
    },
    {
      "cell_type": "code",
      "metadata": {
        "_kg_hide-input": true,
        "execution": {
          "iopub.execute_input": "2021-04-28T08:15:50.032951Z",
          "iopub.status.busy": "2021-04-28T08:15:50.031887Z",
          "iopub.status.idle": "2021-04-28T08:15:50.036373Z",
          "shell.execute_reply": "2021-04-28T08:15:50.037008Z"
        },
        "papermill": {
          "duration": 0.081073,
          "end_time": "2021-04-28T08:15:50.037173",
          "exception": false,
          "start_time": "2021-04-28T08:15:49.956100",
          "status": "completed"
        },
        "tags": [],
        "id": "competent-communist"
      },
      "source": [
        "#라벨 인코딩 함수. c라는 매개변수를 받아서 맞게 트렌스폼 해준다. \n",
        "def label_encoder(c):\n",
        "    le = LabelEncoder()\n",
        "    return le.fit_transform(c)"
      ],
      "id": "competent-communist",
      "execution_count": null,
      "outputs": []
    },
    {
      "cell_type": "code",
      "metadata": {
        "_kg_hide-input": true,
        "execution": {
          "iopub.execute_input": "2021-04-28T08:15:50.188213Z",
          "iopub.status.busy": "2021-04-28T08:15:50.187230Z",
          "iopub.status.idle": "2021-04-28T08:15:50.612233Z",
          "shell.execute_reply": "2021-04-28T08:15:50.611537Z"
        },
        "papermill": {
          "duration": 0.500877,
          "end_time": "2021-04-28T08:15:50.612370",
          "exception": false,
          "start_time": "2021-04-28T08:15:50.111493",
          "status": "completed"
        },
        "tags": [],
        "id": "traditional-ceremony"
      },
      "source": [
        "\n",
        "#StandardScaler(): 평균을 제거하고 데이터를 단위 분산으로 조정한다. \n",
        "#그러나 이상치가 있다면 평균과 표준편차에 영향을 미쳐 변환된 데이터의 확산은 매우 달라지게 되는 함수\n",
        "scaler = StandardScaler()\n",
        "\n",
        "onehot_encoded_df = pd.get_dummies(all_df[onehot_cols])\n",
        "label_encoded_df = all_df[label_cols].apply(label_encoder)\n",
        "numerical_df = pd.DataFrame(scaler.fit_transform(all_df[numerical_cols]), columns=numerical_cols)\n",
        "target_df = all_df[TARGET]\n",
        "\n",
        "all_df = pd.concat([numerical_df, label_encoded_df,onehot_encoded_df, target_df], axis=1)\n",
        "#all_df = pd.concat([numerical_df, label_encoded_df, target_df], axis=1)"
      ],
      "id": "traditional-ceremony",
      "execution_count": null,
      "outputs": []
    },
    {
      "cell_type": "markdown",
      "metadata": {
        "papermill": {
          "duration": 0.073617,
          "end_time": "2021-04-28T08:15:50.759521",
          "exception": false,
          "start_time": "2021-04-28T08:15:50.685904",
          "status": "completed"
        },
        "tags": [],
        "id": "digital-diversity"
      },
      "source": [
        "## 모델링"
      ],
      "id": "digital-diversity"
    },
    {
      "cell_type": "code",
      "metadata": {
        "execution": {
          "iopub.execute_input": "2021-04-28T08:15:50.912828Z",
          "iopub.status.busy": "2021-04-28T08:15:50.912005Z",
          "iopub.status.idle": "2021-04-28T08:15:50.914969Z",
          "shell.execute_reply": "2021-04-28T08:15:50.914304Z"
        },
        "papermill": {
          "duration": 0.080023,
          "end_time": "2021-04-28T08:15:50.915129",
          "exception": false,
          "start_time": "2021-04-28T08:15:50.835106",
          "status": "completed"
        },
        "tags": [],
        "id": "interstate-instrument"
      },
      "source": [
        "drop_list=['Survived', 'Parch']"
      ],
      "id": "interstate-instrument",
      "execution_count": null,
      "outputs": []
    },
    {
      "cell_type": "code",
      "metadata": {
        "execution": {
          "iopub.execute_input": "2021-04-28T08:15:51.068181Z",
          "iopub.status.busy": "2021-04-28T08:15:51.067233Z",
          "iopub.status.idle": "2021-04-28T08:16:36.954920Z",
          "shell.execute_reply": "2021-04-28T08:16:36.955546Z"
        },
        "papermill": {
          "duration": 45.966832,
          "end_time": "2021-04-28T08:16:36.955763",
          "exception": false,
          "start_time": "2021-04-28T08:15:50.988931",
          "status": "completed"
        },
        "tags": [],
        "id": "tender-stand",
        "outputId": "503fc2c8-5bfc-4e7b-b2a5-eca93acecdc9"
      },
      "source": [
        "!pip install pycaret==2.2.3"
      ],
      "id": "tender-stand",
      "execution_count": null,
      "outputs": [
        {
          "output_type": "stream",
          "text": [
            "Collecting pycaret==2.2.3\r\n",
            "  Downloading pycaret-2.2.3-py3-none-any.whl (249 kB)\r\n",
            "\u001b[K     |████████████████████████████████| 249 kB 419 kB/s \r\n",
            "\u001b[?25hRequirement already satisfied: scikit-plot in /opt/conda/lib/python3.7/site-packages (from pycaret==2.2.3) (0.3.7)\r\n",
            "Requirement already satisfied: xgboost>=1.1.0 in /opt/conda/lib/python3.7/site-packages (from pycaret==2.2.3) (1.4.0)\r\n",
            "Requirement already satisfied: scikit-learn==0.23.2 in /opt/conda/lib/python3.7/site-packages (from pycaret==2.2.3) (0.23.2)\r\n",
            "Requirement already satisfied: textblob in /opt/conda/lib/python3.7/site-packages (from pycaret==2.2.3) (0.15.3)\r\n",
            "Requirement already satisfied: wordcloud in /opt/conda/lib/python3.7/site-packages (from pycaret==2.2.3) (1.8.1)\r\n",
            "Requirement already satisfied: pyLDAvis in /opt/conda/lib/python3.7/site-packages (from pycaret==2.2.3) (3.3.1)\r\n",
            "Requirement already satisfied: joblib in /opt/conda/lib/python3.7/site-packages (from pycaret==2.2.3) (1.0.1)\r\n",
            "Requirement already satisfied: numpy>=1.17 in /opt/conda/lib/python3.7/site-packages (from pycaret==2.2.3) (1.19.5)\r\n",
            "Requirement already satisfied: plotly>=4.4.1 in /opt/conda/lib/python3.7/site-packages (from pycaret==2.2.3) (4.14.3)\r\n",
            "Requirement already satisfied: mlxtend in /opt/conda/lib/python3.7/site-packages (from pycaret==2.2.3) (0.18.0)\r\n",
            "Requirement already satisfied: IPython in /opt/conda/lib/python3.7/site-packages (from pycaret==2.2.3) (7.22.0)\r\n",
            "Requirement already satisfied: gensim in /opt/conda/lib/python3.7/site-packages (from pycaret==2.2.3) (4.0.1)\r\n",
            "Requirement already satisfied: ipywidgets in /opt/conda/lib/python3.7/site-packages (from pycaret==2.2.3) (7.6.3)\r\n",
            "Requirement already satisfied: imbalanced-learn>=0.7.0 in /opt/conda/lib/python3.7/site-packages (from pycaret==2.2.3) (0.8.0)\r\n",
            "Requirement already satisfied: nltk in /opt/conda/lib/python3.7/site-packages (from pycaret==2.2.3) (3.2.4)\r\n",
            "Requirement already satisfied: catboost>=0.23.2 in /opt/conda/lib/python3.7/site-packages (from pycaret==2.2.3) (0.25.1)\r\n",
            "Requirement already satisfied: pandas-profiling>=2.8.0 in /opt/conda/lib/python3.7/site-packages (from pycaret==2.2.3) (2.11.0)\r\n",
            "Requirement already satisfied: cufflinks>=0.17.0 in /opt/conda/lib/python3.7/site-packages (from pycaret==2.2.3) (0.17.3)\r\n",
            "Requirement already satisfied: matplotlib in /opt/conda/lib/python3.7/site-packages (from pycaret==2.2.3) (3.4.1)\r\n",
            "Requirement already satisfied: umap-learn in /opt/conda/lib/python3.7/site-packages (from pycaret==2.2.3) (0.5.1)\r\n",
            "Collecting pyod\r\n",
            "  Downloading pyod-0.8.8.tar.gz (102 kB)\r\n",
            "\u001b[K     |████████████████████████████████| 102 kB 3.5 MB/s \r\n",
            "\u001b[?25hRequirement already satisfied: kmodes>=0.10.1 in /opt/conda/lib/python3.7/site-packages (from pycaret==2.2.3) (0.11.0)\r\n",
            "Collecting mlflow\r\n",
            "  Downloading mlflow-1.16.0-py3-none-any.whl (14.2 MB)\r\n",
            "\u001b[K     |████████████████████████████████| 14.2 MB 766 kB/s \r\n",
            "\u001b[?25hRequirement already satisfied: seaborn in /opt/conda/lib/python3.7/site-packages (from pycaret==2.2.3) (0.11.1)\r\n",
            "Requirement already satisfied: pandas in /opt/conda/lib/python3.7/site-packages (from pycaret==2.2.3) (1.2.3)\r\n",
            "Requirement already satisfied: yellowbrick>=1.0.1 in /opt/conda/lib/python3.7/site-packages (from pycaret==2.2.3) (1.3.post1)\r\n",
            "Requirement already satisfied: spacy in /opt/conda/lib/python3.7/site-packages (from pycaret==2.2.3) (2.3.5)\r\n",
            "Requirement already satisfied: lightgbm>=2.3.1 in /opt/conda/lib/python3.7/site-packages (from pycaret==2.2.3) (3.2.0)\r\n",
            "Requirement already satisfied: threadpoolctl>=2.0.0 in /opt/conda/lib/python3.7/site-packages (from scikit-learn==0.23.2->pycaret==2.2.3) (2.1.0)\r\n",
            "Requirement already satisfied: scipy>=0.19.1 in /opt/conda/lib/python3.7/site-packages (from scikit-learn==0.23.2->pycaret==2.2.3) (1.5.4)\r\n",
            "Requirement already satisfied: graphviz in /opt/conda/lib/python3.7/site-packages (from catboost>=0.23.2->pycaret==2.2.3) (0.8.4)\r\n",
            "Requirement already satisfied: six in /opt/conda/lib/python3.7/site-packages (from catboost>=0.23.2->pycaret==2.2.3) (1.15.0)\r\n",
            "Requirement already satisfied: setuptools>=34.4.1 in /opt/conda/lib/python3.7/site-packages (from cufflinks>=0.17.0->pycaret==2.2.3) (49.6.0.post20210108)\r\n",
            "Requirement already satisfied: colorlover>=0.2.1 in /opt/conda/lib/python3.7/site-packages (from cufflinks>=0.17.0->pycaret==2.2.3) (0.3.0)\r\n",
            "Collecting imbalanced-learn>=0.7.0\r\n",
            "  Downloading imbalanced_learn-0.7.0-py3-none-any.whl (167 kB)\r\n",
            "\u001b[K     |████████████████████████████████| 167 kB 9.4 MB/s \r\n",
            "\u001b[?25hRequirement already satisfied: pickleshare in /opt/conda/lib/python3.7/site-packages (from IPython->pycaret==2.2.3) (0.7.5)\r\n",
            "Requirement already satisfied: pygments in /opt/conda/lib/python3.7/site-packages (from IPython->pycaret==2.2.3) (2.8.1)\r\n",
            "Requirement already satisfied: decorator in /opt/conda/lib/python3.7/site-packages (from IPython->pycaret==2.2.3) (4.4.2)\r\n",
            "Requirement already satisfied: prompt-toolkit!=3.0.0,!=3.0.1,<3.1.0,>=2.0.0 in /opt/conda/lib/python3.7/site-packages (from IPython->pycaret==2.2.3) (3.0.18)\r\n",
            "Requirement already satisfied: backcall in /opt/conda/lib/python3.7/site-packages (from IPython->pycaret==2.2.3) (0.2.0)\r\n",
            "Requirement already satisfied: traitlets>=4.2 in /opt/conda/lib/python3.7/site-packages (from IPython->pycaret==2.2.3) (5.0.5)\r\n",
            "Requirement already satisfied: pexpect>4.3 in /opt/conda/lib/python3.7/site-packages (from IPython->pycaret==2.2.3) (4.8.0)\r\n",
            "Requirement already satisfied: jedi>=0.16 in /opt/conda/lib/python3.7/site-packages (from IPython->pycaret==2.2.3) (0.18.0)\r\n",
            "Requirement already satisfied: jupyterlab-widgets>=1.0.0 in /opt/conda/lib/python3.7/site-packages (from ipywidgets->pycaret==2.2.3) (1.0.0)\r\n",
            "Requirement already satisfied: widgetsnbextension~=3.5.0 in /opt/conda/lib/python3.7/site-packages (from ipywidgets->pycaret==2.2.3) (3.5.1)\r\n",
            "Requirement already satisfied: ipykernel>=4.5.1 in /opt/conda/lib/python3.7/site-packages (from ipywidgets->pycaret==2.2.3) (5.5.0)\r\n",
            "Requirement already satisfied: nbformat>=4.2.0 in /opt/conda/lib/python3.7/site-packages (from ipywidgets->pycaret==2.2.3) (5.1.2)\r\n",
            "Requirement already satisfied: jupyter-client in /opt/conda/lib/python3.7/site-packages (from ipykernel>=4.5.1->ipywidgets->pycaret==2.2.3) (6.1.12)\r\n",
            "Requirement already satisfied: tornado>=4.2 in /opt/conda/lib/python3.7/site-packages (from ipykernel>=4.5.1->ipywidgets->pycaret==2.2.3) (6.1)\r\n",
            "Requirement already satisfied: parso<0.9.0,>=0.8.0 in /opt/conda/lib/python3.7/site-packages (from jedi>=0.16->IPython->pycaret==2.2.3) (0.8.1)\r\n",
            "Requirement already satisfied: wheel in /opt/conda/lib/python3.7/site-packages (from lightgbm>=2.3.1->pycaret==2.2.3) (0.36.2)\r\n",
            "Requirement already satisfied: ipython-genutils in /opt/conda/lib/python3.7/site-packages (from nbformat>=4.2.0->ipywidgets->pycaret==2.2.3) (0.2.0)\r\n",
            "Requirement already satisfied: jsonschema!=2.5.0,>=2.4 in /opt/conda/lib/python3.7/site-packages (from nbformat>=4.2.0->ipywidgets->pycaret==2.2.3) (3.2.0)\r\n",
            "Requirement already satisfied: jupyter-core in /opt/conda/lib/python3.7/site-packages (from nbformat>=4.2.0->ipywidgets->pycaret==2.2.3) (4.7.1)\r\n",
            "Requirement already satisfied: pyrsistent>=0.14.0 in /opt/conda/lib/python3.7/site-packages (from jsonschema!=2.5.0,>=2.4->nbformat>=4.2.0->ipywidgets->pycaret==2.2.3) (0.17.3)\r\n",
            "Requirement already satisfied: importlib-metadata in /opt/conda/lib/python3.7/site-packages (from jsonschema!=2.5.0,>=2.4->nbformat>=4.2.0->ipywidgets->pycaret==2.2.3) (3.4.0)\r\n",
            "Requirement already satisfied: attrs>=17.4.0 in /opt/conda/lib/python3.7/site-packages (from jsonschema!=2.5.0,>=2.4->nbformat>=4.2.0->ipywidgets->pycaret==2.2.3) (20.3.0)\r\n",
            "Requirement already satisfied: python-dateutil>=2.7.3 in /opt/conda/lib/python3.7/site-packages (from pandas->pycaret==2.2.3) (2.8.1)\r\n",
            "Requirement already satisfied: pytz>=2017.3 in /opt/conda/lib/python3.7/site-packages (from pandas->pycaret==2.2.3) (2021.1)\r\n",
            "Requirement already satisfied: confuse>=1.0.0 in /opt/conda/lib/python3.7/site-packages (from pandas-profiling>=2.8.0->pycaret==2.2.3) (1.4.0)\r\n",
            "Requirement already satisfied: htmlmin>=0.1.12 in /opt/conda/lib/python3.7/site-packages (from pandas-profiling>=2.8.0->pycaret==2.2.3) (0.1.12)\r\n",
            "Requirement already satisfied: jinja2>=2.11.1 in /opt/conda/lib/python3.7/site-packages (from pandas-profiling>=2.8.0->pycaret==2.2.3) (2.11.3)\r\n",
            "Requirement already satisfied: missingno>=0.4.2 in /opt/conda/lib/python3.7/site-packages (from pandas-profiling>=2.8.0->pycaret==2.2.3) (0.4.2)\r\n",
            "Requirement already satisfied: requests>=2.24.0 in /opt/conda/lib/python3.7/site-packages (from pandas-profiling>=2.8.0->pycaret==2.2.3) (2.25.1)\r\n",
            "Requirement already satisfied: visions[type_image_path]==0.6.0 in /opt/conda/lib/python3.7/site-packages (from pandas-profiling>=2.8.0->pycaret==2.2.3) (0.6.0)\r\n",
            "Requirement already satisfied: tqdm>=4.48.2 in /opt/conda/lib/python3.7/site-packages (from pandas-profiling>=2.8.0->pycaret==2.2.3) (4.59.0)\r\n",
            "Requirement already satisfied: tangled-up-in-unicode>=0.0.6 in /opt/conda/lib/python3.7/site-packages (from pandas-profiling>=2.8.0->pycaret==2.2.3) (0.0.7)\r\n",
            "Requirement already satisfied: phik>=0.10.0 in /opt/conda/lib/python3.7/site-packages (from pandas-profiling>=2.8.0->pycaret==2.2.3) (0.11.2)\r\n",
            "Requirement already satisfied: networkx>=2.4 in /opt/conda/lib/python3.7/site-packages (from visions[type_image_path]==0.6.0->pandas-profiling>=2.8.0->pycaret==2.2.3) (2.5)\r\n",
            "Requirement already satisfied: imagehash in /opt/conda/lib/python3.7/site-packages (from visions[type_image_path]==0.6.0->pandas-profiling>=2.8.0->pycaret==2.2.3) (4.2.0)\r\n",
            "Requirement already satisfied: Pillow in /opt/conda/lib/python3.7/site-packages (from visions[type_image_path]==0.6.0->pandas-profiling>=2.8.0->pycaret==2.2.3) (7.2.0)\r\n",
            "Requirement already satisfied: pyyaml in /opt/conda/lib/python3.7/site-packages (from confuse>=1.0.0->pandas-profiling>=2.8.0->pycaret==2.2.3) (5.3.1)\r\n",
            "Requirement already satisfied: MarkupSafe>=0.23 in /opt/conda/lib/python3.7/site-packages (from jinja2>=2.11.1->pandas-profiling>=2.8.0->pycaret==2.2.3) (1.1.1)\r\n",
            "Requirement already satisfied: pyparsing>=2.2.1 in /opt/conda/lib/python3.7/site-packages (from matplotlib->pycaret==2.2.3) (2.4.7)\r\n",
            "Requirement already satisfied: cycler>=0.10 in /opt/conda/lib/python3.7/site-packages (from matplotlib->pycaret==2.2.3) (0.10.0)\r\n",
            "Requirement already satisfied: kiwisolver>=1.0.1 in /opt/conda/lib/python3.7/site-packages (from matplotlib->pycaret==2.2.3) (1.3.1)\r\n",
            "Requirement already satisfied: ptyprocess>=0.5 in /opt/conda/lib/python3.7/site-packages (from pexpect>4.3->IPython->pycaret==2.2.3) (0.7.0)\r\n",
            "Requirement already satisfied: retrying>=1.3.3 in /opt/conda/lib/python3.7/site-packages (from plotly>=4.4.1->pycaret==2.2.3) (1.3.3)\r\n",
            "Requirement already satisfied: wcwidth in /opt/conda/lib/python3.7/site-packages (from prompt-toolkit!=3.0.0,!=3.0.1,<3.1.0,>=2.0.0->IPython->pycaret==2.2.3) (0.2.5)\r\n",
            "Requirement already satisfied: idna<3,>=2.5 in /opt/conda/lib/python3.7/site-packages (from requests>=2.24.0->pandas-profiling>=2.8.0->pycaret==2.2.3) (2.10)\r\n",
            "Requirement already satisfied: certifi>=2017.4.17 in /opt/conda/lib/python3.7/site-packages (from requests>=2.24.0->pandas-profiling>=2.8.0->pycaret==2.2.3) (2020.12.5)\r\n",
            "Requirement already satisfied: urllib3<1.27,>=1.21.1 in /opt/conda/lib/python3.7/site-packages (from requests>=2.24.0->pandas-profiling>=2.8.0->pycaret==2.2.3) (1.26.4)\r\n",
            "Requirement already satisfied: chardet<5,>=3.0.2 in /opt/conda/lib/python3.7/site-packages (from requests>=2.24.0->pandas-profiling>=2.8.0->pycaret==2.2.3) (4.0.0)\r\n",
            "Requirement already satisfied: notebook>=4.4.1 in /opt/conda/lib/python3.7/site-packages (from widgetsnbextension~=3.5.0->ipywidgets->pycaret==2.2.3) (6.3.0)\r\n",
            "Requirement already satisfied: argon2-cffi in /opt/conda/lib/python3.7/site-packages (from notebook>=4.4.1->widgetsnbextension~=3.5.0->ipywidgets->pycaret==2.2.3) (20.1.0)\r\n",
            "Requirement already satisfied: Send2Trash>=1.5.0 in /opt/conda/lib/python3.7/site-packages (from notebook>=4.4.1->widgetsnbextension~=3.5.0->ipywidgets->pycaret==2.2.3) (1.5.0)\r\n",
            "Requirement already satisfied: pyzmq>=17 in /opt/conda/lib/python3.7/site-packages (from notebook>=4.4.1->widgetsnbextension~=3.5.0->ipywidgets->pycaret==2.2.3) (22.0.3)\r\n",
            "Requirement already satisfied: terminado>=0.8.3 in /opt/conda/lib/python3.7/site-packages (from notebook>=4.4.1->widgetsnbextension~=3.5.0->ipywidgets->pycaret==2.2.3) (0.9.3)\r\n",
            "Requirement already satisfied: prometheus-client in /opt/conda/lib/python3.7/site-packages (from notebook>=4.4.1->widgetsnbextension~=3.5.0->ipywidgets->pycaret==2.2.3) (0.9.0)\r\n",
            "Requirement already satisfied: nbconvert in /opt/conda/lib/python3.7/site-packages (from notebook>=4.4.1->widgetsnbextension~=3.5.0->ipywidgets->pycaret==2.2.3) (6.0.7)\r\n",
            "Requirement already satisfied: cffi>=1.0.0 in /opt/conda/lib/python3.7/site-packages (from argon2-cffi->notebook>=4.4.1->widgetsnbextension~=3.5.0->ipywidgets->pycaret==2.2.3) (1.14.5)\r\n",
            "Requirement already satisfied: pycparser in /opt/conda/lib/python3.7/site-packages (from cffi>=1.0.0->argon2-cffi->notebook>=4.4.1->widgetsnbextension~=3.5.0->ipywidgets->pycaret==2.2.3) (2.20)\r\n",
            "Requirement already satisfied: smart-open>=1.8.1 in /opt/conda/lib/python3.7/site-packages (from gensim->pycaret==2.2.3) (5.0.0)\r\n",
            "Requirement already satisfied: PyWavelets in /opt/conda/lib/python3.7/site-packages (from imagehash->visions[type_image_path]==0.6.0->pandas-profiling>=2.8.0->pycaret==2.2.3) (1.1.1)\r\n",
            "Requirement already satisfied: zipp>=0.5 in /opt/conda/lib/python3.7/site-packages (from importlib-metadata->jsonschema!=2.5.0,>=2.4->nbformat>=4.2.0->ipywidgets->pycaret==2.2.3) (3.4.1)\r\n",
            "Requirement already satisfied: typing-extensions>=3.6.4 in /opt/conda/lib/python3.7/site-packages (from importlib-metadata->jsonschema!=2.5.0,>=2.4->nbformat>=4.2.0->ipywidgets->pycaret==2.2.3) (3.7.4.3)\r\n",
            "Requirement already satisfied: sqlparse>=0.3.1 in /opt/conda/lib/python3.7/site-packages (from mlflow->pycaret==2.2.3) (0.4.1)\r\n",
            "Collecting databricks-cli>=0.8.7\r\n",
            "  Downloading databricks-cli-0.14.3.tar.gz (54 kB)\r\n",
            "\u001b[K     |████████████████████████████████| 54 kB 1.9 MB/s \r\n",
            "\u001b[?25hRequirement already satisfied: sqlalchemy in /opt/conda/lib/python3.7/site-packages (from mlflow->pycaret==2.2.3) (1.4.3)\r\n",
            "Requirement already satisfied: click>=7.0 in /opt/conda/lib/python3.7/site-packages (from mlflow->pycaret==2.2.3) (7.1.2)\r\n",
            "Requirement already satisfied: cloudpickle in /opt/conda/lib/python3.7/site-packages (from mlflow->pycaret==2.2.3) (1.6.0)\r\n",
            "Requirement already satisfied: entrypoints in /opt/conda/lib/python3.7/site-packages (from mlflow->pycaret==2.2.3) (0.3)\r\n",
            "Requirement already satisfied: gitpython>=2.1.0 in /opt/conda/lib/python3.7/site-packages (from mlflow->pycaret==2.2.3) (3.1.14)\r\n",
            "Collecting querystring-parser\r\n",
            "  Downloading querystring_parser-1.2.4-py2.py3-none-any.whl (7.9 kB)\r\n",
            "Collecting gunicorn\r\n",
            "  Downloading gunicorn-20.1.0-py3-none-any.whl (79 kB)\r\n",
            "\u001b[K     |████████████████████████████████| 79 kB 4.1 MB/s \r\n",
            "\u001b[?25hRequirement already satisfied: Flask in /opt/conda/lib/python3.7/site-packages (from mlflow->pycaret==2.2.3) (1.1.2)\r\n",
            "Collecting alembic<=1.4.1\r\n",
            "  Downloading alembic-1.4.1.tar.gz (1.1 MB)\r\n",
            "\u001b[K     |████████████████████████████████| 1.1 MB 9.1 MB/s \r\n",
            "\u001b[?25hRequirement already satisfied: protobuf>=3.6.0 in /opt/conda/lib/python3.7/site-packages (from mlflow->pycaret==2.2.3) (3.15.8)\r\n",
            "Requirement already satisfied: docker>=4.0.0 in /opt/conda/lib/python3.7/site-packages (from mlflow->pycaret==2.2.3) (4.4.4)\r\n",
            "Collecting prometheus-flask-exporter\r\n",
            "  Downloading prometheus_flask_exporter-0.18.1.tar.gz (21 kB)\r\n",
            "Requirement already satisfied: Mako in /opt/conda/lib/python3.7/site-packages (from alembic<=1.4.1->mlflow->pycaret==2.2.3) (1.1.4)\r\n",
            "Requirement already satisfied: python-editor>=0.3 in /opt/conda/lib/python3.7/site-packages (from alembic<=1.4.1->mlflow->pycaret==2.2.3) (1.0.4)\r\n",
            "Requirement already satisfied: tabulate>=0.7.7 in /opt/conda/lib/python3.7/site-packages (from databricks-cli>=0.8.7->mlflow->pycaret==2.2.3) (0.8.9)\r\n",
            "Requirement already satisfied: websocket-client>=0.32.0 in /opt/conda/lib/python3.7/site-packages (from docker>=4.0.0->mlflow->pycaret==2.2.3) (0.57.0)\r\n",
            "Requirement already satisfied: gitdb<5,>=4.0.1 in /opt/conda/lib/python3.7/site-packages (from gitpython>=2.1.0->mlflow->pycaret==2.2.3) (4.0.7)\r\n",
            "Requirement already satisfied: smmap<5,>=3.0.1 in /opt/conda/lib/python3.7/site-packages (from gitdb<5,>=4.0.1->gitpython>=2.1.0->mlflow->pycaret==2.2.3) (3.0.5)\r\n",
            "Requirement already satisfied: greenlet!=0.4.17 in /opt/conda/lib/python3.7/site-packages (from sqlalchemy->mlflow->pycaret==2.2.3) (1.0.0)\r\n",
            "Requirement already satisfied: Werkzeug>=0.15 in /opt/conda/lib/python3.7/site-packages (from Flask->mlflow->pycaret==2.2.3) (1.0.1)\r\n",
            "Requirement already satisfied: itsdangerous>=0.24 in /opt/conda/lib/python3.7/site-packages (from Flask->mlflow->pycaret==2.2.3) (1.1.0)\r\n",
            "Requirement already satisfied: defusedxml in /opt/conda/lib/python3.7/site-packages (from nbconvert->notebook>=4.4.1->widgetsnbextension~=3.5.0->ipywidgets->pycaret==2.2.3) (0.7.1)\r\n",
            "Requirement already satisfied: pandocfilters>=1.4.1 in /opt/conda/lib/python3.7/site-packages (from nbconvert->notebook>=4.4.1->widgetsnbextension~=3.5.0->ipywidgets->pycaret==2.2.3) (1.4.2)\r\n",
            "Requirement already satisfied: bleach in /opt/conda/lib/python3.7/site-packages (from nbconvert->notebook>=4.4.1->widgetsnbextension~=3.5.0->ipywidgets->pycaret==2.2.3) (3.3.0)\r\n",
            "Requirement already satisfied: jupyterlab-pygments in /opt/conda/lib/python3.7/site-packages (from nbconvert->notebook>=4.4.1->widgetsnbextension~=3.5.0->ipywidgets->pycaret==2.2.3) (0.1.2)\r\n",
            "Requirement already satisfied: mistune<2,>=0.8.1 in /opt/conda/lib/python3.7/site-packages (from nbconvert->notebook>=4.4.1->widgetsnbextension~=3.5.0->ipywidgets->pycaret==2.2.3) (0.8.4)\r\n",
            "Requirement already satisfied: nbclient<0.6.0,>=0.5.0 in /opt/conda/lib/python3.7/site-packages (from nbconvert->notebook>=4.4.1->widgetsnbextension~=3.5.0->ipywidgets->pycaret==2.2.3) (0.5.3)\r\n",
            "Requirement already satisfied: testpath in /opt/conda/lib/python3.7/site-packages (from nbconvert->notebook>=4.4.1->widgetsnbextension~=3.5.0->ipywidgets->pycaret==2.2.3) (0.4.4)\r\n",
            "Requirement already satisfied: nest-asyncio in /opt/conda/lib/python3.7/site-packages (from nbclient<0.6.0,>=0.5.0->nbconvert->notebook>=4.4.1->widgetsnbextension~=3.5.0->ipywidgets->pycaret==2.2.3) (1.4.3)\r\n",
            "Requirement already satisfied: async-generator in /opt/conda/lib/python3.7/site-packages (from nbclient<0.6.0,>=0.5.0->nbconvert->notebook>=4.4.1->widgetsnbextension~=3.5.0->ipywidgets->pycaret==2.2.3) (1.10)\r\n",
            "Requirement already satisfied: webencodings in /opt/conda/lib/python3.7/site-packages (from bleach->nbconvert->notebook>=4.4.1->widgetsnbextension~=3.5.0->ipywidgets->pycaret==2.2.3) (0.5.1)\r\n",
            "Requirement already satisfied: packaging in /opt/conda/lib/python3.7/site-packages (from bleach->nbconvert->notebook>=4.4.1->widgetsnbextension~=3.5.0->ipywidgets->pycaret==2.2.3) (20.9)\r\n",
            "Requirement already satisfied: future in /opt/conda/lib/python3.7/site-packages (from pyLDAvis->pycaret==2.2.3) (0.18.2)\r\n",
            "Requirement already satisfied: funcy in /opt/conda/lib/python3.7/site-packages (from pyLDAvis->pycaret==2.2.3) (1.15)\r\n",
            "Requirement already satisfied: numexpr in /opt/conda/lib/python3.7/site-packages (from pyLDAvis->pycaret==2.2.3) (2.7.3)\r\n",
            "Requirement already satisfied: sklearn in /opt/conda/lib/python3.7/site-packages (from pyLDAvis->pycaret==2.2.3) (0.0)\r\n",
            "Collecting pyLDAvis\r\n",
            "  Downloading pyLDAvis-3.3.0.tar.gz (1.7 MB)\r\n",
            "\u001b[K     |████████████████████████████████| 1.7 MB 9.1 MB/s \r\n",
            "\u001b[?25h  Installing build dependencies ... \u001b[?25l-\b \b\\\b \b|\b \b/\b \bdone\r\n",
            "\u001b[?25h  Getting requirements to build wheel ... \u001b[?25l-\b \bdone\r\n",
            "\u001b[?25h  Installing backend dependencies ... \u001b[?25l-\b \b\\\b \b|\b \bdone\r\n",
            "\u001b[?25h    Preparing wheel metadata ... \u001b[?25l-\b \bdone\r\n",
            "\u001b[?25h  Downloading pyLDAvis-3.2.2.tar.gz (1.7 MB)\r\n",
            "\u001b[K     |████████████████████████████████| 1.7 MB 10.6 MB/s \r\n",
            "\u001b[?25hRequirement already satisfied: numba>=0.35 in /opt/conda/lib/python3.7/site-packages (from pyod->pycaret==2.2.3) (0.53.1)\r\n",
            "Requirement already satisfied: statsmodels in /opt/conda/lib/python3.7/site-packages (from pyod->pycaret==2.2.3) (0.12.2)\r\n",
            "Requirement already satisfied: llvmlite<0.37,>=0.36.0rc1 in /opt/conda/lib/python3.7/site-packages (from numba>=0.35->pyod->pycaret==2.2.3) (0.36.0)\r\n",
            "Requirement already satisfied: catalogue<1.1.0,>=0.0.7 in /opt/conda/lib/python3.7/site-packages (from spacy->pycaret==2.2.3) (1.0.0)\r\n",
            "Requirement already satisfied: plac<1.2.0,>=0.9.6 in /opt/conda/lib/python3.7/site-packages (from spacy->pycaret==2.2.3) (1.1.3)\r\n",
            "Requirement already satisfied: cymem<2.1.0,>=2.0.2 in /opt/conda/lib/python3.7/site-packages (from spacy->pycaret==2.2.3) (2.0.5)\r\n",
            "Requirement already satisfied: blis<0.8.0,>=0.4.0 in /opt/conda/lib/python3.7/site-packages (from spacy->pycaret==2.2.3) (0.7.4)\r\n",
            "Requirement already satisfied: murmurhash<1.1.0,>=0.28.0 in /opt/conda/lib/python3.7/site-packages (from spacy->pycaret==2.2.3) (1.0.5)\r\n",
            "Requirement already satisfied: wasabi<1.1.0,>=0.4.0 in /opt/conda/lib/python3.7/site-packages (from spacy->pycaret==2.2.3) (0.8.2)\r\n",
            "Requirement already satisfied: thinc<7.5.0,>=7.4.1 in /opt/conda/lib/python3.7/site-packages (from spacy->pycaret==2.2.3) (7.4.5)\r\n",
            "Requirement already satisfied: srsly<1.1.0,>=1.0.2 in /opt/conda/lib/python3.7/site-packages (from spacy->pycaret==2.2.3) (1.0.5)\r\n",
            "Requirement already satisfied: preshed<3.1.0,>=3.0.2 in /opt/conda/lib/python3.7/site-packages (from spacy->pycaret==2.2.3) (3.0.5)\r\n",
            "Requirement already satisfied: patsy>=0.5 in /opt/conda/lib/python3.7/site-packages (from statsmodels->pyod->pycaret==2.2.3) (0.5.1)\r\n",
            "Requirement already satisfied: pynndescent>=0.5 in /opt/conda/lib/python3.7/site-packages (from umap-learn->pycaret==2.2.3) (0.5.2)\r\n",
            "Building wheels for collected packages: alembic, databricks-cli, prometheus-flask-exporter, pyLDAvis, pyod\r\n",
            "  Building wheel for alembic (setup.py) ... \u001b[?25l-\b \b\\\b \b|\b \bdone\r\n",
            "\u001b[?25h  Created wheel for alembic: filename=alembic-1.4.1-py2.py3-none-any.whl size=158155 sha256=70d93f0d54782d162012e2d05104fb40e7f29daa8c090da2d57075c3b63f9784\r\n",
            "  Stored in directory: /root/.cache/pip/wheels/be/5d/0a/9e13f53f4f5dfb67cd8d245bb7cdffe12f135846f491a283e3\r\n",
            "  Building wheel for databricks-cli (setup.py) ... \u001b[?25l-\b \b\\\b \b|\b \bdone\r\n",
            "\u001b[?25h  Created wheel for databricks-cli: filename=databricks_cli-0.14.3-py3-none-any.whl size=100555 sha256=0e4a24c2891c67eafa5d9163c0ce348f2fc2a32c2fd6227b2091b68577e70dd2\r\n",
            "  Stored in directory: /root/.cache/pip/wheels/3b/60/14/6930445b08959fbdf4e3029bac7e1f2cccb2e94df8afa00b29\r\n",
            "  Building wheel for prometheus-flask-exporter (setup.py) ... \u001b[?25l-\b \b\\\b \bdone\r\n",
            "\u001b[?25h  Created wheel for prometheus-flask-exporter: filename=prometheus_flask_exporter-0.18.1-py3-none-any.whl size=17158 sha256=f278bdb00d20fa4295ca2016b98266669a43c41568d915bb283e31b7bf69dcdf\r\n",
            "  Stored in directory: /root/.cache/pip/wheels/c4/b6/b5/e76659f3b2a3a226565e27f0a7eb7a3ac93c3f4d68acfbe617\r\n",
            "  Building wheel for pyLDAvis (setup.py) ... \u001b[?25l-\b \b\\\b \bdone\r\n",
            "\u001b[?25h  Created wheel for pyLDAvis: filename=pyLDAvis-3.2.2-py2.py3-none-any.whl size=135593 sha256=44e3fae67787365b3e4ff67c0e914d27015efa2838d64fb4dcf79f2c27dd4895\r\n",
            "  Stored in directory: /root/.cache/pip/wheels/f8/b1/9b/560ac1931796b7303f7b517b949d2d31a4fbc512aad3b9f284\r\n",
            "  Building wheel for pyod (setup.py) ... \u001b[?25l-\b \b\\\b \bdone\r\n",
            "\u001b[?25h  Created wheel for pyod: filename=pyod-0.8.8-py3-none-any.whl size=116965 sha256=7991362f4ead1467b8b25356ed2cd4f1c7d30a19220ba9798c6ff159bacd10c5\r\n",
            "  Stored in directory: /root/.cache/pip/wheels/77/59/4c/18e7ef198e2c737674b0bd8b6fa0fb1163c83ecc4e622fbda4\r\n",
            "Successfully built alembic databricks-cli prometheus-flask-exporter pyLDAvis pyod\r\n",
            "Installing collected packages: querystring-parser, prometheus-flask-exporter, gunicorn, databricks-cli, alembic, pyod, pyLDAvis, mlflow, imbalanced-learn, pycaret\r\n",
            "  Attempting uninstall: alembic\r\n",
            "    Found existing installation: alembic 1.5.8\r\n",
            "    Uninstalling alembic-1.5.8:\r\n",
            "      Successfully uninstalled alembic-1.5.8\r\n",
            "  Attempting uninstall: pyLDAvis\r\n",
            "    Found existing installation: pyLDAvis 3.3.1\r\n",
            "    Uninstalling pyLDAvis-3.3.1:\r\n",
            "      Successfully uninstalled pyLDAvis-3.3.1\r\n",
            "  Attempting uninstall: imbalanced-learn\r\n",
            "    Found existing installation: imbalanced-learn 0.8.0\r\n",
            "    Uninstalling imbalanced-learn-0.8.0:\r\n",
            "      Successfully uninstalled imbalanced-learn-0.8.0\r\n",
            "Successfully installed alembic-1.4.1 databricks-cli-0.14.3 gunicorn-20.1.0 imbalanced-learn-0.7.0 mlflow-1.16.0 prometheus-flask-exporter-0.18.1 pyLDAvis-3.2.2 pycaret-2.2.3 pyod-0.8.8 querystring-parser-1.2.4\r\n"
          ],
          "name": "stdout"
        }
      ]
    },
    {
      "cell_type": "code",
      "metadata": {
        "execution": {
          "iopub.execute_input": "2021-04-28T08:16:37.223849Z",
          "iopub.status.busy": "2021-04-28T08:16:37.223093Z",
          "iopub.status.idle": "2021-04-28T08:16:37.229740Z",
          "shell.execute_reply": "2021-04-28T08:16:37.230259Z"
        },
        "papermill": {
          "duration": 0.142593,
          "end_time": "2021-04-28T08:16:37.230441",
          "exception": false,
          "start_time": "2021-04-28T08:16:37.087848",
          "status": "completed"
        },
        "tags": [],
        "id": "ongoing-seafood",
        "outputId": "50236660-27af-45c9-901e-188665894f8f"
      },
      "source": [
        "from pycaret.utils import version\n",
        "import sklearn\n",
        "print(\"pycaret version:\", version())\n",
        "print(\"sklearn version:\", sklearn.__version__)"
      ],
      "id": "ongoing-seafood",
      "execution_count": null,
      "outputs": [
        {
          "output_type": "stream",
          "text": [
            "pycaret version: 2.2.3\n",
            "sklearn version: 0.23.2\n"
          ],
          "name": "stdout"
        }
      ]
    },
    {
      "cell_type": "code",
      "metadata": {
        "papermill": {
          "duration": 0.132014,
          "end_time": "2021-04-28T08:16:37.493513",
          "exception": false,
          "start_time": "2021-04-28T08:16:37.361499",
          "status": "completed"
        },
        "tags": [],
        "id": "little-design"
      },
      "source": [
        ""
      ],
      "id": "little-design",
      "execution_count": null,
      "outputs": []
    },
    {
      "cell_type": "code",
      "metadata": {
        "execution": {
          "iopub.execute_input": "2021-04-28T08:16:37.761699Z",
          "iopub.status.busy": "2021-04-28T08:16:37.760829Z",
          "iopub.status.idle": "2021-04-28T08:16:37.776359Z",
          "shell.execute_reply": "2021-04-28T08:16:37.775769Z"
        },
        "papermill": {
          "duration": 0.152682,
          "end_time": "2021-04-28T08:16:37.776501",
          "exception": false,
          "start_time": "2021-04-28T08:16:37.623819",
          "status": "completed"
        },
        "tags": [],
        "id": "median-remains"
      },
      "source": [
        "train = all_df.iloc[:100000, :]#0개~100000개\n",
        "test = all_df.iloc[100000:, :] #100000개~ \n",
        "#iloc은 정수형 인덱싱\n",
        "test = test.drop('Survived', axis=1) #test에서 종속변수를 드랍한다. \n",
        "model_results = pd.DataFrame()\n",
        "folds = 5"
      ],
      "id": "median-remains",
      "execution_count": null,
      "outputs": []
    },
    {
      "cell_type": "code",
      "metadata": {
        "papermill": {
          "duration": 0.131594,
          "end_time": "2021-04-28T08:16:38.042038",
          "exception": false,
          "start_time": "2021-04-28T08:16:37.910444",
          "status": "completed"
        },
        "tags": [],
        "id": "informed-institute"
      },
      "source": [
        ""
      ],
      "id": "informed-institute",
      "execution_count": null,
      "outputs": []
    },
    {
      "cell_type": "code",
      "metadata": {
        "execution": {
          "iopub.execute_input": "2021-04-28T08:16:38.309895Z",
          "iopub.status.busy": "2021-04-28T08:16:38.309214Z",
          "iopub.status.idle": "2021-04-28T08:16:38.321922Z",
          "shell.execute_reply": "2021-04-28T08:16:38.321377Z"
        },
        "papermill": {
          "duration": 0.14842,
          "end_time": "2021-04-28T08:16:38.322077",
          "exception": false,
          "start_time": "2021-04-28T08:16:38.173657",
          "status": "completed"
        },
        "tags": [],
        "id": "educated-manor"
      },
      "source": [
        "caret_train=train.drop('Parch', axis = 1)"
      ],
      "id": "educated-manor",
      "execution_count": null,
      "outputs": []
    },
    {
      "cell_type": "code",
      "metadata": {
        "execution": {
          "iopub.execute_input": "2021-04-28T08:16:38.592619Z",
          "iopub.status.busy": "2021-04-28T08:16:38.591903Z",
          "iopub.status.idle": "2021-04-28T08:16:43.642543Z",
          "shell.execute_reply": "2021-04-28T08:16:43.643069Z"
        },
        "papermill": {
          "duration": 5.188974,
          "end_time": "2021-04-28T08:16:43.643254",
          "exception": false,
          "start_time": "2021-04-28T08:16:38.454280",
          "status": "completed"
        },
        "tags": [],
        "id": "african-immune",
        "outputId": "9f6608b0-5637-4cf9-b2d2-74c9e7f31e95"
      },
      "source": [
        "\n",
        "category_caret={'Sex':['0','1'],'Pclass':['0','1','2'], 'Embarked':['0','1','2','3']}\n",
        "from pycaret.classification import *\n",
        "\n",
        "\n",
        "setup(data = caret_train, \n",
        "      target = 'Survived',\n",
        "      ordinal_features= category_caret,\n",
        "      #numeric_imputation = 'Age','SibSp','Name','Ticket','Fare',\n",
        "      fold=5,\n",
        "      silent = True,\n",
        "      session_id=1,\n",
        "      #data_split_shuffle=True\n",
        "      fold_shuffle=True\n",
        "\n",
        "     )\n",
        "\n"
      ],
      "id": "african-immune",
      "execution_count": null,
      "outputs": [
        {
          "output_type": "display_data",
          "data": {
            "text/html": [
              "<style  type=\"text/css\" >\n",
              "#T_e408c_row0_col1,#T_e408c_row8_col1{\n",
              "            background-color:  lightgreen;\n",
              "        }</style><table id=\"T_e408c_\" ><thead>    <tr>        <th class=\"blank level0\" ></th>        <th class=\"col_heading level0 col0\" >Description</th>        <th class=\"col_heading level0 col1\" >Value</th>    </tr></thead><tbody>\n",
              "                <tr>\n",
              "                        <th id=\"T_e408c_level0_row0\" class=\"row_heading level0 row0\" >0</th>\n",
              "                        <td id=\"T_e408c_row0_col0\" class=\"data row0 col0\" >session_id</td>\n",
              "                        <td id=\"T_e408c_row0_col1\" class=\"data row0 col1\" >1</td>\n",
              "            </tr>\n",
              "            <tr>\n",
              "                        <th id=\"T_e408c_level0_row1\" class=\"row_heading level0 row1\" >1</th>\n",
              "                        <td id=\"T_e408c_row1_col0\" class=\"data row1 col0\" >Target</td>\n",
              "                        <td id=\"T_e408c_row1_col1\" class=\"data row1 col1\" >Survived</td>\n",
              "            </tr>\n",
              "            <tr>\n",
              "                        <th id=\"T_e408c_level0_row2\" class=\"row_heading level0 row2\" >2</th>\n",
              "                        <td id=\"T_e408c_row2_col0\" class=\"data row2 col0\" >Target Type</td>\n",
              "                        <td id=\"T_e408c_row2_col1\" class=\"data row2 col1\" >Binary</td>\n",
              "            </tr>\n",
              "            <tr>\n",
              "                        <th id=\"T_e408c_level0_row3\" class=\"row_heading level0 row3\" >3</th>\n",
              "                        <td id=\"T_e408c_row3_col0\" class=\"data row3 col0\" >Label Encoded</td>\n",
              "                        <td id=\"T_e408c_row3_col1\" class=\"data row3 col1\" >0.0: 0, 1.0: 1</td>\n",
              "            </tr>\n",
              "            <tr>\n",
              "                        <th id=\"T_e408c_level0_row4\" class=\"row_heading level0 row4\" >4</th>\n",
              "                        <td id=\"T_e408c_row4_col0\" class=\"data row4 col0\" >Original Data</td>\n",
              "                        <td id=\"T_e408c_row4_col1\" class=\"data row4 col1\" >(100000, 18)</td>\n",
              "            </tr>\n",
              "            <tr>\n",
              "                        <th id=\"T_e408c_level0_row5\" class=\"row_heading level0 row5\" >5</th>\n",
              "                        <td id=\"T_e408c_row5_col0\" class=\"data row5 col0\" >Missing Values</td>\n",
              "                        <td id=\"T_e408c_row5_col1\" class=\"data row5 col1\" >False</td>\n",
              "            </tr>\n",
              "            <tr>\n",
              "                        <th id=\"T_e408c_level0_row6\" class=\"row_heading level0 row6\" >6</th>\n",
              "                        <td id=\"T_e408c_row6_col0\" class=\"data row6 col0\" >Numeric Features</td>\n",
              "                        <td id=\"T_e408c_row6_col1\" class=\"data row6 col1\" >14</td>\n",
              "            </tr>\n",
              "            <tr>\n",
              "                        <th id=\"T_e408c_level0_row7\" class=\"row_heading level0 row7\" >7</th>\n",
              "                        <td id=\"T_e408c_row7_col0\" class=\"data row7 col0\" >Categorical Features</td>\n",
              "                        <td id=\"T_e408c_row7_col1\" class=\"data row7 col1\" >3</td>\n",
              "            </tr>\n",
              "            <tr>\n",
              "                        <th id=\"T_e408c_level0_row8\" class=\"row_heading level0 row8\" >8</th>\n",
              "                        <td id=\"T_e408c_row8_col0\" class=\"data row8 col0\" >Ordinal Features</td>\n",
              "                        <td id=\"T_e408c_row8_col1\" class=\"data row8 col1\" >True</td>\n",
              "            </tr>\n",
              "            <tr>\n",
              "                        <th id=\"T_e408c_level0_row9\" class=\"row_heading level0 row9\" >9</th>\n",
              "                        <td id=\"T_e408c_row9_col0\" class=\"data row9 col0\" >High Cardinality Features</td>\n",
              "                        <td id=\"T_e408c_row9_col1\" class=\"data row9 col1\" >False</td>\n",
              "            </tr>\n",
              "            <tr>\n",
              "                        <th id=\"T_e408c_level0_row10\" class=\"row_heading level0 row10\" >10</th>\n",
              "                        <td id=\"T_e408c_row10_col0\" class=\"data row10 col0\" >High Cardinality Method</td>\n",
              "                        <td id=\"T_e408c_row10_col1\" class=\"data row10 col1\" >None</td>\n",
              "            </tr>\n",
              "            <tr>\n",
              "                        <th id=\"T_e408c_level0_row11\" class=\"row_heading level0 row11\" >11</th>\n",
              "                        <td id=\"T_e408c_row11_col0\" class=\"data row11 col0\" >Transformed Train Set</td>\n",
              "                        <td id=\"T_e408c_row11_col1\" class=\"data row11 col1\" >(69999, 17)</td>\n",
              "            </tr>\n",
              "            <tr>\n",
              "                        <th id=\"T_e408c_level0_row12\" class=\"row_heading level0 row12\" >12</th>\n",
              "                        <td id=\"T_e408c_row12_col0\" class=\"data row12 col0\" >Transformed Test Set</td>\n",
              "                        <td id=\"T_e408c_row12_col1\" class=\"data row12 col1\" >(30001, 17)</td>\n",
              "            </tr>\n",
              "            <tr>\n",
              "                        <th id=\"T_e408c_level0_row13\" class=\"row_heading level0 row13\" >13</th>\n",
              "                        <td id=\"T_e408c_row13_col0\" class=\"data row13 col0\" >Shuffle Train-Test</td>\n",
              "                        <td id=\"T_e408c_row13_col1\" class=\"data row13 col1\" >True</td>\n",
              "            </tr>\n",
              "            <tr>\n",
              "                        <th id=\"T_e408c_level0_row14\" class=\"row_heading level0 row14\" >14</th>\n",
              "                        <td id=\"T_e408c_row14_col0\" class=\"data row14 col0\" >Stratify Train-Test</td>\n",
              "                        <td id=\"T_e408c_row14_col1\" class=\"data row14 col1\" >False</td>\n",
              "            </tr>\n",
              "            <tr>\n",
              "                        <th id=\"T_e408c_level0_row15\" class=\"row_heading level0 row15\" >15</th>\n",
              "                        <td id=\"T_e408c_row15_col0\" class=\"data row15 col0\" >Fold Generator</td>\n",
              "                        <td id=\"T_e408c_row15_col1\" class=\"data row15 col1\" >StratifiedKFold</td>\n",
              "            </tr>\n",
              "            <tr>\n",
              "                        <th id=\"T_e408c_level0_row16\" class=\"row_heading level0 row16\" >16</th>\n",
              "                        <td id=\"T_e408c_row16_col0\" class=\"data row16 col0\" >Fold Number</td>\n",
              "                        <td id=\"T_e408c_row16_col1\" class=\"data row16 col1\" >5</td>\n",
              "            </tr>\n",
              "            <tr>\n",
              "                        <th id=\"T_e408c_level0_row17\" class=\"row_heading level0 row17\" >17</th>\n",
              "                        <td id=\"T_e408c_row17_col0\" class=\"data row17 col0\" >CPU Jobs</td>\n",
              "                        <td id=\"T_e408c_row17_col1\" class=\"data row17 col1\" >-1</td>\n",
              "            </tr>\n",
              "            <tr>\n",
              "                        <th id=\"T_e408c_level0_row18\" class=\"row_heading level0 row18\" >18</th>\n",
              "                        <td id=\"T_e408c_row18_col0\" class=\"data row18 col0\" >Use GPU</td>\n",
              "                        <td id=\"T_e408c_row18_col1\" class=\"data row18 col1\" >False</td>\n",
              "            </tr>\n",
              "            <tr>\n",
              "                        <th id=\"T_e408c_level0_row19\" class=\"row_heading level0 row19\" >19</th>\n",
              "                        <td id=\"T_e408c_row19_col0\" class=\"data row19 col0\" >Log Experiment</td>\n",
              "                        <td id=\"T_e408c_row19_col1\" class=\"data row19 col1\" >False</td>\n",
              "            </tr>\n",
              "            <tr>\n",
              "                        <th id=\"T_e408c_level0_row20\" class=\"row_heading level0 row20\" >20</th>\n",
              "                        <td id=\"T_e408c_row20_col0\" class=\"data row20 col0\" >Experiment Name</td>\n",
              "                        <td id=\"T_e408c_row20_col1\" class=\"data row20 col1\" >clf-default-name</td>\n",
              "            </tr>\n",
              "            <tr>\n",
              "                        <th id=\"T_e408c_level0_row21\" class=\"row_heading level0 row21\" >21</th>\n",
              "                        <td id=\"T_e408c_row21_col0\" class=\"data row21 col0\" >USI</td>\n",
              "                        <td id=\"T_e408c_row21_col1\" class=\"data row21 col1\" >fbd3</td>\n",
              "            </tr>\n",
              "            <tr>\n",
              "                        <th id=\"T_e408c_level0_row22\" class=\"row_heading level0 row22\" >22</th>\n",
              "                        <td id=\"T_e408c_row22_col0\" class=\"data row22 col0\" >Imputation Type</td>\n",
              "                        <td id=\"T_e408c_row22_col1\" class=\"data row22 col1\" >simple</td>\n",
              "            </tr>\n",
              "            <tr>\n",
              "                        <th id=\"T_e408c_level0_row23\" class=\"row_heading level0 row23\" >23</th>\n",
              "                        <td id=\"T_e408c_row23_col0\" class=\"data row23 col0\" >Iterative Imputation Iteration</td>\n",
              "                        <td id=\"T_e408c_row23_col1\" class=\"data row23 col1\" >None</td>\n",
              "            </tr>\n",
              "            <tr>\n",
              "                        <th id=\"T_e408c_level0_row24\" class=\"row_heading level0 row24\" >24</th>\n",
              "                        <td id=\"T_e408c_row24_col0\" class=\"data row24 col0\" >Numeric Imputer</td>\n",
              "                        <td id=\"T_e408c_row24_col1\" class=\"data row24 col1\" >mean</td>\n",
              "            </tr>\n",
              "            <tr>\n",
              "                        <th id=\"T_e408c_level0_row25\" class=\"row_heading level0 row25\" >25</th>\n",
              "                        <td id=\"T_e408c_row25_col0\" class=\"data row25 col0\" >Iterative Imputation Numeric Model</td>\n",
              "                        <td id=\"T_e408c_row25_col1\" class=\"data row25 col1\" >None</td>\n",
              "            </tr>\n",
              "            <tr>\n",
              "                        <th id=\"T_e408c_level0_row26\" class=\"row_heading level0 row26\" >26</th>\n",
              "                        <td id=\"T_e408c_row26_col0\" class=\"data row26 col0\" >Categorical Imputer</td>\n",
              "                        <td id=\"T_e408c_row26_col1\" class=\"data row26 col1\" >constant</td>\n",
              "            </tr>\n",
              "            <tr>\n",
              "                        <th id=\"T_e408c_level0_row27\" class=\"row_heading level0 row27\" >27</th>\n",
              "                        <td id=\"T_e408c_row27_col0\" class=\"data row27 col0\" >Iterative Imputation Categorical Model</td>\n",
              "                        <td id=\"T_e408c_row27_col1\" class=\"data row27 col1\" >None</td>\n",
              "            </tr>\n",
              "            <tr>\n",
              "                        <th id=\"T_e408c_level0_row28\" class=\"row_heading level0 row28\" >28</th>\n",
              "                        <td id=\"T_e408c_row28_col0\" class=\"data row28 col0\" >Unknown Categoricals Handling</td>\n",
              "                        <td id=\"T_e408c_row28_col1\" class=\"data row28 col1\" >least_frequent</td>\n",
              "            </tr>\n",
              "            <tr>\n",
              "                        <th id=\"T_e408c_level0_row29\" class=\"row_heading level0 row29\" >29</th>\n",
              "                        <td id=\"T_e408c_row29_col0\" class=\"data row29 col0\" >Normalize</td>\n",
              "                        <td id=\"T_e408c_row29_col1\" class=\"data row29 col1\" >False</td>\n",
              "            </tr>\n",
              "            <tr>\n",
              "                        <th id=\"T_e408c_level0_row30\" class=\"row_heading level0 row30\" >30</th>\n",
              "                        <td id=\"T_e408c_row30_col0\" class=\"data row30 col0\" >Normalize Method</td>\n",
              "                        <td id=\"T_e408c_row30_col1\" class=\"data row30 col1\" >None</td>\n",
              "            </tr>\n",
              "            <tr>\n",
              "                        <th id=\"T_e408c_level0_row31\" class=\"row_heading level0 row31\" >31</th>\n",
              "                        <td id=\"T_e408c_row31_col0\" class=\"data row31 col0\" >Transformation</td>\n",
              "                        <td id=\"T_e408c_row31_col1\" class=\"data row31 col1\" >False</td>\n",
              "            </tr>\n",
              "            <tr>\n",
              "                        <th id=\"T_e408c_level0_row32\" class=\"row_heading level0 row32\" >32</th>\n",
              "                        <td id=\"T_e408c_row32_col0\" class=\"data row32 col0\" >Transformation Method</td>\n",
              "                        <td id=\"T_e408c_row32_col1\" class=\"data row32 col1\" >None</td>\n",
              "            </tr>\n",
              "            <tr>\n",
              "                        <th id=\"T_e408c_level0_row33\" class=\"row_heading level0 row33\" >33</th>\n",
              "                        <td id=\"T_e408c_row33_col0\" class=\"data row33 col0\" >PCA</td>\n",
              "                        <td id=\"T_e408c_row33_col1\" class=\"data row33 col1\" >False</td>\n",
              "            </tr>\n",
              "            <tr>\n",
              "                        <th id=\"T_e408c_level0_row34\" class=\"row_heading level0 row34\" >34</th>\n",
              "                        <td id=\"T_e408c_row34_col0\" class=\"data row34 col0\" >PCA Method</td>\n",
              "                        <td id=\"T_e408c_row34_col1\" class=\"data row34 col1\" >None</td>\n",
              "            </tr>\n",
              "            <tr>\n",
              "                        <th id=\"T_e408c_level0_row35\" class=\"row_heading level0 row35\" >35</th>\n",
              "                        <td id=\"T_e408c_row35_col0\" class=\"data row35 col0\" >PCA Components</td>\n",
              "                        <td id=\"T_e408c_row35_col1\" class=\"data row35 col1\" >None</td>\n",
              "            </tr>\n",
              "            <tr>\n",
              "                        <th id=\"T_e408c_level0_row36\" class=\"row_heading level0 row36\" >36</th>\n",
              "                        <td id=\"T_e408c_row36_col0\" class=\"data row36 col0\" >Ignore Low Variance</td>\n",
              "                        <td id=\"T_e408c_row36_col1\" class=\"data row36 col1\" >False</td>\n",
              "            </tr>\n",
              "            <tr>\n",
              "                        <th id=\"T_e408c_level0_row37\" class=\"row_heading level0 row37\" >37</th>\n",
              "                        <td id=\"T_e408c_row37_col0\" class=\"data row37 col0\" >Combine Rare Levels</td>\n",
              "                        <td id=\"T_e408c_row37_col1\" class=\"data row37 col1\" >False</td>\n",
              "            </tr>\n",
              "            <tr>\n",
              "                        <th id=\"T_e408c_level0_row38\" class=\"row_heading level0 row38\" >38</th>\n",
              "                        <td id=\"T_e408c_row38_col0\" class=\"data row38 col0\" >Rare Level Threshold</td>\n",
              "                        <td id=\"T_e408c_row38_col1\" class=\"data row38 col1\" >None</td>\n",
              "            </tr>\n",
              "            <tr>\n",
              "                        <th id=\"T_e408c_level0_row39\" class=\"row_heading level0 row39\" >39</th>\n",
              "                        <td id=\"T_e408c_row39_col0\" class=\"data row39 col0\" >Numeric Binning</td>\n",
              "                        <td id=\"T_e408c_row39_col1\" class=\"data row39 col1\" >False</td>\n",
              "            </tr>\n",
              "            <tr>\n",
              "                        <th id=\"T_e408c_level0_row40\" class=\"row_heading level0 row40\" >40</th>\n",
              "                        <td id=\"T_e408c_row40_col0\" class=\"data row40 col0\" >Remove Outliers</td>\n",
              "                        <td id=\"T_e408c_row40_col1\" class=\"data row40 col1\" >False</td>\n",
              "            </tr>\n",
              "            <tr>\n",
              "                        <th id=\"T_e408c_level0_row41\" class=\"row_heading level0 row41\" >41</th>\n",
              "                        <td id=\"T_e408c_row41_col0\" class=\"data row41 col0\" >Outliers Threshold</td>\n",
              "                        <td id=\"T_e408c_row41_col1\" class=\"data row41 col1\" >None</td>\n",
              "            </tr>\n",
              "            <tr>\n",
              "                        <th id=\"T_e408c_level0_row42\" class=\"row_heading level0 row42\" >42</th>\n",
              "                        <td id=\"T_e408c_row42_col0\" class=\"data row42 col0\" >Remove Multicollinearity</td>\n",
              "                        <td id=\"T_e408c_row42_col1\" class=\"data row42 col1\" >False</td>\n",
              "            </tr>\n",
              "            <tr>\n",
              "                        <th id=\"T_e408c_level0_row43\" class=\"row_heading level0 row43\" >43</th>\n",
              "                        <td id=\"T_e408c_row43_col0\" class=\"data row43 col0\" >Multicollinearity Threshold</td>\n",
              "                        <td id=\"T_e408c_row43_col1\" class=\"data row43 col1\" >None</td>\n",
              "            </tr>\n",
              "            <tr>\n",
              "                        <th id=\"T_e408c_level0_row44\" class=\"row_heading level0 row44\" >44</th>\n",
              "                        <td id=\"T_e408c_row44_col0\" class=\"data row44 col0\" >Clustering</td>\n",
              "                        <td id=\"T_e408c_row44_col1\" class=\"data row44 col1\" >False</td>\n",
              "            </tr>\n",
              "            <tr>\n",
              "                        <th id=\"T_e408c_level0_row45\" class=\"row_heading level0 row45\" >45</th>\n",
              "                        <td id=\"T_e408c_row45_col0\" class=\"data row45 col0\" >Clustering Iteration</td>\n",
              "                        <td id=\"T_e408c_row45_col1\" class=\"data row45 col1\" >None</td>\n",
              "            </tr>\n",
              "            <tr>\n",
              "                        <th id=\"T_e408c_level0_row46\" class=\"row_heading level0 row46\" >46</th>\n",
              "                        <td id=\"T_e408c_row46_col0\" class=\"data row46 col0\" >Polynomial Features</td>\n",
              "                        <td id=\"T_e408c_row46_col1\" class=\"data row46 col1\" >False</td>\n",
              "            </tr>\n",
              "            <tr>\n",
              "                        <th id=\"T_e408c_level0_row47\" class=\"row_heading level0 row47\" >47</th>\n",
              "                        <td id=\"T_e408c_row47_col0\" class=\"data row47 col0\" >Polynomial Degree</td>\n",
              "                        <td id=\"T_e408c_row47_col1\" class=\"data row47 col1\" >None</td>\n",
              "            </tr>\n",
              "            <tr>\n",
              "                        <th id=\"T_e408c_level0_row48\" class=\"row_heading level0 row48\" >48</th>\n",
              "                        <td id=\"T_e408c_row48_col0\" class=\"data row48 col0\" >Trignometry Features</td>\n",
              "                        <td id=\"T_e408c_row48_col1\" class=\"data row48 col1\" >False</td>\n",
              "            </tr>\n",
              "            <tr>\n",
              "                        <th id=\"T_e408c_level0_row49\" class=\"row_heading level0 row49\" >49</th>\n",
              "                        <td id=\"T_e408c_row49_col0\" class=\"data row49 col0\" >Polynomial Threshold</td>\n",
              "                        <td id=\"T_e408c_row49_col1\" class=\"data row49 col1\" >None</td>\n",
              "            </tr>\n",
              "            <tr>\n",
              "                        <th id=\"T_e408c_level0_row50\" class=\"row_heading level0 row50\" >50</th>\n",
              "                        <td id=\"T_e408c_row50_col0\" class=\"data row50 col0\" >Group Features</td>\n",
              "                        <td id=\"T_e408c_row50_col1\" class=\"data row50 col1\" >False</td>\n",
              "            </tr>\n",
              "            <tr>\n",
              "                        <th id=\"T_e408c_level0_row51\" class=\"row_heading level0 row51\" >51</th>\n",
              "                        <td id=\"T_e408c_row51_col0\" class=\"data row51 col0\" >Feature Selection</td>\n",
              "                        <td id=\"T_e408c_row51_col1\" class=\"data row51 col1\" >False</td>\n",
              "            </tr>\n",
              "            <tr>\n",
              "                        <th id=\"T_e408c_level0_row52\" class=\"row_heading level0 row52\" >52</th>\n",
              "                        <td id=\"T_e408c_row52_col0\" class=\"data row52 col0\" >Features Selection Threshold</td>\n",
              "                        <td id=\"T_e408c_row52_col1\" class=\"data row52 col1\" >None</td>\n",
              "            </tr>\n",
              "            <tr>\n",
              "                        <th id=\"T_e408c_level0_row53\" class=\"row_heading level0 row53\" >53</th>\n",
              "                        <td id=\"T_e408c_row53_col0\" class=\"data row53 col0\" >Feature Interaction</td>\n",
              "                        <td id=\"T_e408c_row53_col1\" class=\"data row53 col1\" >False</td>\n",
              "            </tr>\n",
              "            <tr>\n",
              "                        <th id=\"T_e408c_level0_row54\" class=\"row_heading level0 row54\" >54</th>\n",
              "                        <td id=\"T_e408c_row54_col0\" class=\"data row54 col0\" >Feature Ratio</td>\n",
              "                        <td id=\"T_e408c_row54_col1\" class=\"data row54 col1\" >False</td>\n",
              "            </tr>\n",
              "            <tr>\n",
              "                        <th id=\"T_e408c_level0_row55\" class=\"row_heading level0 row55\" >55</th>\n",
              "                        <td id=\"T_e408c_row55_col0\" class=\"data row55 col0\" >Interaction Threshold</td>\n",
              "                        <td id=\"T_e408c_row55_col1\" class=\"data row55 col1\" >None</td>\n",
              "            </tr>\n",
              "            <tr>\n",
              "                        <th id=\"T_e408c_level0_row56\" class=\"row_heading level0 row56\" >56</th>\n",
              "                        <td id=\"T_e408c_row56_col0\" class=\"data row56 col0\" >Fix Imbalance</td>\n",
              "                        <td id=\"T_e408c_row56_col1\" class=\"data row56 col1\" >False</td>\n",
              "            </tr>\n",
              "            <tr>\n",
              "                        <th id=\"T_e408c_level0_row57\" class=\"row_heading level0 row57\" >57</th>\n",
              "                        <td id=\"T_e408c_row57_col0\" class=\"data row57 col0\" >Fix Imbalance Method</td>\n",
              "                        <td id=\"T_e408c_row57_col1\" class=\"data row57 col1\" >SMOTE</td>\n",
              "            </tr>\n",
              "    </tbody></table>"
            ],
            "text/plain": [
              "<pandas.io.formats.style.Styler at 0x7f9cec998a50>"
            ]
          },
          "metadata": {
            "tags": []
          }
        },
        {
          "output_type": "execute_result",
          "data": {
            "text/plain": [
              "([],\n",
              "                 Age     SibSp      Fare   Name  Ticket  Sex  Pclass  Embarked  \\\n",
              " 0     -4.307127e-16  1.901268  0.134351  17441      49    1       0         2   \n",
              " 1     -4.307127e-16 -0.539572 -0.533837   3063      49    1       2         2   \n",
              " 2     -2.069149e+00  0.680848  1.070483  17798      14    1       2         2   \n",
              " 3     -9.374220e-01 -0.539572 -0.555506  12742       0    1       2         2   \n",
              " 4     -5.737175e-01 -0.539572 -1.023540   2335      49    1       2         2   \n",
              " ...             ...       ...       ...    ...     ...  ...     ...       ...   \n",
              " 99995  1.669127e+00 -0.539572 -0.434567   1590      21    0       1         0   \n",
              " 99996  1.911597e+00 -0.539572 -0.698959   2992      49    1       1         2   \n",
              " 99997  1.536915e-01 -0.539572 -0.802137   4219      49    1       2         2   \n",
              " 99998  1.002335e+00 -0.539572  0.259408   3941      49    1       2         2   \n",
              " 99999  1.244805e+00 -0.539572 -0.492531   7055      49    1       2         2   \n",
              " \n",
              "        Cabin_A  Cabin_B  Cabin_C  Cabin_D  Cabin_E  Cabin_F  Cabin_G  Cabin_T  \\\n",
              " 0            0        0        1        0        0        0        0        0   \n",
              " 1            0        0        0        0        0        0        0        0   \n",
              " 2            0        0        0        0        0        0        0        0   \n",
              " 3            0        0        0        0        0        0        0        0   \n",
              " 4            0        0        0        0        0        0        0        0   \n",
              " ...        ...      ...      ...      ...      ...      ...      ...      ...   \n",
              " 99995        0        0        0        1        0        0        0        0   \n",
              " 99996        0        0        0        0        0        0        0        0   \n",
              " 99997        0        0        0        0        0        0        0        0   \n",
              " 99998        0        0        0        0        0        0        0        0   \n",
              " 99999        0        0        0        0        0        0        0        0   \n",
              " \n",
              "        Cabin_X  Survived  \n",
              " 0            0       1.0  \n",
              " 1            1       0.0  \n",
              " 2            1       0.0  \n",
              " 3            1       0.0  \n",
              " 4            1       1.0  \n",
              " ...        ...       ...  \n",
              " 99995        0       1.0  \n",
              " 99996        1       0.0  \n",
              " 99997        1       0.0  \n",
              " 99998        1       0.0  \n",
              " 99999        1       0.0  \n",
              " \n",
              " [100000 rows x 18 columns],\n",
              " {'acc': <pycaret.containers.metrics.classification.AccuracyMetricContainer at 0x7f9cec998350>,\n",
              "  'auc': <pycaret.containers.metrics.classification.ROCAUCMetricContainer at 0x7f9cec998390>,\n",
              "  'recall': <pycaret.containers.metrics.classification.RecallMetricContainer at 0x7f9cec998410>,\n",
              "  'precision': <pycaret.containers.metrics.classification.PrecisionMetricContainer at 0x7f9cec998590>,\n",
              "  'f1': <pycaret.containers.metrics.classification.F1MetricContainer at 0x7f9cec998710>,\n",
              "  'kappa': <pycaret.containers.metrics.classification.KappaMetricContainer at 0x7f9cec9988d0>,\n",
              "  'mcc': <pycaret.containers.metrics.classification.MCCMetricContainer at 0x7f9cec998950>},\n",
              "             Age     SibSp      Fare     Name  Ticket  Sex  Pclass  Embarked  \\\n",
              " 62017 -1.786066 -0.539572 -0.425227  23058.0    38.0  0.0     1.0       2.0   \n",
              " 5005   0.274926 -0.539572  0.041264   9979.0    49.0  1.0     1.0       2.0   \n",
              " 56849 -1.361744 -0.539572  0.215883  14486.0    49.0  0.0     1.0       2.0   \n",
              " 42434  1.426657 -0.539572  1.209948   8350.0    21.0  0.0     0.0       0.0   \n",
              " 54712 -1.725448 -0.539572 -0.906172  18642.0     0.0  0.0     2.0       2.0   \n",
              " ...         ...       ...       ...      ...     ...  ...     ...       ...   \n",
              " 50057  1.608510 -0.539572  1.938114   4224.0    49.0  1.0     0.0       2.0   \n",
              " 98047 -0.149396  0.680848 -0.914255  21294.0    49.0  1.0     2.0       2.0   \n",
              " 5192  -0.634335 -0.539572 -1.037225  24329.0    49.0  1.0     1.0       2.0   \n",
              " 77708  0.820483 -0.539572  2.156857   5150.0    49.0  0.0     0.0       0.0   \n",
              " 98539  0.396161 -0.539572  2.729733  25222.0    49.0  1.0     0.0       1.0   \n",
              " \n",
              "        Cabin_A  Cabin_B  Cabin_C  Cabin_D  Cabin_E  Cabin_F  Cabin_G  Cabin_T  \\\n",
              " 62017        0        0        0        0        0        0        0        0   \n",
              " 5005         0        0        0        0        0        0        0        0   \n",
              " 56849        0        0        0        0        0        0        0        0   \n",
              " 42434        0        0        1        0        0        0        0        0   \n",
              " 54712        0        0        0        0        0        0        0        0   \n",
              " ...        ...      ...      ...      ...      ...      ...      ...      ...   \n",
              " 50057        1        0        0        0        0        0        0        0   \n",
              " 98047        0        0        0        0        0        0        0        0   \n",
              " 5192         0        0        0        0        0        0        0        0   \n",
              " 77708        0        1        0        0        0        0        0        0   \n",
              " 98539        1        0        0        0        0        0        0        0   \n",
              " \n",
              "        Cabin_X  \n",
              " 62017        1  \n",
              " 5005         1  \n",
              " 56849        1  \n",
              " 42434        0  \n",
              " 54712        1  \n",
              " ...        ...  \n",
              " 50057        0  \n",
              " 98047        1  \n",
              " 5192         1  \n",
              " 77708        0  \n",
              " 98539        0  \n",
              " \n",
              " [69999 rows x 17 columns],\n",
              " {'parameter': 'Hyperparameters',\n",
              "  'auc': 'AUC',\n",
              "  'confusion_matrix': 'Confusion Matrix',\n",
              "  'threshold': 'Threshold',\n",
              "  'pr': 'Precision Recall',\n",
              "  'error': 'Prediction Error',\n",
              "  'class_report': 'Class Report',\n",
              "  'rfe': 'Feature Selection',\n",
              "  'learning': 'Learning Curve',\n",
              "  'manifold': 'Manifold Learning',\n",
              "  'calibration': 'Calibration Curve',\n",
              "  'vc': 'Validation Curve',\n",
              "  'dimension': 'Dimensions',\n",
              "  'feature': 'Feature Importance',\n",
              "  'feature_all': 'Feature Importance (All)',\n",
              "  'boundary': 'Decision Boundary',\n",
              "  'lift': 'Lift Chart',\n",
              "  'gain': 'Gain Chart',\n",
              "  'tree': 'Decision Tree'},\n",
              " {'lr': <pycaret.containers.models.classification.LogisticRegressionClassifierContainer at 0x7f9cec1c0250>,\n",
              "  'knn': <pycaret.containers.models.classification.KNeighborsClassifierContainer at 0x7f9cec1c0110>,\n",
              "  'nb': <pycaret.containers.models.classification.GaussianNBClassifierContainer at 0x7f9ceccb8090>,\n",
              "  'dt': <pycaret.containers.models.classification.DecisionTreeClassifierContainer at 0x7f9ceccb8150>,\n",
              "  'svm': <pycaret.containers.models.classification.SGDClassifierContainer at 0x7f9ceccb83d0>,\n",
              "  'rbfsvm': <pycaret.containers.models.classification.SVCClassifierContainer at 0x7f9ceccb8690>,\n",
              "  'gpc': <pycaret.containers.models.classification.GaussianProcessClassifierContainer at 0x7f9ceccb8750>,\n",
              "  'mlp': <pycaret.containers.models.classification.MLPClassifierContainer at 0x7f9ceccb8850>,\n",
              "  'ridge': <pycaret.containers.models.classification.RidgeClassifierContainer at 0x7f9ceccb8ad0>,\n",
              "  'rf': <pycaret.containers.models.classification.RandomForestClassifierContainer at 0x7f9ceccb8450>,\n",
              "  'qda': <pycaret.containers.models.classification.QuadraticDiscriminantAnalysisContainer at 0x7f9ceccb8f90>,\n",
              "  'ada': <pycaret.containers.models.classification.AdaBoostClassifierContainer at 0x7f9ced01d0d0>,\n",
              "  'gbc': <pycaret.containers.models.classification.GradientBoostingClassifierContainer at 0x7f9ced01d290>,\n",
              "  'lda': <pycaret.containers.models.classification.LinearDiscriminantAnalysisContainer at 0x7f9ced01d590>,\n",
              "  'et': <pycaret.containers.models.classification.ExtraTreesClassifierContainer at 0x7f9ced01d690>,\n",
              "  'xgboost': <pycaret.containers.models.classification.XGBClassifierContainer at 0x7f9ced01d9d0>,\n",
              "  'lightgbm': <pycaret.containers.models.classification.LGBMClassifierContainer at 0x7f9ced01de10>,\n",
              "  'catboost': <pycaret.containers.models.classification.CatBoostClassifierContainer at 0x7f9ced27b7d0>,\n",
              "  'Bagging': <pycaret.containers.models.classification.BaggingClassifierContainer at 0x7f9cec1c0550>,\n",
              "  'Stacking': <pycaret.containers.models.classification.StackingClassifierContainer at 0x7f9cec1c0390>,\n",
              "  'Voting': <pycaret.containers.models.classification.VotingClassifierContainer at 0x7f9ced01dbd0>,\n",
              "  'CalibratedCV': <pycaret.containers.models.classification.CalibratedClassifierCVContainer at 0x7f9cec998290>},\n",
              " None,\n",
              " 43660    1\n",
              " 87278    0\n",
              " 14317    0\n",
              " 81932    1\n",
              " 95321    0\n",
              "         ..\n",
              " 42287    0\n",
              " 4967     1\n",
              " 47725    0\n",
              " 42348    0\n",
              " 80630    0\n",
              " Name: Survived, Length: 30001, dtype: int64,\n",
              " True,\n",
              " False,\n",
              " False,\n",
              " StratifiedKFold(n_splits=5, random_state=1, shuffle=True),\n",
              " 'Survived',\n",
              " Pipeline(memory=None, steps=[('empty_step', 'passthrough')], verbose=False),\n",
              " <MLUsecase.CLASSIFICATION: 1>,\n",
              " {'lr': <pycaret.containers.models.classification.LogisticRegressionClassifierContainer at 0x7f9cec9a9f90>,\n",
              "  'knn': <pycaret.containers.models.classification.KNeighborsClassifierContainer at 0x7f9d0d33ff10>,\n",
              "  'nb': <pycaret.containers.models.classification.GaussianNBClassifierContainer at 0x7f9cec9a9810>,\n",
              "  'dt': <pycaret.containers.models.classification.DecisionTreeClassifierContainer at 0x7f9cec9a9850>,\n",
              "  'svm': <pycaret.containers.models.classification.SGDClassifierContainer at 0x7f9ced2f29d0>,\n",
              "  'rbfsvm': <pycaret.containers.models.classification.SVCClassifierContainer at 0x7f9ced2f2710>,\n",
              "  'gpc': <pycaret.containers.models.classification.GaussianProcessClassifierContainer at 0x7f9ced2f2950>,\n",
              "  'mlp': <pycaret.containers.models.classification.MLPClassifierContainer at 0x7f9ced2f2550>,\n",
              "  'ridge': <pycaret.containers.models.classification.RidgeClassifierContainer at 0x7f9ced2f2650>,\n",
              "  'rf': <pycaret.containers.models.classification.RandomForestClassifierContainer at 0x7f9cec9a9790>,\n",
              "  'qda': <pycaret.containers.models.classification.QuadraticDiscriminantAnalysisContainer at 0x7f9ced098210>,\n",
              "  'ada': <pycaret.containers.models.classification.AdaBoostClassifierContainer at 0x7f9ced098250>,\n",
              "  'gbc': <pycaret.containers.models.classification.GradientBoostingClassifierContainer at 0x7f9cec1d7410>,\n",
              "  'lda': <pycaret.containers.models.classification.LinearDiscriminantAnalysisContainer at 0x7f9cec2e4dd0>,\n",
              "  'et': <pycaret.containers.models.classification.ExtraTreesClassifierContainer at 0x7f9ced27b890>,\n",
              "  'xgboost': <pycaret.containers.models.classification.XGBClassifierContainer at 0x7f9cec1d7110>,\n",
              "  'lightgbm': <pycaret.containers.models.classification.LGBMClassifierContainer at 0x7f9cec1c0990>,\n",
              "  'catboost': <pycaret.containers.models.classification.CatBoostClassifierContainer at 0x7f9d0d40a0d0>},\n",
              " False,\n",
              " False,\n",
              " [<pandas.io.formats.style.Styler at 0x7f9cec998a50>],\n",
              " 0        1\n",
              " 1        0\n",
              " 2        0\n",
              " 3        0\n",
              " 4        1\n",
              "         ..\n",
              " 99995    1\n",
              " 99996    0\n",
              " 99997    0\n",
              " 99998    0\n",
              " 99999    0\n",
              " Name: Survived, Length: 100000, dtype: int64,\n",
              " [],\n",
              "             Age     SibSp      Fare     Name  Ticket  Sex  Pclass  Embarked  \\\n",
              " 43660  1.244805 -0.539572  0.820679  25313.0    49.0  0.0     0.0       2.0   \n",
              " 87278 -0.210013 -0.539572 -0.555506   3156.0    49.0  1.0     0.0       0.0   \n",
              " 14317  0.941718  0.680848  1.561942  11588.0    49.0  1.0     0.0       2.0   \n",
              " 81932  0.638631 -0.539572  0.050516  16175.0    21.0  1.0     0.0       0.0   \n",
              " 95321 -0.694952  0.680848  0.063476  10196.0    49.0  1.0     0.0       2.0   \n",
              " ...         ...       ...       ...      ...     ...  ...     ...       ...   \n",
              " 42287 -1.179892 -0.539572 -0.463126  11629.0    49.0  1.0     2.0       2.0   \n",
              " 4967  -0.452483 -0.539572  0.265297   3394.0    49.0  1.0     1.0       0.0   \n",
              " 47725  1.244805 -0.539572 -0.364529  19040.0    49.0  1.0     1.0       2.0   \n",
              " 42348 -0.694952 -0.539572 -1.197666  15816.0    49.0  1.0     2.0       2.0   \n",
              " 80630 -0.452483 -0.539572 -0.900153  24505.0    49.0  1.0     2.0       2.0   \n",
              " \n",
              "        Cabin_A  Cabin_B  Cabin_C  Cabin_D  Cabin_E  Cabin_F  Cabin_G  Cabin_T  \\\n",
              " 43660        0        0        1        0        0        0        0        0   \n",
              " 87278        0        0        1        0        0        0        0        0   \n",
              " 14317        1        0        0        0        0        0        0        0   \n",
              " 81932        1        0        0        0        0        0        0        0   \n",
              " 95321        0        0        1        0        0        0        0        0   \n",
              " ...        ...      ...      ...      ...      ...      ...      ...      ...   \n",
              " 42287        0        0        0        0        0        0        0        0   \n",
              " 4967         0        0        0        0        0        0        0        0   \n",
              " 47725        0        0        0        0        0        0        0        0   \n",
              " 42348        0        0        0        0        0        0        0        0   \n",
              " 80630        0        0        0        0        0        0        0        0   \n",
              " \n",
              "        Cabin_X  \n",
              " 43660        0  \n",
              " 87278        0  \n",
              " 14317        0  \n",
              " 81932        0  \n",
              " 95321        0  \n",
              " ...        ...  \n",
              " 42287        1  \n",
              " 4967         1  \n",
              " 47725        1  \n",
              " 42348        1  \n",
              " 80630        1  \n",
              " \n",
              " [30001 rows x 17 columns],\n",
              " None,\n",
              " {'USI',\n",
              "  'X',\n",
              "  'X_test',\n",
              "  'X_train',\n",
              "  '_all_metrics',\n",
              "  '_all_models',\n",
              "  '_all_models_internal',\n",
              "  '_available_plots',\n",
              "  '_gpu_n_jobs_param',\n",
              "  '_internal_pipeline',\n",
              "  '_ml_usecase',\n",
              "  'create_model_container',\n",
              "  'data_before_preprocess',\n",
              "  'display_container',\n",
              "  'exp_name_log',\n",
              "  'experiment__',\n",
              "  'fix_imbalance_method_param',\n",
              "  'fix_imbalance_param',\n",
              "  'fold_generator',\n",
              "  'fold_groups_param',\n",
              "  'fold_param',\n",
              "  'fold_shuffle_param',\n",
              "  'gpu_param',\n",
              "  'html_param',\n",
              "  'imputation_classifier',\n",
              "  'imputation_regressor',\n",
              "  'iterative_imputation_iters_param',\n",
              "  'log_plots_param',\n",
              "  'logging_param',\n",
              "  'master_model_container',\n",
              "  'n_jobs_param',\n",
              "  'prep_pipe',\n",
              "  'pycaret_globals',\n",
              "  'seed',\n",
              "  'stratify_param',\n",
              "  'target_param',\n",
              "  'transform_target_method_param',\n",
              "  'transform_target_param',\n",
              "  'y',\n",
              "  'y_test',\n",
              "  'y_train'},\n",
              " True,\n",
              " 5,\n",
              "                 Age     SibSp      Fare     Name  Ticket  Sex  Pclass  \\\n",
              " 0     -4.307127e-16  1.901268  0.134351  17441.0    49.0  1.0     0.0   \n",
              " 1     -4.307127e-16 -0.539572 -0.533837   3063.0    49.0  1.0     2.0   \n",
              " 2     -2.069149e+00  0.680848  1.070483  17798.0    14.0  1.0     2.0   \n",
              " 3     -9.374220e-01 -0.539572 -0.555506  12742.0     0.0  1.0     2.0   \n",
              " 4     -5.737175e-01 -0.539572 -1.023540   2335.0    49.0  1.0     2.0   \n",
              " ...             ...       ...       ...      ...     ...  ...     ...   \n",
              " 99995  1.669127e+00 -0.539572 -0.434567   1590.0    21.0  0.0     1.0   \n",
              " 99996  1.911597e+00 -0.539572 -0.698959   2992.0    49.0  1.0     1.0   \n",
              " 99997  1.536915e-01 -0.539572 -0.802137   4219.0    49.0  1.0     2.0   \n",
              " 99998  1.002335e+00 -0.539572  0.259408   3941.0    49.0  1.0     2.0   \n",
              " 99999  1.244805e+00 -0.539572 -0.492531   7055.0    49.0  1.0     2.0   \n",
              " \n",
              "        Embarked  Cabin_A  Cabin_B  Cabin_C  Cabin_D  Cabin_E  Cabin_F  \\\n",
              " 0           2.0        0        0        1        0        0        0   \n",
              " 1           2.0        0        0        0        0        0        0   \n",
              " 2           2.0        0        0        0        0        0        0   \n",
              " 3           2.0        0        0        0        0        0        0   \n",
              " 4           2.0        0        0        0        0        0        0   \n",
              " ...         ...      ...      ...      ...      ...      ...      ...   \n",
              " 99995       0.0        0        0        0        1        0        0   \n",
              " 99996       2.0        0        0        0        0        0        0   \n",
              " 99997       2.0        0        0        0        0        0        0   \n",
              " 99998       2.0        0        0        0        0        0        0   \n",
              " 99999       2.0        0        0        0        0        0        0   \n",
              " \n",
              "        Cabin_G  Cabin_T  Cabin_X  \n",
              " 0            0        0        0  \n",
              " 1            0        0        1  \n",
              " 2            0        0        1  \n",
              " 3            0        0        1  \n",
              " 4            0        0        1  \n",
              " ...        ...      ...      ...  \n",
              " 99995        0        0        0  \n",
              " 99996        0        0        1  \n",
              " 99997        0        0        1  \n",
              " 99998        0        0        1  \n",
              " 99999        0        0        1  \n",
              " \n",
              " [100000 rows x 17 columns],\n",
              " 'fbd3',\n",
              " False,\n",
              " [('Setup Config',\n",
              "                                  Description             Value\n",
              "   0                               session_id                 1\n",
              "   1                                   Target          Survived\n",
              "   2                              Target Type            Binary\n",
              "   3                            Label Encoded    0.0: 0, 1.0: 1\n",
              "   4                            Original Data      (100000, 18)\n",
              "   5                           Missing Values             False\n",
              "   6                         Numeric Features                14\n",
              "   7                     Categorical Features                 3\n",
              "   8                         Ordinal Features              True\n",
              "   9                High Cardinality Features             False\n",
              "   10                 High Cardinality Method              None\n",
              "   11                   Transformed Train Set       (69999, 17)\n",
              "   12                    Transformed Test Set       (30001, 17)\n",
              "   13                      Shuffle Train-Test              True\n",
              "   14                     Stratify Train-Test             False\n",
              "   15                          Fold Generator   StratifiedKFold\n",
              "   16                             Fold Number                 5\n",
              "   17                                CPU Jobs                -1\n",
              "   18                                 Use GPU             False\n",
              "   19                          Log Experiment             False\n",
              "   20                         Experiment Name  clf-default-name\n",
              "   21                                     USI              fbd3\n",
              "   22                         Imputation Type            simple\n",
              "   23          Iterative Imputation Iteration              None\n",
              "   24                         Numeric Imputer              mean\n",
              "   25      Iterative Imputation Numeric Model              None\n",
              "   26                     Categorical Imputer          constant\n",
              "   27  Iterative Imputation Categorical Model              None\n",
              "   28           Unknown Categoricals Handling    least_frequent\n",
              "   29                               Normalize             False\n",
              "   30                        Normalize Method              None\n",
              "   31                          Transformation             False\n",
              "   32                   Transformation Method              None\n",
              "   33                                     PCA             False\n",
              "   34                              PCA Method              None\n",
              "   35                          PCA Components              None\n",
              "   36                     Ignore Low Variance             False\n",
              "   37                     Combine Rare Levels             False\n",
              "   38                    Rare Level Threshold              None\n",
              "   39                         Numeric Binning             False\n",
              "   40                         Remove Outliers             False\n",
              "   41                      Outliers Threshold              None\n",
              "   42                Remove Multicollinearity             False\n",
              "   43             Multicollinearity Threshold              None\n",
              "   44                              Clustering             False\n",
              "   45                    Clustering Iteration              None\n",
              "   46                     Polynomial Features             False\n",
              "   47                       Polynomial Degree              None\n",
              "   48                    Trignometry Features             False\n",
              "   49                    Polynomial Threshold              None\n",
              "   50                          Group Features             False\n",
              "   51                       Feature Selection             False\n",
              "   52            Features Selection Threshold              None\n",
              "   53                     Feature Interaction             False\n",
              "   54                           Feature Ratio             False\n",
              "   55                   Interaction Threshold              None\n",
              "   56                           Fix Imbalance             False\n",
              "   57                    Fix Imbalance Method             SMOTE),\n",
              "  ('X_training Set',\n",
              "               Age     SibSp      Fare     Name  Ticket  Sex  Pclass  Embarked  \\\n",
              "   62017 -1.786066 -0.539572 -0.425227  23058.0    38.0  0.0     1.0       2.0   \n",
              "   5005   0.274926 -0.539572  0.041264   9979.0    49.0  1.0     1.0       2.0   \n",
              "   56849 -1.361744 -0.539572  0.215883  14486.0    49.0  0.0     1.0       2.0   \n",
              "   42434  1.426657 -0.539572  1.209948   8350.0    21.0  0.0     0.0       0.0   \n",
              "   54712 -1.725448 -0.539572 -0.906172  18642.0     0.0  0.0     2.0       2.0   \n",
              "   ...         ...       ...       ...      ...     ...  ...     ...       ...   \n",
              "   50057  1.608510 -0.539572  1.938114   4224.0    49.0  1.0     0.0       2.0   \n",
              "   98047 -0.149396  0.680848 -0.914255  21294.0    49.0  1.0     2.0       2.0   \n",
              "   5192  -0.634335 -0.539572 -1.037225  24329.0    49.0  1.0     1.0       2.0   \n",
              "   77708  0.820483 -0.539572  2.156857   5150.0    49.0  0.0     0.0       0.0   \n",
              "   98539  0.396161 -0.539572  2.729733  25222.0    49.0  1.0     0.0       1.0   \n",
              "   \n",
              "          Cabin_A  Cabin_B  Cabin_C  Cabin_D  Cabin_E  Cabin_F  Cabin_G  Cabin_T  \\\n",
              "   62017        0        0        0        0        0        0        0        0   \n",
              "   5005         0        0        0        0        0        0        0        0   \n",
              "   56849        0        0        0        0        0        0        0        0   \n",
              "   42434        0        0        1        0        0        0        0        0   \n",
              "   54712        0        0        0        0        0        0        0        0   \n",
              "   ...        ...      ...      ...      ...      ...      ...      ...      ...   \n",
              "   50057        1        0        0        0        0        0        0        0   \n",
              "   98047        0        0        0        0        0        0        0        0   \n",
              "   5192         0        0        0        0        0        0        0        0   \n",
              "   77708        0        1        0        0        0        0        0        0   \n",
              "   98539        1        0        0        0        0        0        0        0   \n",
              "   \n",
              "          Cabin_X  \n",
              "   62017        1  \n",
              "   5005         1  \n",
              "   56849        1  \n",
              "   42434        0  \n",
              "   54712        1  \n",
              "   ...        ...  \n",
              "   50057        0  \n",
              "   98047        1  \n",
              "   5192         1  \n",
              "   77708        0  \n",
              "   98539        0  \n",
              "   \n",
              "   [69999 rows x 17 columns]),\n",
              "  ('y_training Set',\n",
              "   62017    0\n",
              "   5005     0\n",
              "   56849    1\n",
              "   42434    1\n",
              "   54712    0\n",
              "           ..\n",
              "   50057    1\n",
              "   98047    0\n",
              "   5192     0\n",
              "   77708    0\n",
              "   98539    1\n",
              "   Name: Survived, Length: 69999, dtype: int64),\n",
              "  ('X_test Set',\n",
              "               Age     SibSp      Fare     Name  Ticket  Sex  Pclass  Embarked  \\\n",
              "   43660  1.244805 -0.539572  0.820679  25313.0    49.0  0.0     0.0       2.0   \n",
              "   87278 -0.210013 -0.539572 -0.555506   3156.0    49.0  1.0     0.0       0.0   \n",
              "   14317  0.941718  0.680848  1.561942  11588.0    49.0  1.0     0.0       2.0   \n",
              "   81932  0.638631 -0.539572  0.050516  16175.0    21.0  1.0     0.0       0.0   \n",
              "   95321 -0.694952  0.680848  0.063476  10196.0    49.0  1.0     0.0       2.0   \n",
              "   ...         ...       ...       ...      ...     ...  ...     ...       ...   \n",
              "   42287 -1.179892 -0.539572 -0.463126  11629.0    49.0  1.0     2.0       2.0   \n",
              "   4967  -0.452483 -0.539572  0.265297   3394.0    49.0  1.0     1.0       0.0   \n",
              "   47725  1.244805 -0.539572 -0.364529  19040.0    49.0  1.0     1.0       2.0   \n",
              "   42348 -0.694952 -0.539572 -1.197666  15816.0    49.0  1.0     2.0       2.0   \n",
              "   80630 -0.452483 -0.539572 -0.900153  24505.0    49.0  1.0     2.0       2.0   \n",
              "   \n",
              "          Cabin_A  Cabin_B  Cabin_C  Cabin_D  Cabin_E  Cabin_F  Cabin_G  Cabin_T  \\\n",
              "   43660        0        0        1        0        0        0        0        0   \n",
              "   87278        0        0        1        0        0        0        0        0   \n",
              "   14317        1        0        0        0        0        0        0        0   \n",
              "   81932        1        0        0        0        0        0        0        0   \n",
              "   95321        0        0        1        0        0        0        0        0   \n",
              "   ...        ...      ...      ...      ...      ...      ...      ...      ...   \n",
              "   42287        0        0        0        0        0        0        0        0   \n",
              "   4967         0        0        0        0        0        0        0        0   \n",
              "   47725        0        0        0        0        0        0        0        0   \n",
              "   42348        0        0        0        0        0        0        0        0   \n",
              "   80630        0        0        0        0        0        0        0        0   \n",
              "   \n",
              "          Cabin_X  \n",
              "   43660        0  \n",
              "   87278        0  \n",
              "   14317        0  \n",
              "   81932        0  \n",
              "   95321        0  \n",
              "   ...        ...  \n",
              "   42287        1  \n",
              "   4967         1  \n",
              "   47725        1  \n",
              "   42348        1  \n",
              "   80630        1  \n",
              "   \n",
              "   [30001 rows x 17 columns]),\n",
              "  ('y_test Set',\n",
              "   43660    1\n",
              "   87278    0\n",
              "   14317    0\n",
              "   81932    1\n",
              "   95321    0\n",
              "           ..\n",
              "   42287    0\n",
              "   4967     1\n",
              "   47725    0\n",
              "   42348    0\n",
              "   80630    0\n",
              "   Name: Survived, Length: 30001, dtype: int64),\n",
              "  ('Transformation Pipeline',\n",
              "   Pipeline(memory=None,\n",
              "            steps=[('dtypes',\n",
              "                    DataTypes_Auto_infer(categorical_features=[],\n",
              "                                         display_types=False, features_todrop=[],\n",
              "                                         id_columns=[],\n",
              "                                         ml_usecase='classification',\n",
              "                                         numerical_features=[], target='Survived',\n",
              "                                         time_features=[])),\n",
              "                   ('imputer',\n",
              "                    Simple_Imputer(categorical_strategy='not_available',\n",
              "                                   fill_value_categorical=None,\n",
              "                                   fill_value_numerical=None,\n",
              "                                   numeric_st...\n",
              "                   ('scaling', 'passthrough'), ('P_transform', 'passthrough'),\n",
              "                   ('binn', 'passthrough'), ('rem_outliers', 'passthrough'),\n",
              "                   ('cluster_all', 'passthrough'),\n",
              "                   ('dummy', Dummify(target='Survived')),\n",
              "                   ('fix_perfect', Remove_100(target='Survived')),\n",
              "                   ('clean_names', Clean_Colum_Names()),\n",
              "                   ('feature_select', 'passthrough'), ('fix_multi', 'passthrough'),\n",
              "                   ('dfs', 'passthrough'), ('pca', 'passthrough')],\n",
              "            verbose=False))],\n",
              " 'box-cox',\n",
              " 62017    0\n",
              " 5005     0\n",
              " 56849    1\n",
              " 42434    1\n",
              " 54712    0\n",
              "         ..\n",
              " 50057    1\n",
              " 98047    0\n",
              " 5192     0\n",
              " 77708    0\n",
              " 98539    1\n",
              " Name: Survived, Length: 69999, dtype: int64,\n",
              " -1,\n",
              " 1,\n",
              " Pipeline(memory=None,\n",
              "          steps=[('dtypes',\n",
              "                  DataTypes_Auto_infer(categorical_features=[],\n",
              "                                       display_types=False, features_todrop=[],\n",
              "                                       id_columns=[],\n",
              "                                       ml_usecase='classification',\n",
              "                                       numerical_features=[], target='Survived',\n",
              "                                       time_features=[])),\n",
              "                 ('imputer',\n",
              "                  Simple_Imputer(categorical_strategy='not_available',\n",
              "                                 fill_value_categorical=None,\n",
              "                                 fill_value_numerical=None,\n",
              "                                 numeric_st...\n",
              "                 ('scaling', 'passthrough'), ('P_transform', 'passthrough'),\n",
              "                 ('binn', 'passthrough'), ('rem_outliers', 'passthrough'),\n",
              "                 ('cluster_all', 'passthrough'),\n",
              "                 ('dummy', Dummify(target='Survived')),\n",
              "                 ('fix_perfect', Remove_100(target='Survived')),\n",
              "                 ('clean_names', Clean_Colum_Names()),\n",
              "                 ('feature_select', 'passthrough'), ('fix_multi', 'passthrough'),\n",
              "                 ('dfs', 'passthrough'), ('pca', 'passthrough')],\n",
              "          verbose=False),\n",
              " 'clf-default-name',\n",
              " 5,\n",
              " 'lightgbm',\n",
              " 'lightgbm',\n",
              " -1,\n",
              " False)"
            ]
          },
          "metadata": {
            "tags": []
          },
          "execution_count": 19
        }
      ]
    },
    {
      "cell_type": "code",
      "metadata": {
        "execution": {
          "iopub.execute_input": "2021-04-28T08:16:43.961271Z",
          "iopub.status.busy": "2021-04-28T08:16:43.950991Z",
          "iopub.status.idle": "2021-04-28T08:16:44.076227Z",
          "shell.execute_reply": "2021-04-28T08:16:44.075588Z"
        },
        "papermill": {
          "duration": 0.299201,
          "end_time": "2021-04-28T08:16:44.076369",
          "exception": false,
          "start_time": "2021-04-28T08:16:43.777168",
          "status": "completed"
        },
        "tags": [],
        "id": "dimensional-audit",
        "outputId": "0e12275e-a213-470e-fd59-9d483aaf7641"
      },
      "source": [
        "models()"
      ],
      "id": "dimensional-audit",
      "execution_count": null,
      "outputs": [
        {
          "output_type": "execute_result",
          "data": {
            "text/html": [
              "<div>\n",
              "<style scoped>\n",
              "    .dataframe tbody tr th:only-of-type {\n",
              "        vertical-align: middle;\n",
              "    }\n",
              "\n",
              "    .dataframe tbody tr th {\n",
              "        vertical-align: top;\n",
              "    }\n",
              "\n",
              "    .dataframe thead th {\n",
              "        text-align: right;\n",
              "    }\n",
              "</style>\n",
              "<table border=\"1\" class=\"dataframe\">\n",
              "  <thead>\n",
              "    <tr style=\"text-align: right;\">\n",
              "      <th></th>\n",
              "      <th>Name</th>\n",
              "      <th>Reference</th>\n",
              "      <th>Turbo</th>\n",
              "    </tr>\n",
              "    <tr>\n",
              "      <th>ID</th>\n",
              "      <th></th>\n",
              "      <th></th>\n",
              "      <th></th>\n",
              "    </tr>\n",
              "  </thead>\n",
              "  <tbody>\n",
              "    <tr>\n",
              "      <th>lr</th>\n",
              "      <td>Logistic Regression</td>\n",
              "      <td>sklearn.linear_model._logistic.LogisticRegression</td>\n",
              "      <td>True</td>\n",
              "    </tr>\n",
              "    <tr>\n",
              "      <th>knn</th>\n",
              "      <td>K Neighbors Classifier</td>\n",
              "      <td>sklearn.neighbors._classification.KNeighborsCl...</td>\n",
              "      <td>True</td>\n",
              "    </tr>\n",
              "    <tr>\n",
              "      <th>nb</th>\n",
              "      <td>Naive Bayes</td>\n",
              "      <td>sklearn.naive_bayes.GaussianNB</td>\n",
              "      <td>True</td>\n",
              "    </tr>\n",
              "    <tr>\n",
              "      <th>dt</th>\n",
              "      <td>Decision Tree Classifier</td>\n",
              "      <td>sklearn.tree._classes.DecisionTreeClassifier</td>\n",
              "      <td>True</td>\n",
              "    </tr>\n",
              "    <tr>\n",
              "      <th>svm</th>\n",
              "      <td>SVM - Linear Kernel</td>\n",
              "      <td>sklearn.linear_model._stochastic_gradient.SGDC...</td>\n",
              "      <td>True</td>\n",
              "    </tr>\n",
              "    <tr>\n",
              "      <th>rbfsvm</th>\n",
              "      <td>SVM - Radial Kernel</td>\n",
              "      <td>sklearn.svm._classes.SVC</td>\n",
              "      <td>False</td>\n",
              "    </tr>\n",
              "    <tr>\n",
              "      <th>gpc</th>\n",
              "      <td>Gaussian Process Classifier</td>\n",
              "      <td>sklearn.gaussian_process._gpc.GaussianProcessC...</td>\n",
              "      <td>False</td>\n",
              "    </tr>\n",
              "    <tr>\n",
              "      <th>mlp</th>\n",
              "      <td>MLP Classifier</td>\n",
              "      <td>pycaret.internal.tunable.TunableMLPClassifier</td>\n",
              "      <td>False</td>\n",
              "    </tr>\n",
              "    <tr>\n",
              "      <th>ridge</th>\n",
              "      <td>Ridge Classifier</td>\n",
              "      <td>sklearn.linear_model._ridge.RidgeClassifier</td>\n",
              "      <td>True</td>\n",
              "    </tr>\n",
              "    <tr>\n",
              "      <th>rf</th>\n",
              "      <td>Random Forest Classifier</td>\n",
              "      <td>sklearn.ensemble._forest.RandomForestClassifier</td>\n",
              "      <td>True</td>\n",
              "    </tr>\n",
              "    <tr>\n",
              "      <th>qda</th>\n",
              "      <td>Quadratic Discriminant Analysis</td>\n",
              "      <td>sklearn.discriminant_analysis.QuadraticDiscrim...</td>\n",
              "      <td>True</td>\n",
              "    </tr>\n",
              "    <tr>\n",
              "      <th>ada</th>\n",
              "      <td>Ada Boost Classifier</td>\n",
              "      <td>sklearn.ensemble._weight_boosting.AdaBoostClas...</td>\n",
              "      <td>True</td>\n",
              "    </tr>\n",
              "    <tr>\n",
              "      <th>gbc</th>\n",
              "      <td>Gradient Boosting Classifier</td>\n",
              "      <td>sklearn.ensemble._gb.GradientBoostingClassifier</td>\n",
              "      <td>True</td>\n",
              "    </tr>\n",
              "    <tr>\n",
              "      <th>lda</th>\n",
              "      <td>Linear Discriminant Analysis</td>\n",
              "      <td>sklearn.discriminant_analysis.LinearDiscrimina...</td>\n",
              "      <td>True</td>\n",
              "    </tr>\n",
              "    <tr>\n",
              "      <th>et</th>\n",
              "      <td>Extra Trees Classifier</td>\n",
              "      <td>sklearn.ensemble._forest.ExtraTreesClassifier</td>\n",
              "      <td>True</td>\n",
              "    </tr>\n",
              "    <tr>\n",
              "      <th>xgboost</th>\n",
              "      <td>Extreme Gradient Boosting</td>\n",
              "      <td>xgboost.sklearn.XGBClassifier</td>\n",
              "      <td>True</td>\n",
              "    </tr>\n",
              "    <tr>\n",
              "      <th>lightgbm</th>\n",
              "      <td>Light Gradient Boosting Machine</td>\n",
              "      <td>lightgbm.sklearn.LGBMClassifier</td>\n",
              "      <td>True</td>\n",
              "    </tr>\n",
              "    <tr>\n",
              "      <th>catboost</th>\n",
              "      <td>CatBoost Classifier</td>\n",
              "      <td>catboost.core.CatBoostClassifier</td>\n",
              "      <td>True</td>\n",
              "    </tr>\n",
              "  </tbody>\n",
              "</table>\n",
              "</div>"
            ],
            "text/plain": [
              "                                     Name  \\\n",
              "ID                                          \n",
              "lr                    Logistic Regression   \n",
              "knn                K Neighbors Classifier   \n",
              "nb                            Naive Bayes   \n",
              "dt               Decision Tree Classifier   \n",
              "svm                   SVM - Linear Kernel   \n",
              "rbfsvm                SVM - Radial Kernel   \n",
              "gpc           Gaussian Process Classifier   \n",
              "mlp                        MLP Classifier   \n",
              "ridge                    Ridge Classifier   \n",
              "rf               Random Forest Classifier   \n",
              "qda       Quadratic Discriminant Analysis   \n",
              "ada                  Ada Boost Classifier   \n",
              "gbc          Gradient Boosting Classifier   \n",
              "lda          Linear Discriminant Analysis   \n",
              "et                 Extra Trees Classifier   \n",
              "xgboost         Extreme Gradient Boosting   \n",
              "lightgbm  Light Gradient Boosting Machine   \n",
              "catboost              CatBoost Classifier   \n",
              "\n",
              "                                                  Reference  Turbo  \n",
              "ID                                                                  \n",
              "lr        sklearn.linear_model._logistic.LogisticRegression   True  \n",
              "knn       sklearn.neighbors._classification.KNeighborsCl...   True  \n",
              "nb                           sklearn.naive_bayes.GaussianNB   True  \n",
              "dt             sklearn.tree._classes.DecisionTreeClassifier   True  \n",
              "svm       sklearn.linear_model._stochastic_gradient.SGDC...   True  \n",
              "rbfsvm                             sklearn.svm._classes.SVC  False  \n",
              "gpc       sklearn.gaussian_process._gpc.GaussianProcessC...  False  \n",
              "mlp           pycaret.internal.tunable.TunableMLPClassifier  False  \n",
              "ridge           sklearn.linear_model._ridge.RidgeClassifier   True  \n",
              "rf          sklearn.ensemble._forest.RandomForestClassifier   True  \n",
              "qda       sklearn.discriminant_analysis.QuadraticDiscrim...   True  \n",
              "ada       sklearn.ensemble._weight_boosting.AdaBoostClas...   True  \n",
              "gbc         sklearn.ensemble._gb.GradientBoostingClassifier   True  \n",
              "lda       sklearn.discriminant_analysis.LinearDiscrimina...   True  \n",
              "et            sklearn.ensemble._forest.ExtraTreesClassifier   True  \n",
              "xgboost                       xgboost.sklearn.XGBClassifier   True  \n",
              "lightgbm                    lightgbm.sklearn.LGBMClassifier   True  \n",
              "catboost                   catboost.core.CatBoostClassifier   True  "
            ]
          },
          "metadata": {
            "tags": []
          },
          "execution_count": 20
        }
      ]
    },
    {
      "cell_type": "code",
      "metadata": {
        "execution": {
          "iopub.execute_input": "2021-04-28T08:16:44.350755Z",
          "iopub.status.busy": "2021-04-28T08:16:44.350053Z",
          "iopub.status.idle": "2021-04-28T08:16:44.352006Z",
          "shell.execute_reply": "2021-04-28T08:16:44.352515Z"
        },
        "papermill": {
          "duration": 0.141492,
          "end_time": "2021-04-28T08:16:44.352729",
          "exception": false,
          "start_time": "2021-04-28T08:16:44.211237",
          "status": "completed"
        },
        "tags": [],
        "id": "sound-therapist"
      },
      "source": [
        "#lgbms = [create_model('lightgbm', learning_rate = i) for i in np.arange(0.1, 1, 0.1)]"
      ],
      "id": "sound-therapist",
      "execution_count": null,
      "outputs": []
    },
    {
      "cell_type": "code",
      "metadata": {
        "execution": {
          "iopub.execute_input": "2021-04-28T08:16:44.626050Z",
          "iopub.status.busy": "2021-04-28T08:16:44.625363Z",
          "iopub.status.idle": "2021-04-28T08:16:44.628492Z",
          "shell.execute_reply": "2021-04-28T08:16:44.629062Z"
        },
        "papermill": {
          "duration": 0.141095,
          "end_time": "2021-04-28T08:16:44.629233",
          "exception": false,
          "start_time": "2021-04-28T08:16:44.488138",
          "status": "completed"
        },
        "tags": [],
        "id": "discrete-writing"
      },
      "source": [
        "#best_model = compare_models(sort = 'Accuracy', n_select = 3)"
      ],
      "id": "discrete-writing",
      "execution_count": null,
      "outputs": []
    },
    {
      "cell_type": "code",
      "metadata": {
        "execution": {
          "iopub.execute_input": "2021-04-28T08:16:44.901805Z",
          "iopub.status.busy": "2021-04-28T08:16:44.901106Z",
          "iopub.status.idle": "2021-04-28T08:16:52.476757Z",
          "shell.execute_reply": "2021-04-28T08:16:52.477325Z"
        },
        "papermill": {
          "duration": 7.713779,
          "end_time": "2021-04-28T08:16:52.477508",
          "exception": false,
          "start_time": "2021-04-28T08:16:44.763729",
          "status": "completed"
        },
        "tags": [],
        "id": "objective-update",
        "outputId": "e351ec92-ce6b-4015-c320-c8e791393066"
      },
      "source": [
        "lightgbm = create_model('lightgbm')"
      ],
      "id": "objective-update",
      "execution_count": null,
      "outputs": [
        {
          "output_type": "display_data",
          "data": {
            "text/html": [
              "<style  type=\"text/css\" >\n",
              "#T_98519_row5_col0,#T_98519_row5_col1,#T_98519_row5_col2,#T_98519_row5_col3,#T_98519_row5_col4,#T_98519_row5_col5,#T_98519_row5_col6{\n",
              "            background:  yellow;\n",
              "        }</style><table id=\"T_98519_\" ><thead>    <tr>        <th class=\"blank level0\" ></th>        <th class=\"col_heading level0 col0\" >Accuracy</th>        <th class=\"col_heading level0 col1\" >AUC</th>        <th class=\"col_heading level0 col2\" >Recall</th>        <th class=\"col_heading level0 col3\" >Prec.</th>        <th class=\"col_heading level0 col4\" >F1</th>        <th class=\"col_heading level0 col5\" >Kappa</th>        <th class=\"col_heading level0 col6\" >MCC</th>    </tr></thead><tbody>\n",
              "                <tr>\n",
              "                        <th id=\"T_98519_level0_row0\" class=\"row_heading level0 row0\" >0</th>\n",
              "                        <td id=\"T_98519_row0_col0\" class=\"data row0 col0\" >0.7825</td>\n",
              "                        <td id=\"T_98519_row0_col1\" class=\"data row0 col1\" >0.8494</td>\n",
              "                        <td id=\"T_98519_row0_col2\" class=\"data row0 col2\" >0.7359</td>\n",
              "                        <td id=\"T_98519_row0_col3\" class=\"data row0 col3\" >0.7513</td>\n",
              "                        <td id=\"T_98519_row0_col4\" class=\"data row0 col4\" >0.7435</td>\n",
              "                        <td id=\"T_98519_row0_col5\" class=\"data row0 col5\" >0.5547</td>\n",
              "                        <td id=\"T_98519_row0_col6\" class=\"data row0 col6\" >0.5548</td>\n",
              "            </tr>\n",
              "            <tr>\n",
              "                        <th id=\"T_98519_level0_row1\" class=\"row_heading level0 row1\" >1</th>\n",
              "                        <td id=\"T_98519_row1_col0\" class=\"data row1 col0\" >0.7801</td>\n",
              "                        <td id=\"T_98519_row1_col1\" class=\"data row1 col1\" >0.8490</td>\n",
              "                        <td id=\"T_98519_row1_col2\" class=\"data row1 col2\" >0.7437</td>\n",
              "                        <td id=\"T_98519_row1_col3\" class=\"data row1 col3\" >0.7431</td>\n",
              "                        <td id=\"T_98519_row1_col4\" class=\"data row1 col4\" >0.7434</td>\n",
              "                        <td id=\"T_98519_row1_col5\" class=\"data row1 col5\" >0.5510</td>\n",
              "                        <td id=\"T_98519_row1_col6\" class=\"data row1 col6\" >0.5510</td>\n",
              "            </tr>\n",
              "            <tr>\n",
              "                        <th id=\"T_98519_level0_row2\" class=\"row_heading level0 row2\" >2</th>\n",
              "                        <td id=\"T_98519_row2_col0\" class=\"data row2 col0\" >0.7863</td>\n",
              "                        <td id=\"T_98519_row2_col1\" class=\"data row2 col1\" >0.8547</td>\n",
              "                        <td id=\"T_98519_row2_col2\" class=\"data row2 col2\" >0.7467</td>\n",
              "                        <td id=\"T_98519_row2_col3\" class=\"data row2 col3\" >0.7525</td>\n",
              "                        <td id=\"T_98519_row2_col4\" class=\"data row2 col4\" >0.7496</td>\n",
              "                        <td id=\"T_98519_row2_col5\" class=\"data row2 col5\" >0.5632</td>\n",
              "                        <td id=\"T_98519_row2_col6\" class=\"data row2 col6\" >0.5632</td>\n",
              "            </tr>\n",
              "            <tr>\n",
              "                        <th id=\"T_98519_level0_row3\" class=\"row_heading level0 row3\" >3</th>\n",
              "                        <td id=\"T_98519_row3_col0\" class=\"data row3 col0\" >0.7796</td>\n",
              "                        <td id=\"T_98519_row3_col1\" class=\"data row3 col1\" >0.8490</td>\n",
              "                        <td id=\"T_98519_row3_col2\" class=\"data row3 col2\" >0.7391</td>\n",
              "                        <td id=\"T_98519_row3_col3\" class=\"data row3 col3\" >0.7447</td>\n",
              "                        <td id=\"T_98519_row3_col4\" class=\"data row3 col4\" >0.7419</td>\n",
              "                        <td id=\"T_98519_row3_col5\" class=\"data row3 col5\" >0.5496</td>\n",
              "                        <td id=\"T_98519_row3_col6\" class=\"data row3 col6\" >0.5497</td>\n",
              "            </tr>\n",
              "            <tr>\n",
              "                        <th id=\"T_98519_level0_row4\" class=\"row_heading level0 row4\" >4</th>\n",
              "                        <td id=\"T_98519_row4_col0\" class=\"data row4 col0\" >0.7833</td>\n",
              "                        <td id=\"T_98519_row4_col1\" class=\"data row4 col1\" >0.8502</td>\n",
              "                        <td id=\"T_98519_row4_col2\" class=\"data row4 col2\" >0.7475</td>\n",
              "                        <td id=\"T_98519_row4_col3\" class=\"data row4 col3\" >0.7469</td>\n",
              "                        <td id=\"T_98519_row4_col4\" class=\"data row4 col4\" >0.7472</td>\n",
              "                        <td id=\"T_98519_row4_col5\" class=\"data row4 col5\" >0.5577</td>\n",
              "                        <td id=\"T_98519_row4_col6\" class=\"data row4 col6\" >0.5577</td>\n",
              "            </tr>\n",
              "            <tr>\n",
              "                        <th id=\"T_98519_level0_row5\" class=\"row_heading level0 row5\" >Mean</th>\n",
              "                        <td id=\"T_98519_row5_col0\" class=\"data row5 col0\" >0.7824</td>\n",
              "                        <td id=\"T_98519_row5_col1\" class=\"data row5 col1\" >0.8505</td>\n",
              "                        <td id=\"T_98519_row5_col2\" class=\"data row5 col2\" >0.7426</td>\n",
              "                        <td id=\"T_98519_row5_col3\" class=\"data row5 col3\" >0.7477</td>\n",
              "                        <td id=\"T_98519_row5_col4\" class=\"data row5 col4\" >0.7451</td>\n",
              "                        <td id=\"T_98519_row5_col5\" class=\"data row5 col5\" >0.5552</td>\n",
              "                        <td id=\"T_98519_row5_col6\" class=\"data row5 col6\" >0.5553</td>\n",
              "            </tr>\n",
              "            <tr>\n",
              "                        <th id=\"T_98519_level0_row6\" class=\"row_heading level0 row6\" >SD</th>\n",
              "                        <td id=\"T_98519_row6_col0\" class=\"data row6 col0\" >0.0024</td>\n",
              "                        <td id=\"T_98519_row6_col1\" class=\"data row6 col1\" >0.0022</td>\n",
              "                        <td id=\"T_98519_row6_col2\" class=\"data row6 col2\" >0.0045</td>\n",
              "                        <td id=\"T_98519_row6_col3\" class=\"data row6 col3\" >0.0037</td>\n",
              "                        <td id=\"T_98519_row6_col4\" class=\"data row6 col4\" >0.0029</td>\n",
              "                        <td id=\"T_98519_row6_col5\" class=\"data row6 col5\" >0.0049</td>\n",
              "                        <td id=\"T_98519_row6_col6\" class=\"data row6 col6\" >0.0049</td>\n",
              "            </tr>\n",
              "    </tbody></table>"
            ],
            "text/plain": [
              "<pandas.io.formats.style.Styler at 0x7f9d0d402f50>"
            ]
          },
          "metadata": {
            "tags": []
          }
        }
      ]
    },
    {
      "cell_type": "code",
      "metadata": {
        "execution": {
          "iopub.execute_input": "2021-04-28T08:16:52.766115Z",
          "iopub.status.busy": "2021-04-28T08:16:52.765417Z",
          "iopub.status.idle": "2021-04-28T08:18:55.194783Z",
          "shell.execute_reply": "2021-04-28T08:18:55.194201Z"
        },
        "papermill": {
          "duration": 122.581694,
          "end_time": "2021-04-28T08:18:55.194947",
          "exception": false,
          "start_time": "2021-04-28T08:16:52.613253",
          "status": "completed"
        },
        "tags": [],
        "id": "rocky-ceremony",
        "outputId": "668c3740-1351-4905-9168-c7a616584764"
      },
      "source": [
        "catboost = create_model('catboost')"
      ],
      "id": "rocky-ceremony",
      "execution_count": null,
      "outputs": [
        {
          "output_type": "display_data",
          "data": {
            "text/html": [
              "<style  type=\"text/css\" >\n",
              "#T_db3df_row5_col0,#T_db3df_row5_col1,#T_db3df_row5_col2,#T_db3df_row5_col3,#T_db3df_row5_col4,#T_db3df_row5_col5,#T_db3df_row5_col6{\n",
              "            background:  yellow;\n",
              "        }</style><table id=\"T_db3df_\" ><thead>    <tr>        <th class=\"blank level0\" ></th>        <th class=\"col_heading level0 col0\" >Accuracy</th>        <th class=\"col_heading level0 col1\" >AUC</th>        <th class=\"col_heading level0 col2\" >Recall</th>        <th class=\"col_heading level0 col3\" >Prec.</th>        <th class=\"col_heading level0 col4\" >F1</th>        <th class=\"col_heading level0 col5\" >Kappa</th>        <th class=\"col_heading level0 col6\" >MCC</th>    </tr></thead><tbody>\n",
              "                <tr>\n",
              "                        <th id=\"T_db3df_level0_row0\" class=\"row_heading level0 row0\" >0</th>\n",
              "                        <td id=\"T_db3df_row0_col0\" class=\"data row0 col0\" >0.7786</td>\n",
              "                        <td id=\"T_db3df_row0_col1\" class=\"data row0 col1\" >0.8480</td>\n",
              "                        <td id=\"T_db3df_row0_col2\" class=\"data row0 col2\" >0.7287</td>\n",
              "                        <td id=\"T_db3df_row0_col3\" class=\"data row0 col3\" >0.7479</td>\n",
              "                        <td id=\"T_db3df_row0_col4\" class=\"data row0 col4\" >0.7382</td>\n",
              "                        <td id=\"T_db3df_row0_col5\" class=\"data row0 col5\" >0.5464</td>\n",
              "                        <td id=\"T_db3df_row0_col6\" class=\"data row0 col6\" >0.5465</td>\n",
              "            </tr>\n",
              "            <tr>\n",
              "                        <th id=\"T_db3df_level0_row1\" class=\"row_heading level0 row1\" >1</th>\n",
              "                        <td id=\"T_db3df_row1_col0\" class=\"data row1 col0\" >0.7774</td>\n",
              "                        <td id=\"T_db3df_row1_col1\" class=\"data row1 col1\" >0.8474</td>\n",
              "                        <td id=\"T_db3df_row1_col2\" class=\"data row1 col2\" >0.7394</td>\n",
              "                        <td id=\"T_db3df_row1_col3\" class=\"data row1 col3\" >0.7405</td>\n",
              "                        <td id=\"T_db3df_row1_col4\" class=\"data row1 col4\" >0.7399</td>\n",
              "                        <td id=\"T_db3df_row1_col5\" class=\"data row1 col5\" >0.5453</td>\n",
              "                        <td id=\"T_db3df_row1_col6\" class=\"data row1 col6\" >0.5453</td>\n",
              "            </tr>\n",
              "            <tr>\n",
              "                        <th id=\"T_db3df_level0_row2\" class=\"row_heading level0 row2\" >2</th>\n",
              "                        <td id=\"T_db3df_row2_col0\" class=\"data row2 col0\" >0.7826</td>\n",
              "                        <td id=\"T_db3df_row2_col1\" class=\"data row2 col1\" >0.8532</td>\n",
              "                        <td id=\"T_db3df_row2_col2\" class=\"data row2 col2\" >0.7417</td>\n",
              "                        <td id=\"T_db3df_row2_col3\" class=\"data row2 col3\" >0.7486</td>\n",
              "                        <td id=\"T_db3df_row2_col4\" class=\"data row2 col4\" >0.7452</td>\n",
              "                        <td id=\"T_db3df_row2_col5\" class=\"data row2 col5\" >0.5557</td>\n",
              "                        <td id=\"T_db3df_row2_col6\" class=\"data row2 col6\" >0.5557</td>\n",
              "            </tr>\n",
              "            <tr>\n",
              "                        <th id=\"T_db3df_level0_row3\" class=\"row_heading level0 row3\" >3</th>\n",
              "                        <td id=\"T_db3df_row3_col0\" class=\"data row3 col0\" >0.7761</td>\n",
              "                        <td id=\"T_db3df_row3_col1\" class=\"data row3 col1\" >0.8477</td>\n",
              "                        <td id=\"T_db3df_row3_col2\" class=\"data row3 col2\" >0.7354</td>\n",
              "                        <td id=\"T_db3df_row3_col3\" class=\"data row3 col3\" >0.7403</td>\n",
              "                        <td id=\"T_db3df_row3_col4\" class=\"data row3 col4\" >0.7379</td>\n",
              "                        <td id=\"T_db3df_row3_col5\" class=\"data row3 col5\" >0.5425</td>\n",
              "                        <td id=\"T_db3df_row3_col6\" class=\"data row3 col6\" >0.5425</td>\n",
              "            </tr>\n",
              "            <tr>\n",
              "                        <th id=\"T_db3df_level0_row4\" class=\"row_heading level0 row4\" >4</th>\n",
              "                        <td id=\"T_db3df_row4_col0\" class=\"data row4 col0\" >0.7835</td>\n",
              "                        <td id=\"T_db3df_row4_col1\" class=\"data row4 col1\" >0.8499</td>\n",
              "                        <td id=\"T_db3df_row4_col2\" class=\"data row4 col2\" >0.7410</td>\n",
              "                        <td id=\"T_db3df_row4_col3\" class=\"data row4 col3\" >0.7504</td>\n",
              "                        <td id=\"T_db3df_row4_col4\" class=\"data row4 col4\" >0.7457</td>\n",
              "                        <td id=\"T_db3df_row4_col5\" class=\"data row4 col5\" >0.5572</td>\n",
              "                        <td id=\"T_db3df_row4_col6\" class=\"data row4 col6\" >0.5572</td>\n",
              "            </tr>\n",
              "            <tr>\n",
              "                        <th id=\"T_db3df_level0_row5\" class=\"row_heading level0 row5\" >Mean</th>\n",
              "                        <td id=\"T_db3df_row5_col0\" class=\"data row5 col0\" >0.7796</td>\n",
              "                        <td id=\"T_db3df_row5_col1\" class=\"data row5 col1\" >0.8492</td>\n",
              "                        <td id=\"T_db3df_row5_col2\" class=\"data row5 col2\" >0.7373</td>\n",
              "                        <td id=\"T_db3df_row5_col3\" class=\"data row5 col3\" >0.7456</td>\n",
              "                        <td id=\"T_db3df_row5_col4\" class=\"data row5 col4\" >0.7414</td>\n",
              "                        <td id=\"T_db3df_row5_col5\" class=\"data row5 col5\" >0.5494</td>\n",
              "                        <td id=\"T_db3df_row5_col6\" class=\"data row5 col6\" >0.5495</td>\n",
              "            </tr>\n",
              "            <tr>\n",
              "                        <th id=\"T_db3df_level0_row6\" class=\"row_heading level0 row6\" >SD</th>\n",
              "                        <td id=\"T_db3df_row6_col0\" class=\"data row6 col0\" >0.0029</td>\n",
              "                        <td id=\"T_db3df_row6_col1\" class=\"data row6 col1\" >0.0022</td>\n",
              "                        <td id=\"T_db3df_row6_col2\" class=\"data row6 col2\" >0.0048</td>\n",
              "                        <td id=\"T_db3df_row6_col3\" class=\"data row6 col3\" >0.0043</td>\n",
              "                        <td id=\"T_db3df_row6_col4\" class=\"data row6 col4\" >0.0034</td>\n",
              "                        <td id=\"T_db3df_row6_col5\" class=\"data row6 col5\" >0.0059</td>\n",
              "                        <td id=\"T_db3df_row6_col6\" class=\"data row6 col6\" >0.0059</td>\n",
              "            </tr>\n",
              "    </tbody></table>"
            ],
            "text/plain": [
              "<pandas.io.formats.style.Styler at 0x7f9ced299f50>"
            ]
          },
          "metadata": {
            "tags": []
          }
        }
      ]
    },
    {
      "cell_type": "code",
      "metadata": {
        "execution": {
          "iopub.execute_input": "2021-04-28T08:18:55.471666Z",
          "iopub.status.busy": "2021-04-28T08:18:55.470977Z",
          "iopub.status.idle": "2021-04-28T08:18:55.475426Z",
          "shell.execute_reply": "2021-04-28T08:18:55.474802Z"
        },
        "papermill": {
          "duration": 0.144628,
          "end_time": "2021-04-28T08:18:55.475593",
          "exception": false,
          "start_time": "2021-04-28T08:18:55.330965",
          "status": "completed"
        },
        "tags": [],
        "id": "virtual-weather"
      },
      "source": [
        "# ada = create_model('ada')"
      ],
      "id": "virtual-weather",
      "execution_count": null,
      "outputs": []
    },
    {
      "cell_type": "code",
      "metadata": {
        "execution": {
          "iopub.execute_input": "2021-04-28T08:18:55.765122Z",
          "iopub.status.busy": "2021-04-28T08:18:55.752614Z",
          "iopub.status.idle": "2021-04-28T08:19:25.749058Z",
          "shell.execute_reply": "2021-04-28T08:19:25.748351Z"
        },
        "papermill": {
          "duration": 30.137229,
          "end_time": "2021-04-28T08:19:25.749229",
          "exception": false,
          "start_time": "2021-04-28T08:18:55.612000",
          "status": "completed"
        },
        "tags": [],
        "id": "mysterious-crack",
        "outputId": "2cf065e4-e186-4a99-fb3b-e2487ac7a47d"
      },
      "source": [
        "gbc = create_model('gbc')"
      ],
      "id": "mysterious-crack",
      "execution_count": null,
      "outputs": [
        {
          "output_type": "display_data",
          "data": {
            "text/html": [
              "<style  type=\"text/css\" >\n",
              "#T_b3c43_row5_col0,#T_b3c43_row5_col1,#T_b3c43_row5_col2,#T_b3c43_row5_col3,#T_b3c43_row5_col4,#T_b3c43_row5_col5,#T_b3c43_row5_col6{\n",
              "            background:  yellow;\n",
              "        }</style><table id=\"T_b3c43_\" ><thead>    <tr>        <th class=\"blank level0\" ></th>        <th class=\"col_heading level0 col0\" >Accuracy</th>        <th class=\"col_heading level0 col1\" >AUC</th>        <th class=\"col_heading level0 col2\" >Recall</th>        <th class=\"col_heading level0 col3\" >Prec.</th>        <th class=\"col_heading level0 col4\" >F1</th>        <th class=\"col_heading level0 col5\" >Kappa</th>        <th class=\"col_heading level0 col6\" >MCC</th>    </tr></thead><tbody>\n",
              "                <tr>\n",
              "                        <th id=\"T_b3c43_level0_row0\" class=\"row_heading level0 row0\" >0</th>\n",
              "                        <td id=\"T_b3c43_row0_col0\" class=\"data row0 col0\" >0.7786</td>\n",
              "                        <td id=\"T_b3c43_row0_col1\" class=\"data row0 col1\" >0.8482</td>\n",
              "                        <td id=\"T_b3c43_row0_col2\" class=\"data row0 col2\" >0.7417</td>\n",
              "                        <td id=\"T_b3c43_row0_col3\" class=\"data row0 col3\" >0.7416</td>\n",
              "                        <td id=\"T_b3c43_row0_col4\" class=\"data row0 col4\" >0.7416</td>\n",
              "                        <td id=\"T_b3c43_row0_col5\" class=\"data row0 col5\" >0.5480</td>\n",
              "                        <td id=\"T_b3c43_row0_col6\" class=\"data row0 col6\" >0.5480</td>\n",
              "            </tr>\n",
              "            <tr>\n",
              "                        <th id=\"T_b3c43_level0_row1\" class=\"row_heading level0 row1\" >1</th>\n",
              "                        <td id=\"T_b3c43_row1_col0\" class=\"data row1 col0\" >0.7800</td>\n",
              "                        <td id=\"T_b3c43_row1_col1\" class=\"data row1 col1\" >0.8478</td>\n",
              "                        <td id=\"T_b3c43_row1_col2\" class=\"data row1 col2\" >0.7512</td>\n",
              "                        <td id=\"T_b3c43_row1_col3\" class=\"data row1 col3\" >0.7394</td>\n",
              "                        <td id=\"T_b3c43_row1_col4\" class=\"data row1 col4\" >0.7452</td>\n",
              "                        <td id=\"T_b3c43_row1_col5\" class=\"data row1 col5\" >0.5517</td>\n",
              "                        <td id=\"T_b3c43_row1_col6\" class=\"data row1 col6\" >0.5517</td>\n",
              "            </tr>\n",
              "            <tr>\n",
              "                        <th id=\"T_b3c43_level0_row2\" class=\"row_heading level0 row2\" >2</th>\n",
              "                        <td id=\"T_b3c43_row2_col0\" class=\"data row2 col0\" >0.7851</td>\n",
              "                        <td id=\"T_b3c43_row2_col1\" class=\"data row2 col1\" >0.8535</td>\n",
              "                        <td id=\"T_b3c43_row2_col2\" class=\"data row2 col2\" >0.7554</td>\n",
              "                        <td id=\"T_b3c43_row2_col3\" class=\"data row2 col3\" >0.7461</td>\n",
              "                        <td id=\"T_b3c43_row2_col4\" class=\"data row2 col4\" >0.7507</td>\n",
              "                        <td id=\"T_b3c43_row2_col5\" class=\"data row2 col5\" >0.5618</td>\n",
              "                        <td id=\"T_b3c43_row2_col6\" class=\"data row2 col6\" >0.5619</td>\n",
              "            </tr>\n",
              "            <tr>\n",
              "                        <th id=\"T_b3c43_level0_row3\" class=\"row_heading level0 row3\" >3</th>\n",
              "                        <td id=\"T_b3c43_row3_col0\" class=\"data row3 col0\" >0.7754</td>\n",
              "                        <td id=\"T_b3c43_row3_col1\" class=\"data row3 col1\" >0.8480</td>\n",
              "                        <td id=\"T_b3c43_row3_col2\" class=\"data row3 col2\" >0.7426</td>\n",
              "                        <td id=\"T_b3c43_row3_col3\" class=\"data row3 col3\" >0.7356</td>\n",
              "                        <td id=\"T_b3c43_row3_col4\" class=\"data row3 col4\" >0.7391</td>\n",
              "                        <td id=\"T_b3c43_row3_col5\" class=\"data row3 col5\" >0.5419</td>\n",
              "                        <td id=\"T_b3c43_row3_col6\" class=\"data row3 col6\" >0.5419</td>\n",
              "            </tr>\n",
              "            <tr>\n",
              "                        <th id=\"T_b3c43_level0_row4\" class=\"row_heading level0 row4\" >4</th>\n",
              "                        <td id=\"T_b3c43_row4_col0\" class=\"data row4 col0\" >0.7826</td>\n",
              "                        <td id=\"T_b3c43_row4_col1\" class=\"data row4 col1\" >0.8501</td>\n",
              "                        <td id=\"T_b3c43_row4_col2\" class=\"data row4 col2\" >0.7484</td>\n",
              "                        <td id=\"T_b3c43_row4_col3\" class=\"data row4 col3\" >0.7451</td>\n",
              "                        <td id=\"T_b3c43_row4_col4\" class=\"data row4 col4\" >0.7468</td>\n",
              "                        <td id=\"T_b3c43_row4_col5\" class=\"data row4 col5\" >0.5562</td>\n",
              "                        <td id=\"T_b3c43_row4_col6\" class=\"data row4 col6\" >0.5562</td>\n",
              "            </tr>\n",
              "            <tr>\n",
              "                        <th id=\"T_b3c43_level0_row5\" class=\"row_heading level0 row5\" >Mean</th>\n",
              "                        <td id=\"T_b3c43_row5_col0\" class=\"data row5 col0\" >0.7803</td>\n",
              "                        <td id=\"T_b3c43_row5_col1\" class=\"data row5 col1\" >0.8495</td>\n",
              "                        <td id=\"T_b3c43_row5_col2\" class=\"data row5 col2\" >0.7479</td>\n",
              "                        <td id=\"T_b3c43_row5_col3\" class=\"data row5 col3\" >0.7416</td>\n",
              "                        <td id=\"T_b3c43_row5_col4\" class=\"data row5 col4\" >0.7447</td>\n",
              "                        <td id=\"T_b3c43_row5_col5\" class=\"data row5 col5\" >0.5519</td>\n",
              "                        <td id=\"T_b3c43_row5_col6\" class=\"data row5 col6\" >0.5519</td>\n",
              "            </tr>\n",
              "            <tr>\n",
              "                        <th id=\"T_b3c43_level0_row6\" class=\"row_heading level0 row6\" >SD</th>\n",
              "                        <td id=\"T_b3c43_row6_col0\" class=\"data row6 col0\" >0.0033</td>\n",
              "                        <td id=\"T_b3c43_row6_col1\" class=\"data row6 col1\" >0.0021</td>\n",
              "                        <td id=\"T_b3c43_row6_col2\" class=\"data row6 col2\" >0.0052</td>\n",
              "                        <td id=\"T_b3c43_row6_col3\" class=\"data row6 col3\" >0.0038</td>\n",
              "                        <td id=\"T_b3c43_row6_col4\" class=\"data row6 col4\" >0.0040</td>\n",
              "                        <td id=\"T_b3c43_row6_col5\" class=\"data row6 col5\" >0.0068</td>\n",
              "                        <td id=\"T_b3c43_row6_col6\" class=\"data row6 col6\" >0.0068</td>\n",
              "            </tr>\n",
              "    </tbody></table>"
            ],
            "text/plain": [
              "<pandas.io.formats.style.Styler at 0x7f9ced299c10>"
            ]
          },
          "metadata": {
            "tags": []
          }
        }
      ]
    },
    {
      "cell_type": "code",
      "metadata": {
        "execution": {
          "iopub.execute_input": "2021-04-28T08:19:26.042695Z",
          "iopub.status.busy": "2021-04-28T08:19:26.031940Z",
          "iopub.status.idle": "2021-04-28T08:19:35.105765Z",
          "shell.execute_reply": "2021-04-28T08:19:35.105165Z"
        },
        "papermill": {
          "duration": 9.216796,
          "end_time": "2021-04-28T08:19:35.105902",
          "exception": false,
          "start_time": "2021-04-28T08:19:25.889106",
          "status": "completed"
        },
        "tags": [],
        "id": "intelligent-encyclopedia",
        "outputId": "17717ec7-07da-453e-bf3a-1b42f4a2772e"
      },
      "source": [
        "ada = create_model('ada')"
      ],
      "id": "intelligent-encyclopedia",
      "execution_count": null,
      "outputs": [
        {
          "output_type": "display_data",
          "data": {
            "text/html": [
              "<style  type=\"text/css\" >\n",
              "#T_41562_row5_col0,#T_41562_row5_col1,#T_41562_row5_col2,#T_41562_row5_col3,#T_41562_row5_col4,#T_41562_row5_col5,#T_41562_row5_col6{\n",
              "            background:  yellow;\n",
              "        }</style><table id=\"T_41562_\" ><thead>    <tr>        <th class=\"blank level0\" ></th>        <th class=\"col_heading level0 col0\" >Accuracy</th>        <th class=\"col_heading level0 col1\" >AUC</th>        <th class=\"col_heading level0 col2\" >Recall</th>        <th class=\"col_heading level0 col3\" >Prec.</th>        <th class=\"col_heading level0 col4\" >F1</th>        <th class=\"col_heading level0 col5\" >Kappa</th>        <th class=\"col_heading level0 col6\" >MCC</th>    </tr></thead><tbody>\n",
              "                <tr>\n",
              "                        <th id=\"T_41562_level0_row0\" class=\"row_heading level0 row0\" >0</th>\n",
              "                        <td id=\"T_41562_row0_col0\" class=\"data row0 col0\" >0.7726</td>\n",
              "                        <td id=\"T_41562_row0_col1\" class=\"data row0 col1\" >0.8423</td>\n",
              "                        <td id=\"T_41562_row0_col2\" class=\"data row0 col2\" >0.6943</td>\n",
              "                        <td id=\"T_41562_row0_col3\" class=\"data row0 col3\" >0.7552</td>\n",
              "                        <td id=\"T_41562_row0_col4\" class=\"data row0 col4\" >0.7235</td>\n",
              "                        <td id=\"T_41562_row0_col5\" class=\"data row0 col5\" >0.5310</td>\n",
              "                        <td id=\"T_41562_row0_col6\" class=\"data row0 col6\" >0.5324</td>\n",
              "            </tr>\n",
              "            <tr>\n",
              "                        <th id=\"T_41562_level0_row1\" class=\"row_heading level0 row1\" >1</th>\n",
              "                        <td id=\"T_41562_row1_col0\" class=\"data row1 col0\" >0.7749</td>\n",
              "                        <td id=\"T_41562_row1_col1\" class=\"data row1 col1\" >0.8419</td>\n",
              "                        <td id=\"T_41562_row1_col2\" class=\"data row1 col2\" >0.7114</td>\n",
              "                        <td id=\"T_41562_row1_col3\" class=\"data row1 col3\" >0.7501</td>\n",
              "                        <td id=\"T_41562_row1_col4\" class=\"data row1 col4\" >0.7302</td>\n",
              "                        <td id=\"T_41562_row1_col5\" class=\"data row1 col5\" >0.5373</td>\n",
              "                        <td id=\"T_41562_row1_col6\" class=\"data row1 col6\" >0.5378</td>\n",
              "            </tr>\n",
              "            <tr>\n",
              "                        <th id=\"T_41562_level0_row2\" class=\"row_heading level0 row2\" >2</th>\n",
              "                        <td id=\"T_41562_row2_col0\" class=\"data row2 col0\" >0.7793</td>\n",
              "                        <td id=\"T_41562_row2_col1\" class=\"data row2 col1\" >0.8469</td>\n",
              "                        <td id=\"T_41562_row2_col2\" class=\"data row2 col2\" >0.7129</td>\n",
              "                        <td id=\"T_41562_row2_col3\" class=\"data row2 col3\" >0.7576</td>\n",
              "                        <td id=\"T_41562_row2_col4\" class=\"data row2 col4\" >0.7346</td>\n",
              "                        <td id=\"T_41562_row2_col5\" class=\"data row2 col5\" >0.5460</td>\n",
              "                        <td id=\"T_41562_row2_col6\" class=\"data row2 col6\" >0.5467</td>\n",
              "            </tr>\n",
              "            <tr>\n",
              "                        <th id=\"T_41562_level0_row3\" class=\"row_heading level0 row3\" >3</th>\n",
              "                        <td id=\"T_41562_row3_col0\" class=\"data row3 col0\" >0.7697</td>\n",
              "                        <td id=\"T_41562_row3_col1\" class=\"data row3 col1\" >0.8408</td>\n",
              "                        <td id=\"T_41562_row3_col2\" class=\"data row3 col2\" >0.6957</td>\n",
              "                        <td id=\"T_41562_row3_col3\" class=\"data row3 col3\" >0.7489</td>\n",
              "                        <td id=\"T_41562_row3_col4\" class=\"data row3 col4\" >0.7213</td>\n",
              "                        <td id=\"T_41562_row3_col5\" class=\"data row3 col5\" >0.5256</td>\n",
              "                        <td id=\"T_41562_row3_col6\" class=\"data row3 col6\" >0.5266</td>\n",
              "            </tr>\n",
              "            <tr>\n",
              "                        <th id=\"T_41562_level0_row4\" class=\"row_heading level0 row4\" >4</th>\n",
              "                        <td id=\"T_41562_row4_col0\" class=\"data row4 col0\" >0.7789</td>\n",
              "                        <td id=\"T_41562_row4_col1\" class=\"data row4 col1\" >0.8442</td>\n",
              "                        <td id=\"T_41562_row4_col2\" class=\"data row4 col2\" >0.7092</td>\n",
              "                        <td id=\"T_41562_row4_col3\" class=\"data row4 col3\" >0.7589</td>\n",
              "                        <td id=\"T_41562_row4_col4\" class=\"data row4 col4\" >0.7332</td>\n",
              "                        <td id=\"T_41562_row4_col5\" class=\"data row4 col5\" >0.5448</td>\n",
              "                        <td id=\"T_41562_row4_col6\" class=\"data row4 col6\" >0.5457</td>\n",
              "            </tr>\n",
              "            <tr>\n",
              "                        <th id=\"T_41562_level0_row5\" class=\"row_heading level0 row5\" >Mean</th>\n",
              "                        <td id=\"T_41562_row5_col0\" class=\"data row5 col0\" >0.7751</td>\n",
              "                        <td id=\"T_41562_row5_col1\" class=\"data row5 col1\" >0.8432</td>\n",
              "                        <td id=\"T_41562_row5_col2\" class=\"data row5 col2\" >0.7047</td>\n",
              "                        <td id=\"T_41562_row5_col3\" class=\"data row5 col3\" >0.7542</td>\n",
              "                        <td id=\"T_41562_row5_col4\" class=\"data row5 col4\" >0.7286</td>\n",
              "                        <td id=\"T_41562_row5_col5\" class=\"data row5 col5\" >0.5369</td>\n",
              "                        <td id=\"T_41562_row5_col6\" class=\"data row5 col6\" >0.5379</td>\n",
              "            </tr>\n",
              "            <tr>\n",
              "                        <th id=\"T_41562_level0_row6\" class=\"row_heading level0 row6\" >SD</th>\n",
              "                        <td id=\"T_41562_row6_col0\" class=\"data row6 col0\" >0.0037</td>\n",
              "                        <td id=\"T_41562_row6_col1\" class=\"data row6 col1\" >0.0021</td>\n",
              "                        <td id=\"T_41562_row6_col2\" class=\"data row6 col2\" >0.0080</td>\n",
              "                        <td id=\"T_41562_row6_col3\" class=\"data row6 col3\" >0.0040</td>\n",
              "                        <td id=\"T_41562_row6_col4\" class=\"data row6 col4\" >0.0053</td>\n",
              "                        <td id=\"T_41562_row6_col5\" class=\"data row6 col5\" >0.0079</td>\n",
              "                        <td id=\"T_41562_row6_col6\" class=\"data row6 col6\" >0.0077</td>\n",
              "            </tr>\n",
              "    </tbody></table>"
            ],
            "text/plain": [
              "<pandas.io.formats.style.Styler at 0x7f9ced299e90>"
            ]
          },
          "metadata": {
            "tags": []
          }
        }
      ]
    },
    {
      "cell_type": "code",
      "metadata": {
        "execution": {
          "iopub.execute_input": "2021-04-28T08:19:35.385822Z",
          "iopub.status.busy": "2021-04-28T08:19:35.385197Z",
          "iopub.status.idle": "2021-04-28T08:20:18.263465Z",
          "shell.execute_reply": "2021-04-28T08:20:18.262889Z"
        },
        "papermill": {
          "duration": 43.019885,
          "end_time": "2021-04-28T08:20:18.263645",
          "exception": false,
          "start_time": "2021-04-28T08:19:35.243760",
          "status": "completed"
        },
        "tags": [],
        "id": "liked-clearing",
        "outputId": "6a7f3dfa-c4ea-4896-f20e-6eda91c1a870"
      },
      "source": [
        "tuned_lightgbm = tune_model(lightgbm, optimize='Accuracy')"
      ],
      "id": "liked-clearing",
      "execution_count": null,
      "outputs": [
        {
          "output_type": "display_data",
          "data": {
            "text/html": [
              "<style  type=\"text/css\" >\n",
              "#T_6273b_row5_col0,#T_6273b_row5_col1,#T_6273b_row5_col2,#T_6273b_row5_col3,#T_6273b_row5_col4,#T_6273b_row5_col5,#T_6273b_row5_col6{\n",
              "            background:  yellow;\n",
              "        }</style><table id=\"T_6273b_\" ><thead>    <tr>        <th class=\"blank level0\" ></th>        <th class=\"col_heading level0 col0\" >Accuracy</th>        <th class=\"col_heading level0 col1\" >AUC</th>        <th class=\"col_heading level0 col2\" >Recall</th>        <th class=\"col_heading level0 col3\" >Prec.</th>        <th class=\"col_heading level0 col4\" >F1</th>        <th class=\"col_heading level0 col5\" >Kappa</th>        <th class=\"col_heading level0 col6\" >MCC</th>    </tr></thead><tbody>\n",
              "                <tr>\n",
              "                        <th id=\"T_6273b_level0_row0\" class=\"row_heading level0 row0\" >0</th>\n",
              "                        <td id=\"T_6273b_row0_col0\" class=\"data row0 col0\" >0.7793</td>\n",
              "                        <td id=\"T_6273b_row0_col1\" class=\"data row0 col1\" >0.8496</td>\n",
              "                        <td id=\"T_6273b_row0_col2\" class=\"data row0 col2\" >0.7382</td>\n",
              "                        <td id=\"T_6273b_row0_col3\" class=\"data row0 col3\" >0.7444</td>\n",
              "                        <td id=\"T_6273b_row0_col4\" class=\"data row0 col4\" >0.7413</td>\n",
              "                        <td id=\"T_6273b_row0_col5\" class=\"data row0 col5\" >0.5488</td>\n",
              "                        <td id=\"T_6273b_row0_col6\" class=\"data row0 col6\" >0.5489</td>\n",
              "            </tr>\n",
              "            <tr>\n",
              "                        <th id=\"T_6273b_level0_row1\" class=\"row_heading level0 row1\" >1</th>\n",
              "                        <td id=\"T_6273b_row1_col0\" class=\"data row1 col0\" >0.7797</td>\n",
              "                        <td id=\"T_6273b_row1_col1\" class=\"data row1 col1\" >0.8492</td>\n",
              "                        <td id=\"T_6273b_row1_col2\" class=\"data row1 col2\" >0.7439</td>\n",
              "                        <td id=\"T_6273b_row1_col3\" class=\"data row1 col3\" >0.7424</td>\n",
              "                        <td id=\"T_6273b_row1_col4\" class=\"data row1 col4\" >0.7431</td>\n",
              "                        <td id=\"T_6273b_row1_col5\" class=\"data row1 col5\" >0.5503</td>\n",
              "                        <td id=\"T_6273b_row1_col6\" class=\"data row1 col6\" >0.5503</td>\n",
              "            </tr>\n",
              "            <tr>\n",
              "                        <th id=\"T_6273b_level0_row2\" class=\"row_heading level0 row2\" >2</th>\n",
              "                        <td id=\"T_6273b_row2_col0\" class=\"data row2 col0\" >0.7858</td>\n",
              "                        <td id=\"T_6273b_row2_col1\" class=\"data row2 col1\" >0.8547</td>\n",
              "                        <td id=\"T_6273b_row2_col2\" class=\"data row2 col2\" >0.7489</td>\n",
              "                        <td id=\"T_6273b_row2_col3\" class=\"data row2 col3\" >0.7505</td>\n",
              "                        <td id=\"T_6273b_row2_col4\" class=\"data row2 col4\" >0.7497</td>\n",
              "                        <td id=\"T_6273b_row2_col5\" class=\"data row2 col5\" >0.5625</td>\n",
              "                        <td id=\"T_6273b_row2_col6\" class=\"data row2 col6\" >0.5625</td>\n",
              "            </tr>\n",
              "            <tr>\n",
              "                        <th id=\"T_6273b_level0_row3\" class=\"row_heading level0 row3\" >3</th>\n",
              "                        <td id=\"T_6273b_row3_col0\" class=\"data row3 col0\" >0.7777</td>\n",
              "                        <td id=\"T_6273b_row3_col1\" class=\"data row3 col1\" >0.8493</td>\n",
              "                        <td id=\"T_6273b_row3_col2\" class=\"data row3 col2\" >0.7467</td>\n",
              "                        <td id=\"T_6273b_row3_col3\" class=\"data row3 col3\" >0.7376</td>\n",
              "                        <td id=\"T_6273b_row3_col4\" class=\"data row3 col4\" >0.7422</td>\n",
              "                        <td id=\"T_6273b_row3_col5\" class=\"data row3 col5\" >0.5468</td>\n",
              "                        <td id=\"T_6273b_row3_col6\" class=\"data row3 col6\" >0.5469</td>\n",
              "            </tr>\n",
              "            <tr>\n",
              "                        <th id=\"T_6273b_level0_row4\" class=\"row_heading level0 row4\" >4</th>\n",
              "                        <td id=\"T_6273b_row4_col0\" class=\"data row4 col0\" >0.7825</td>\n",
              "                        <td id=\"T_6273b_row4_col1\" class=\"data row4 col1\" >0.8508</td>\n",
              "                        <td id=\"T_6273b_row4_col2\" class=\"data row4 col2\" >0.7429</td>\n",
              "                        <td id=\"T_6273b_row4_col3\" class=\"data row4 col3\" >0.7477</td>\n",
              "                        <td id=\"T_6273b_row4_col4\" class=\"data row4 col4\" >0.7453</td>\n",
              "                        <td id=\"T_6273b_row4_col5\" class=\"data row4 col5\" >0.5555</td>\n",
              "                        <td id=\"T_6273b_row4_col6\" class=\"data row4 col6\" >0.5555</td>\n",
              "            </tr>\n",
              "            <tr>\n",
              "                        <th id=\"T_6273b_level0_row5\" class=\"row_heading level0 row5\" >Mean</th>\n",
              "                        <td id=\"T_6273b_row5_col0\" class=\"data row5 col0\" >0.7810</td>\n",
              "                        <td id=\"T_6273b_row5_col1\" class=\"data row5 col1\" >0.8507</td>\n",
              "                        <td id=\"T_6273b_row5_col2\" class=\"data row5 col2\" >0.7441</td>\n",
              "                        <td id=\"T_6273b_row5_col3\" class=\"data row5 col3\" >0.7445</td>\n",
              "                        <td id=\"T_6273b_row5_col4\" class=\"data row5 col4\" >0.7443</td>\n",
              "                        <td id=\"T_6273b_row5_col5\" class=\"data row5 col5\" >0.5528</td>\n",
              "                        <td id=\"T_6273b_row5_col6\" class=\"data row5 col6\" >0.5528</td>\n",
              "            </tr>\n",
              "            <tr>\n",
              "                        <th id=\"T_6273b_level0_row6\" class=\"row_heading level0 row6\" >SD</th>\n",
              "                        <td id=\"T_6273b_row6_col0\" class=\"data row6 col0\" >0.0028</td>\n",
              "                        <td id=\"T_6273b_row6_col1\" class=\"data row6 col1\" >0.0021</td>\n",
              "                        <td id=\"T_6273b_row6_col2\" class=\"data row6 col2\" >0.0036</td>\n",
              "                        <td id=\"T_6273b_row6_col3\" class=\"data row6 col3\" >0.0044</td>\n",
              "                        <td id=\"T_6273b_row6_col4\" class=\"data row6 col4\" >0.0030</td>\n",
              "                        <td id=\"T_6273b_row6_col5\" class=\"data row6 col5\" >0.0056</td>\n",
              "                        <td id=\"T_6273b_row6_col6\" class=\"data row6 col6\" >0.0056</td>\n",
              "            </tr>\n",
              "    </tbody></table>"
            ],
            "text/plain": [
              "<pandas.io.formats.style.Styler at 0x7f9d29b20ed0>"
            ]
          },
          "metadata": {
            "tags": []
          }
        }
      ]
    },
    {
      "cell_type": "code",
      "metadata": {
        "execution": {
          "iopub.execute_input": "2021-04-28T08:20:18.549950Z",
          "iopub.status.busy": "2021-04-28T08:20:18.549243Z",
          "iopub.status.idle": "2021-04-28T08:20:18.552699Z",
          "shell.execute_reply": "2021-04-28T08:20:18.552107Z"
        },
        "papermill": {
          "duration": 0.149516,
          "end_time": "2021-04-28T08:20:18.552859",
          "exception": false,
          "start_time": "2021-04-28T08:20:18.403343",
          "status": "completed"
        },
        "tags": [],
        "id": "local-surface"
      },
      "source": [
        "# tuned_ada = tune_model(ada)"
      ],
      "id": "local-surface",
      "execution_count": null,
      "outputs": []
    },
    {
      "cell_type": "code",
      "metadata": {
        "execution": {
          "iopub.execute_input": "2021-04-28T08:20:18.838769Z",
          "iopub.status.busy": "2021-04-28T08:20:18.837678Z",
          "iopub.status.idle": "2021-04-28T08:24:59.165392Z",
          "shell.execute_reply": "2021-04-28T08:24:59.165971Z"
        },
        "papermill": {
          "duration": 280.472203,
          "end_time": "2021-04-28T08:24:59.166214",
          "exception": false,
          "start_time": "2021-04-28T08:20:18.694011",
          "status": "completed"
        },
        "tags": [],
        "id": "combined-compromise",
        "outputId": "ab18fe88-c5c4-40ea-da01-e10386c25a6a"
      },
      "source": [
        "tuned_catboost = tune_model(catboost, optimize='Accuracy')"
      ],
      "id": "combined-compromise",
      "execution_count": null,
      "outputs": [
        {
          "output_type": "display_data",
          "data": {
            "text/html": [
              "<style  type=\"text/css\" >\n",
              "#T_d58ed_row5_col0,#T_d58ed_row5_col1,#T_d58ed_row5_col2,#T_d58ed_row5_col3,#T_d58ed_row5_col4,#T_d58ed_row5_col5,#T_d58ed_row5_col6{\n",
              "            background:  yellow;\n",
              "        }</style><table id=\"T_d58ed_\" ><thead>    <tr>        <th class=\"blank level0\" ></th>        <th class=\"col_heading level0 col0\" >Accuracy</th>        <th class=\"col_heading level0 col1\" >AUC</th>        <th class=\"col_heading level0 col2\" >Recall</th>        <th class=\"col_heading level0 col3\" >Prec.</th>        <th class=\"col_heading level0 col4\" >F1</th>        <th class=\"col_heading level0 col5\" >Kappa</th>        <th class=\"col_heading level0 col6\" >MCC</th>    </tr></thead><tbody>\n",
              "                <tr>\n",
              "                        <th id=\"T_d58ed_level0_row0\" class=\"row_heading level0 row0\" >0</th>\n",
              "                        <td id=\"T_d58ed_row0_col0\" class=\"data row0 col0\" >0.7815</td>\n",
              "                        <td id=\"T_d58ed_row0_col1\" class=\"data row0 col1\" >0.8501</td>\n",
              "                        <td id=\"T_d58ed_row0_col2\" class=\"data row0 col2\" >0.7455</td>\n",
              "                        <td id=\"T_d58ed_row0_col3\" class=\"data row0 col3\" >0.7447</td>\n",
              "                        <td id=\"T_d58ed_row0_col4\" class=\"data row0 col4\" >0.7451</td>\n",
              "                        <td id=\"T_d58ed_row0_col5\" class=\"data row0 col5\" >0.5539</td>\n",
              "                        <td id=\"T_d58ed_row0_col6\" class=\"data row0 col6\" >0.5539</td>\n",
              "            </tr>\n",
              "            <tr>\n",
              "                        <th id=\"T_d58ed_level0_row1\" class=\"row_heading level0 row1\" >1</th>\n",
              "                        <td id=\"T_d58ed_row1_col0\" class=\"data row1 col0\" >0.7802</td>\n",
              "                        <td id=\"T_d58ed_row1_col1\" class=\"data row1 col1\" >0.8490</td>\n",
              "                        <td id=\"T_d58ed_row1_col2\" class=\"data row1 col2\" >0.7485</td>\n",
              "                        <td id=\"T_d58ed_row1_col3\" class=\"data row1 col3\" >0.7410</td>\n",
              "                        <td id=\"T_d58ed_row1_col4\" class=\"data row1 col4\" >0.7448</td>\n",
              "                        <td id=\"T_d58ed_row1_col5\" class=\"data row1 col5\" >0.5518</td>\n",
              "                        <td id=\"T_d58ed_row1_col6\" class=\"data row1 col6\" >0.5518</td>\n",
              "            </tr>\n",
              "            <tr>\n",
              "                        <th id=\"T_d58ed_level0_row2\" class=\"row_heading level0 row2\" >2</th>\n",
              "                        <td id=\"T_d58ed_row2_col0\" class=\"data row2 col0\" >0.7861</td>\n",
              "                        <td id=\"T_d58ed_row2_col1\" class=\"data row2 col1\" >0.8554</td>\n",
              "                        <td id=\"T_d58ed_row2_col2\" class=\"data row2 col2\" >0.7539</td>\n",
              "                        <td id=\"T_d58ed_row2_col3\" class=\"data row2 col3\" >0.7486</td>\n",
              "                        <td id=\"T_d58ed_row2_col4\" class=\"data row2 col4\" >0.7512</td>\n",
              "                        <td id=\"T_d58ed_row2_col5\" class=\"data row2 col5\" >0.5636</td>\n",
              "                        <td id=\"T_d58ed_row2_col6\" class=\"data row2 col6\" >0.5636</td>\n",
              "            </tr>\n",
              "            <tr>\n",
              "                        <th id=\"T_d58ed_level0_row3\" class=\"row_heading level0 row3\" >3</th>\n",
              "                        <td id=\"T_d58ed_row3_col0\" class=\"data row3 col0\" >0.7786</td>\n",
              "                        <td id=\"T_d58ed_row3_col1\" class=\"data row3 col1\" >0.8494</td>\n",
              "                        <td id=\"T_d58ed_row3_col2\" class=\"data row3 col2\" >0.7462</td>\n",
              "                        <td id=\"T_d58ed_row3_col3\" class=\"data row3 col3\" >0.7395</td>\n",
              "                        <td id=\"T_d58ed_row3_col4\" class=\"data row3 col4\" >0.7428</td>\n",
              "                        <td id=\"T_d58ed_row3_col5\" class=\"data row3 col5\" >0.5485</td>\n",
              "                        <td id=\"T_d58ed_row3_col6\" class=\"data row3 col6\" >0.5486</td>\n",
              "            </tr>\n",
              "            <tr>\n",
              "                        <th id=\"T_d58ed_level0_row4\" class=\"row_heading level0 row4\" >4</th>\n",
              "                        <td id=\"T_d58ed_row4_col0\" class=\"data row4 col0\" >0.7830</td>\n",
              "                        <td id=\"T_d58ed_row4_col1\" class=\"data row4 col1\" >0.8509</td>\n",
              "                        <td id=\"T_d58ed_row4_col2\" class=\"data row4 col2\" >0.7482</td>\n",
              "                        <td id=\"T_d58ed_row4_col3\" class=\"data row4 col3\" >0.7460</td>\n",
              "                        <td id=\"T_d58ed_row4_col4\" class=\"data row4 col4\" >0.7471</td>\n",
              "                        <td id=\"T_d58ed_row4_col5\" class=\"data row4 col5\" >0.5570</td>\n",
              "                        <td id=\"T_d58ed_row4_col6\" class=\"data row4 col6\" >0.5570</td>\n",
              "            </tr>\n",
              "            <tr>\n",
              "                        <th id=\"T_d58ed_level0_row5\" class=\"row_heading level0 row5\" >Mean</th>\n",
              "                        <td id=\"T_d58ed_row5_col0\" class=\"data row5 col0\" >0.7819</td>\n",
              "                        <td id=\"T_d58ed_row5_col1\" class=\"data row5 col1\" >0.8510</td>\n",
              "                        <td id=\"T_d58ed_row5_col2\" class=\"data row5 col2\" >0.7485</td>\n",
              "                        <td id=\"T_d58ed_row5_col3\" class=\"data row5 col3\" >0.7439</td>\n",
              "                        <td id=\"T_d58ed_row5_col4\" class=\"data row5 col4\" >0.7462</td>\n",
              "                        <td id=\"T_d58ed_row5_col5\" class=\"data row5 col5\" >0.5550</td>\n",
              "                        <td id=\"T_d58ed_row5_col6\" class=\"data row5 col6\" >0.5550</td>\n",
              "            </tr>\n",
              "            <tr>\n",
              "                        <th id=\"T_d58ed_level0_row6\" class=\"row_heading level0 row6\" >SD</th>\n",
              "                        <td id=\"T_d58ed_row6_col0\" class=\"data row6 col0\" >0.0025</td>\n",
              "                        <td id=\"T_d58ed_row6_col1\" class=\"data row6 col1\" >0.0023</td>\n",
              "                        <td id=\"T_d58ed_row6_col2\" class=\"data row6 col2\" >0.0029</td>\n",
              "                        <td id=\"T_d58ed_row6_col3\" class=\"data row6 col3\" >0.0033</td>\n",
              "                        <td id=\"T_d58ed_row6_col4\" class=\"data row6 col4\" >0.0028</td>\n",
              "                        <td id=\"T_d58ed_row6_col5\" class=\"data row6 col5\" >0.0051</td>\n",
              "                        <td id=\"T_d58ed_row6_col6\" class=\"data row6 col6\" >0.0051</td>\n",
              "            </tr>\n",
              "    </tbody></table>"
            ],
            "text/plain": [
              "<pandas.io.formats.style.Styler at 0x7f9d16d16810>"
            ]
          },
          "metadata": {
            "tags": []
          }
        }
      ]
    },
    {
      "cell_type": "code",
      "metadata": {
        "execution": {
          "iopub.execute_input": "2021-04-28T08:24:59.450143Z",
          "iopub.status.busy": "2021-04-28T08:24:59.449448Z",
          "iopub.status.idle": "2021-04-28T08:30:31.411221Z",
          "shell.execute_reply": "2021-04-28T08:30:31.410521Z"
        },
        "papermill": {
          "duration": 332.104857,
          "end_time": "2021-04-28T08:30:31.411374",
          "exception": false,
          "start_time": "2021-04-28T08:24:59.306517",
          "status": "completed"
        },
        "tags": [],
        "id": "sufficient-pharmacology",
        "outputId": "13f6017c-6695-43ad-e2d8-a3e37f4af752"
      },
      "source": [
        "tuned_gbc = tune_model(gbc, optimize= 'Accuracy')"
      ],
      "id": "sufficient-pharmacology",
      "execution_count": null,
      "outputs": [
        {
          "output_type": "display_data",
          "data": {
            "text/html": [
              "<style  type=\"text/css\" >\n",
              "#T_8fc3c_row5_col0,#T_8fc3c_row5_col1,#T_8fc3c_row5_col2,#T_8fc3c_row5_col3,#T_8fc3c_row5_col4,#T_8fc3c_row5_col5,#T_8fc3c_row5_col6{\n",
              "            background:  yellow;\n",
              "        }</style><table id=\"T_8fc3c_\" ><thead>    <tr>        <th class=\"blank level0\" ></th>        <th class=\"col_heading level0 col0\" >Accuracy</th>        <th class=\"col_heading level0 col1\" >AUC</th>        <th class=\"col_heading level0 col2\" >Recall</th>        <th class=\"col_heading level0 col3\" >Prec.</th>        <th class=\"col_heading level0 col4\" >F1</th>        <th class=\"col_heading level0 col5\" >Kappa</th>        <th class=\"col_heading level0 col6\" >MCC</th>    </tr></thead><tbody>\n",
              "                <tr>\n",
              "                        <th id=\"T_8fc3c_level0_row0\" class=\"row_heading level0 row0\" >0</th>\n",
              "                        <td id=\"T_8fc3c_row0_col0\" class=\"data row0 col0\" >0.7801</td>\n",
              "                        <td id=\"T_8fc3c_row0_col1\" class=\"data row0 col1\" >0.8485</td>\n",
              "                        <td id=\"T_8fc3c_row0_col2\" class=\"data row0 col2\" >0.7365</td>\n",
              "                        <td id=\"T_8fc3c_row0_col3\" class=\"data row0 col3\" >0.7466</td>\n",
              "                        <td id=\"T_8fc3c_row0_col4\" class=\"data row0 col4\" >0.7415</td>\n",
              "                        <td id=\"T_8fc3c_row0_col5\" class=\"data row0 col5\" >0.5502</td>\n",
              "                        <td id=\"T_8fc3c_row0_col6\" class=\"data row0 col6\" >0.5502</td>\n",
              "            </tr>\n",
              "            <tr>\n",
              "                        <th id=\"T_8fc3c_level0_row1\" class=\"row_heading level0 row1\" >1</th>\n",
              "                        <td id=\"T_8fc3c_row1_col0\" class=\"data row1 col0\" >0.7799</td>\n",
              "                        <td id=\"T_8fc3c_row1_col1\" class=\"data row1 col1\" >0.8485</td>\n",
              "                        <td id=\"T_8fc3c_row1_col2\" class=\"data row1 col2\" >0.7414</td>\n",
              "                        <td id=\"T_8fc3c_row1_col3\" class=\"data row1 col3\" >0.7440</td>\n",
              "                        <td id=\"T_8fc3c_row1_col4\" class=\"data row1 col4\" >0.7427</td>\n",
              "                        <td id=\"T_8fc3c_row1_col5\" class=\"data row1 col5\" >0.5504</td>\n",
              "                        <td id=\"T_8fc3c_row1_col6\" class=\"data row1 col6\" >0.5504</td>\n",
              "            </tr>\n",
              "            <tr>\n",
              "                        <th id=\"T_8fc3c_level0_row2\" class=\"row_heading level0 row2\" >2</th>\n",
              "                        <td id=\"T_8fc3c_row2_col0\" class=\"data row2 col0\" >0.7839</td>\n",
              "                        <td id=\"T_8fc3c_row2_col1\" class=\"data row2 col1\" >0.8545</td>\n",
              "                        <td id=\"T_8fc3c_row2_col2\" class=\"data row2 col2\" >0.7442</td>\n",
              "                        <td id=\"T_8fc3c_row2_col3\" class=\"data row2 col3\" >0.7496</td>\n",
              "                        <td id=\"T_8fc3c_row2_col4\" class=\"data row2 col4\" >0.7469</td>\n",
              "                        <td id=\"T_8fc3c_row2_col5\" class=\"data row2 col5\" >0.5584</td>\n",
              "                        <td id=\"T_8fc3c_row2_col6\" class=\"data row2 col6\" >0.5584</td>\n",
              "            </tr>\n",
              "            <tr>\n",
              "                        <th id=\"T_8fc3c_level0_row3\" class=\"row_heading level0 row3\" >3</th>\n",
              "                        <td id=\"T_8fc3c_row3_col0\" class=\"data row3 col0\" >0.7786</td>\n",
              "                        <td id=\"T_8fc3c_row3_col1\" class=\"data row3 col1\" >0.8494</td>\n",
              "                        <td id=\"T_8fc3c_row3_col2\" class=\"data row3 col2\" >0.7359</td>\n",
              "                        <td id=\"T_8fc3c_row3_col3\" class=\"data row3 col3\" >0.7445</td>\n",
              "                        <td id=\"T_8fc3c_row3_col4\" class=\"data row3 col4\" >0.7402</td>\n",
              "                        <td id=\"T_8fc3c_row3_col5\" class=\"data row3 col5\" >0.5474</td>\n",
              "                        <td id=\"T_8fc3c_row3_col6\" class=\"data row3 col6\" >0.5474</td>\n",
              "            </tr>\n",
              "            <tr>\n",
              "                        <th id=\"T_8fc3c_level0_row4\" class=\"row_heading level0 row4\" >4</th>\n",
              "                        <td id=\"T_8fc3c_row4_col0\" class=\"data row4 col0\" >0.7837</td>\n",
              "                        <td id=\"T_8fc3c_row4_col1\" class=\"data row4 col1\" >0.8511</td>\n",
              "                        <td id=\"T_8fc3c_row4_col2\" class=\"data row4 col2\" >0.7414</td>\n",
              "                        <td id=\"T_8fc3c_row4_col3\" class=\"data row4 col3\" >0.7506</td>\n",
              "                        <td id=\"T_8fc3c_row4_col4\" class=\"data row4 col4\" >0.7460</td>\n",
              "                        <td id=\"T_8fc3c_row4_col5\" class=\"data row4 col5\" >0.5577</td>\n",
              "                        <td id=\"T_8fc3c_row4_col6\" class=\"data row4 col6\" >0.5577</td>\n",
              "            </tr>\n",
              "            <tr>\n",
              "                        <th id=\"T_8fc3c_level0_row5\" class=\"row_heading level0 row5\" >Mean</th>\n",
              "                        <td id=\"T_8fc3c_row5_col0\" class=\"data row5 col0\" >0.7813</td>\n",
              "                        <td id=\"T_8fc3c_row5_col1\" class=\"data row5 col1\" >0.8504</td>\n",
              "                        <td id=\"T_8fc3c_row5_col2\" class=\"data row5 col2\" >0.7399</td>\n",
              "                        <td id=\"T_8fc3c_row5_col3\" class=\"data row5 col3\" >0.7471</td>\n",
              "                        <td id=\"T_8fc3c_row5_col4\" class=\"data row5 col4\" >0.7435</td>\n",
              "                        <td id=\"T_8fc3c_row5_col5\" class=\"data row5 col5\" >0.5528</td>\n",
              "                        <td id=\"T_8fc3c_row5_col6\" class=\"data row5 col6\" >0.5528</td>\n",
              "            </tr>\n",
              "            <tr>\n",
              "                        <th id=\"T_8fc3c_level0_row6\" class=\"row_heading level0 row6\" >SD</th>\n",
              "                        <td id=\"T_8fc3c_row6_col0\" class=\"data row6 col0\" >0.0021</td>\n",
              "                        <td id=\"T_8fc3c_row6_col1\" class=\"data row6 col1\" >0.0023</td>\n",
              "                        <td id=\"T_8fc3c_row6_col2\" class=\"data row6 col2\" >0.0032</td>\n",
              "                        <td id=\"T_8fc3c_row6_col3\" class=\"data row6 col3\" >0.0027</td>\n",
              "                        <td id=\"T_8fc3c_row6_col4\" class=\"data row6 col4\" >0.0026</td>\n",
              "                        <td id=\"T_8fc3c_row6_col5\" class=\"data row6 col5\" >0.0044</td>\n",
              "                        <td id=\"T_8fc3c_row6_col6\" class=\"data row6 col6\" >0.0044</td>\n",
              "            </tr>\n",
              "    </tbody></table>"
            ],
            "text/plain": [
              "<pandas.io.formats.style.Styler at 0x7f9ced2cc2d0>"
            ]
          },
          "metadata": {
            "tags": []
          }
        }
      ]
    },
    {
      "cell_type": "code",
      "metadata": {
        "execution": {
          "iopub.execute_input": "2021-04-28T08:30:31.711819Z",
          "iopub.status.busy": "2021-04-28T08:30:31.699052Z",
          "iopub.status.idle": "2021-04-28T08:33:04.947657Z",
          "shell.execute_reply": "2021-04-28T08:33:04.947103Z"
        },
        "papermill": {
          "duration": 153.394649,
          "end_time": "2021-04-28T08:33:04.947809",
          "exception": false,
          "start_time": "2021-04-28T08:30:31.553160",
          "status": "completed"
        },
        "tags": [],
        "id": "attempted-textbook",
        "outputId": "fa013fd4-471c-461d-c4ae-8b750204c841"
      },
      "source": [
        "tuned_ada = tune_model(ada, optimize='Accuracy')"
      ],
      "id": "attempted-textbook",
      "execution_count": null,
      "outputs": [
        {
          "output_type": "display_data",
          "data": {
            "text/html": [
              "<style  type=\"text/css\" >\n",
              "#T_f677f_row5_col0,#T_f677f_row5_col1,#T_f677f_row5_col2,#T_f677f_row5_col3,#T_f677f_row5_col4,#T_f677f_row5_col5,#T_f677f_row5_col6{\n",
              "            background:  yellow;\n",
              "        }</style><table id=\"T_f677f_\" ><thead>    <tr>        <th class=\"blank level0\" ></th>        <th class=\"col_heading level0 col0\" >Accuracy</th>        <th class=\"col_heading level0 col1\" >AUC</th>        <th class=\"col_heading level0 col2\" >Recall</th>        <th class=\"col_heading level0 col3\" >Prec.</th>        <th class=\"col_heading level0 col4\" >F1</th>        <th class=\"col_heading level0 col5\" >Kappa</th>        <th class=\"col_heading level0 col6\" >MCC</th>    </tr></thead><tbody>\n",
              "                <tr>\n",
              "                        <th id=\"T_f677f_level0_row0\" class=\"row_heading level0 row0\" >0</th>\n",
              "                        <td id=\"T_f677f_row0_col0\" class=\"data row0 col0\" >0.7758</td>\n",
              "                        <td id=\"T_f677f_row0_col1\" class=\"data row0 col1\" >0.8421</td>\n",
              "                        <td id=\"T_f677f_row0_col2\" class=\"data row0 col2\" >0.7015</td>\n",
              "                        <td id=\"T_f677f_row0_col3\" class=\"data row0 col3\" >0.7572</td>\n",
              "                        <td id=\"T_f677f_row0_col4\" class=\"data row0 col4\" >0.7283</td>\n",
              "                        <td id=\"T_f677f_row0_col5\" class=\"data row0 col5\" >0.5379</td>\n",
              "                        <td id=\"T_f677f_row0_col6\" class=\"data row0 col6\" >0.5391</td>\n",
              "            </tr>\n",
              "            <tr>\n",
              "                        <th id=\"T_f677f_level0_row1\" class=\"row_heading level0 row1\" >1</th>\n",
              "                        <td id=\"T_f677f_row1_col0\" class=\"data row1 col0\" >0.7759</td>\n",
              "                        <td id=\"T_f677f_row1_col1\" class=\"data row1 col1\" >0.8415</td>\n",
              "                        <td id=\"T_f677f_row1_col2\" class=\"data row1 col2\" >0.7087</td>\n",
              "                        <td id=\"T_f677f_row1_col3\" class=\"data row1 col3\" >0.7534</td>\n",
              "                        <td id=\"T_f677f_row1_col4\" class=\"data row1 col4\" >0.7304</td>\n",
              "                        <td id=\"T_f677f_row1_col5\" class=\"data row1 col5\" >0.5389</td>\n",
              "                        <td id=\"T_f677f_row1_col6\" class=\"data row1 col6\" >0.5396</td>\n",
              "            </tr>\n",
              "            <tr>\n",
              "                        <th id=\"T_f677f_level0_row2\" class=\"row_heading level0 row2\" >2</th>\n",
              "                        <td id=\"T_f677f_row2_col0\" class=\"data row2 col0\" >0.7802</td>\n",
              "                        <td id=\"T_f677f_row2_col1\" class=\"data row2 col1\" >0.8464</td>\n",
              "                        <td id=\"T_f677f_row2_col2\" class=\"data row2 col2\" >0.7262</td>\n",
              "                        <td id=\"T_f677f_row2_col3\" class=\"data row2 col3\" >0.7522</td>\n",
              "                        <td id=\"T_f677f_row2_col4\" class=\"data row2 col4\" >0.7390</td>\n",
              "                        <td id=\"T_f677f_row2_col5\" class=\"data row2 col5\" >0.5493</td>\n",
              "                        <td id=\"T_f677f_row2_col6\" class=\"data row2 col6\" >0.5495</td>\n",
              "            </tr>\n",
              "            <tr>\n",
              "                        <th id=\"T_f677f_level0_row3\" class=\"row_heading level0 row3\" >3</th>\n",
              "                        <td id=\"T_f677f_row3_col0\" class=\"data row3 col0\" >0.7708</td>\n",
              "                        <td id=\"T_f677f_row3_col1\" class=\"data row3 col1\" >0.8404</td>\n",
              "                        <td id=\"T_f677f_row3_col2\" class=\"data row3 col2\" >0.7016</td>\n",
              "                        <td id=\"T_f677f_row3_col3\" class=\"data row3 col3\" >0.7478</td>\n",
              "                        <td id=\"T_f677f_row3_col4\" class=\"data row3 col4\" >0.7240</td>\n",
              "                        <td id=\"T_f677f_row3_col5\" class=\"data row3 col5\" >0.5283</td>\n",
              "                        <td id=\"T_f677f_row3_col6\" class=\"data row3 col6\" >0.5291</td>\n",
              "            </tr>\n",
              "            <tr>\n",
              "                        <th id=\"T_f677f_level0_row4\" class=\"row_heading level0 row4\" >4</th>\n",
              "                        <td id=\"T_f677f_row4_col0\" class=\"data row4 col0\" >0.7790</td>\n",
              "                        <td id=\"T_f677f_row4_col1\" class=\"data row4 col1\" >0.8431</td>\n",
              "                        <td id=\"T_f677f_row4_col2\" class=\"data row4 col2\" >0.7125</td>\n",
              "                        <td id=\"T_f677f_row4_col3\" class=\"data row4 col3\" >0.7572</td>\n",
              "                        <td id=\"T_f677f_row4_col4\" class=\"data row4 col4\" >0.7342</td>\n",
              "                        <td id=\"T_f677f_row4_col5\" class=\"data row4 col5\" >0.5453</td>\n",
              "                        <td id=\"T_f677f_row4_col6\" class=\"data row4 col6\" >0.5461</td>\n",
              "            </tr>\n",
              "            <tr>\n",
              "                        <th id=\"T_f677f_level0_row5\" class=\"row_heading level0 row5\" >Mean</th>\n",
              "                        <td id=\"T_f677f_row5_col0\" class=\"data row5 col0\" >0.7763</td>\n",
              "                        <td id=\"T_f677f_row5_col1\" class=\"data row5 col1\" >0.8427</td>\n",
              "                        <td id=\"T_f677f_row5_col2\" class=\"data row5 col2\" >0.7101</td>\n",
              "                        <td id=\"T_f677f_row5_col3\" class=\"data row5 col3\" >0.7536</td>\n",
              "                        <td id=\"T_f677f_row5_col4\" class=\"data row5 col4\" >0.7312</td>\n",
              "                        <td id=\"T_f677f_row5_col5\" class=\"data row5 col5\" >0.5400</td>\n",
              "                        <td id=\"T_f677f_row5_col6\" class=\"data row5 col6\" >0.5407</td>\n",
              "            </tr>\n",
              "            <tr>\n",
              "                        <th id=\"T_f677f_level0_row6\" class=\"row_heading level0 row6\" >SD</th>\n",
              "                        <td id=\"T_f677f_row6_col0\" class=\"data row6 col0\" >0.0033</td>\n",
              "                        <td id=\"T_f677f_row6_col1\" class=\"data row6 col1\" >0.0020</td>\n",
              "                        <td id=\"T_f677f_row6_col2\" class=\"data row6 col2\" >0.0091</td>\n",
              "                        <td id=\"T_f677f_row6_col3\" class=\"data row6 col3\" >0.0035</td>\n",
              "                        <td id=\"T_f677f_row6_col4\" class=\"data row6 col4\" >0.0051</td>\n",
              "                        <td id=\"T_f677f_row6_col5\" class=\"data row6 col5\" >0.0072</td>\n",
              "                        <td id=\"T_f677f_row6_col6\" class=\"data row6 col6\" >0.0070</td>\n",
              "            </tr>\n",
              "    </tbody></table>"
            ],
            "text/plain": [
              "<pandas.io.formats.style.Styler at 0x7f9ced5921d0>"
            ]
          },
          "metadata": {
            "tags": []
          }
        }
      ]
    },
    {
      "cell_type": "code",
      "metadata": {
        "execution": {
          "iopub.execute_input": "2021-04-28T08:33:05.240252Z",
          "iopub.status.busy": "2021-04-28T08:33:05.239549Z",
          "iopub.status.idle": "2021-04-28T08:33:05.261787Z",
          "shell.execute_reply": "2021-04-28T08:33:05.260655Z"
        },
        "papermill": {
          "duration": 0.171188,
          "end_time": "2021-04-28T08:33:05.261939",
          "exception": false,
          "start_time": "2021-04-28T08:33:05.090751",
          "status": "completed"
        },
        "tags": [],
        "id": "noticed-sterling",
        "outputId": "74a5ec4d-33db-4da7-fd50-75a6f15f5a0c"
      },
      "source": [
        "test = all_df.iloc[100000:, :]\n",
        "X_test = test.drop(drop_list, axis=1)\n",
        "X_test.head()"
      ],
      "id": "noticed-sterling",
      "execution_count": null,
      "outputs": [
        {
          "output_type": "execute_result",
          "data": {
            "text/html": [
              "<div>\n",
              "<style scoped>\n",
              "    .dataframe tbody tr th:only-of-type {\n",
              "        vertical-align: middle;\n",
              "    }\n",
              "\n",
              "    .dataframe tbody tr th {\n",
              "        vertical-align: top;\n",
              "    }\n",
              "\n",
              "    .dataframe thead th {\n",
              "        text-align: right;\n",
              "    }\n",
              "</style>\n",
              "<table border=\"1\" class=\"dataframe\">\n",
              "  <thead>\n",
              "    <tr style=\"text-align: right;\">\n",
              "      <th></th>\n",
              "      <th>Age</th>\n",
              "      <th>SibSp</th>\n",
              "      <th>Fare</th>\n",
              "      <th>Name</th>\n",
              "      <th>Ticket</th>\n",
              "      <th>Sex</th>\n",
              "      <th>Pclass</th>\n",
              "      <th>Embarked</th>\n",
              "      <th>Cabin_A</th>\n",
              "      <th>Cabin_B</th>\n",
              "      <th>Cabin_C</th>\n",
              "      <th>Cabin_D</th>\n",
              "      <th>Cabin_E</th>\n",
              "      <th>Cabin_F</th>\n",
              "      <th>Cabin_G</th>\n",
              "      <th>Cabin_T</th>\n",
              "      <th>Cabin_X</th>\n",
              "    </tr>\n",
              "  </thead>\n",
              "  <tbody>\n",
              "    <tr>\n",
              "      <th>100000</th>\n",
              "      <td>-0.937422</td>\n",
              "      <td>-0.539572</td>\n",
              "      <td>0.949786</td>\n",
              "      <td>10830</td>\n",
              "      <td>49</td>\n",
              "      <td>1</td>\n",
              "      <td>2</td>\n",
              "      <td>2</td>\n",
              "      <td>0</td>\n",
              "      <td>0</td>\n",
              "      <td>0</td>\n",
              "      <td>0</td>\n",
              "      <td>0</td>\n",
              "      <td>0</td>\n",
              "      <td>0</td>\n",
              "      <td>0</td>\n",
              "      <td>1</td>\n",
              "    </tr>\n",
              "    <tr>\n",
              "      <th>100001</th>\n",
              "      <td>1.123570</td>\n",
              "      <td>-0.539572</td>\n",
              "      <td>-1.273379</td>\n",
              "      <td>17134</td>\n",
              "      <td>49</td>\n",
              "      <td>0</td>\n",
              "      <td>2</td>\n",
              "      <td>2</td>\n",
              "      <td>0</td>\n",
              "      <td>0</td>\n",
              "      <td>0</td>\n",
              "      <td>0</td>\n",
              "      <td>0</td>\n",
              "      <td>0</td>\n",
              "      <td>0</td>\n",
              "      <td>0</td>\n",
              "      <td>1</td>\n",
              "    </tr>\n",
              "    <tr>\n",
              "      <th>100002</th>\n",
              "      <td>-0.937422</td>\n",
              "      <td>-0.539572</td>\n",
              "      <td>0.481059</td>\n",
              "      <td>9978</td>\n",
              "      <td>49</td>\n",
              "      <td>0</td>\n",
              "      <td>0</td>\n",
              "      <td>0</td>\n",
              "      <td>0</td>\n",
              "      <td>1</td>\n",
              "      <td>0</td>\n",
              "      <td>0</td>\n",
              "      <td>0</td>\n",
              "      <td>0</td>\n",
              "      <td>0</td>\n",
              "      <td>0</td>\n",
              "      <td>0</td>\n",
              "    </tr>\n",
              "    <tr>\n",
              "      <th>100003</th>\n",
              "      <td>-0.573717</td>\n",
              "      <td>-0.539572</td>\n",
              "      <td>-0.563310</td>\n",
              "      <td>13303</td>\n",
              "      <td>49</td>\n",
              "      <td>1</td>\n",
              "      <td>1</td>\n",
              "      <td>2</td>\n",
              "      <td>0</td>\n",
              "      <td>0</td>\n",
              "      <td>0</td>\n",
              "      <td>0</td>\n",
              "      <td>0</td>\n",
              "      <td>0</td>\n",
              "      <td>0</td>\n",
              "      <td>0</td>\n",
              "      <td>1</td>\n",
              "    </tr>\n",
              "    <tr>\n",
              "      <th>100004</th>\n",
              "      <td>-1.058657</td>\n",
              "      <td>-0.539572</td>\n",
              "      <td>0.125497</td>\n",
              "      <td>4406</td>\n",
              "      <td>49</td>\n",
              "      <td>0</td>\n",
              "      <td>0</td>\n",
              "      <td>0</td>\n",
              "      <td>0</td>\n",
              "      <td>1</td>\n",
              "      <td>0</td>\n",
              "      <td>0</td>\n",
              "      <td>0</td>\n",
              "      <td>0</td>\n",
              "      <td>0</td>\n",
              "      <td>0</td>\n",
              "      <td>0</td>\n",
              "    </tr>\n",
              "  </tbody>\n",
              "</table>\n",
              "</div>"
            ],
            "text/plain": [
              "             Age     SibSp      Fare   Name  Ticket  Sex  Pclass  Embarked  \\\n",
              "100000 -0.937422 -0.539572  0.949786  10830      49    1       2         2   \n",
              "100001  1.123570 -0.539572 -1.273379  17134      49    0       2         2   \n",
              "100002 -0.937422 -0.539572  0.481059   9978      49    0       0         0   \n",
              "100003 -0.573717 -0.539572 -0.563310  13303      49    1       1         2   \n",
              "100004 -1.058657 -0.539572  0.125497   4406      49    0       0         0   \n",
              "\n",
              "        Cabin_A  Cabin_B  Cabin_C  Cabin_D  Cabin_E  Cabin_F  Cabin_G  \\\n",
              "100000        0        0        0        0        0        0        0   \n",
              "100001        0        0        0        0        0        0        0   \n",
              "100002        0        1        0        0        0        0        0   \n",
              "100003        0        0        0        0        0        0        0   \n",
              "100004        0        1        0        0        0        0        0   \n",
              "\n",
              "        Cabin_T  Cabin_X  \n",
              "100000        0        1  \n",
              "100001        0        1  \n",
              "100002        0        0  \n",
              "100003        0        1  \n",
              "100004        0        0  "
            ]
          },
          "metadata": {
            "tags": []
          },
          "execution_count": 33
        }
      ]
    },
    {
      "cell_type": "code",
      "metadata": {
        "execution": {
          "iopub.execute_input": "2021-04-28T08:33:05.550718Z",
          "iopub.status.busy": "2021-04-28T08:33:05.550070Z",
          "iopub.status.idle": "2021-04-28T08:33:05.553414Z",
          "shell.execute_reply": "2021-04-28T08:33:05.552916Z"
        },
        "papermill": {
          "duration": 0.149189,
          "end_time": "2021-04-28T08:33:05.553552",
          "exception": false,
          "start_time": "2021-04-28T08:33:05.404363",
          "status": "completed"
        },
        "tags": [],
        "id": "flexible-regulation"
      },
      "source": [
        "#best_specific = compare_models(include = ['lightgbm', 'ada'])"
      ],
      "id": "flexible-regulation",
      "execution_count": null,
      "outputs": []
    },
    {
      "cell_type": "code",
      "metadata": {
        "execution": {
          "iopub.execute_input": "2021-04-28T08:33:05.866133Z",
          "iopub.status.busy": "2021-04-28T08:33:05.865386Z",
          "iopub.status.idle": "2021-04-28T08:33:05.870483Z",
          "shell.execute_reply": "2021-04-28T08:33:05.868344Z"
        },
        "papermill": {
          "duration": 0.174056,
          "end_time": "2021-04-28T08:33:05.870716",
          "exception": false,
          "start_time": "2021-04-28T08:33:05.696660",
          "status": "completed"
        },
        "tags": [],
        "id": "hybrid-journalism"
      },
      "source": [
        "#best_specific = compare_models(include = ['lightgbm', 'gbc'])"
      ],
      "id": "hybrid-journalism",
      "execution_count": null,
      "outputs": []
    },
    {
      "cell_type": "code",
      "metadata": {
        "execution": {
          "iopub.execute_input": "2021-04-28T08:33:06.165214Z",
          "iopub.status.busy": "2021-04-28T08:33:06.164490Z",
          "iopub.status.idle": "2021-04-28T08:33:06.167589Z",
          "shell.execute_reply": "2021-04-28T08:33:06.167044Z"
        },
        "papermill": {
          "duration": 0.151278,
          "end_time": "2021-04-28T08:33:06.167733",
          "exception": false,
          "start_time": "2021-04-28T08:33:06.016455",
          "status": "completed"
        },
        "tags": [],
        "id": "criminal-bermuda"
      },
      "source": [
        "#best_specific = compare_models(include = ['lightgbm', 'ada', 'gbc'])"
      ],
      "id": "criminal-bermuda",
      "execution_count": null,
      "outputs": []
    },
    {
      "cell_type": "code",
      "metadata": {
        "papermill": {
          "duration": 0.143106,
          "end_time": "2021-04-28T08:33:06.455127",
          "exception": false,
          "start_time": "2021-04-28T08:33:06.312021",
          "status": "completed"
        },
        "tags": [],
        "id": "infinite-tradition"
      },
      "source": [
        ""
      ],
      "id": "infinite-tradition",
      "execution_count": null,
      "outputs": []
    },
    {
      "cell_type": "markdown",
      "metadata": {
        "papermill": {
          "duration": 0.14522,
          "end_time": "2021-04-28T08:33:06.743263",
          "exception": false,
          "start_time": "2021-04-28T08:33:06.598043",
          "status": "completed"
        },
        "tags": [],
        "id": "appreciated-rover"
      },
      "source": [
        "Soft voting"
      ],
      "id": "appreciated-rover"
    },
    {
      "cell_type": "code",
      "metadata": {
        "execution": {
          "iopub.execute_input": "2021-04-28T08:33:07.036691Z",
          "iopub.status.busy": "2021-04-28T08:33:07.035714Z",
          "iopub.status.idle": "2021-04-28T08:33:07.039459Z",
          "shell.execute_reply": "2021-04-28T08:33:07.038964Z"
        },
        "papermill": {
          "duration": 0.153794,
          "end_time": "2021-04-28T08:33:07.039631",
          "exception": false,
          "start_time": "2021-04-28T08:33:06.885837",
          "status": "completed"
        },
        "tags": [],
        "id": "forty-diagram"
      },
      "source": [
        "def create_submission(model, test, test_passenger_id, model_name):\n",
        "    y_pred_test = model.predict_proba(test)[:, 1]\n",
        "    submission = pd.DataFrame({'PassengerId' : test_passenger_id,\n",
        "                              'Survived' : (y_pred_test >= 0.5).astype(int),\n",
        "                              })\n",
        "    submission.to_csv(f\"submission_{model_name}.csv\", index=False)\n",
        "    \n",
        "    return y_pred_test"
      ],
      "id": "forty-diagram",
      "execution_count": null,
      "outputs": []
    },
    {
      "cell_type": "code",
      "metadata": {
        "execution": {
          "iopub.execute_input": "2021-04-28T08:33:07.337164Z",
          "iopub.status.busy": "2021-04-28T08:33:07.336220Z",
          "iopub.status.idle": "2021-04-28T08:33:12.217651Z",
          "shell.execute_reply": "2021-04-28T08:33:12.216936Z"
        },
        "papermill": {
          "duration": 5.032667,
          "end_time": "2021-04-28T08:33:12.217796",
          "exception": false,
          "start_time": "2021-04-28T08:33:07.185129",
          "status": "completed"
        },
        "tags": [],
        "id": "casual-waterproof"
      },
      "source": [
        "test_pred_catboost = create_submission(\n",
        "    tuned_catboost, X_test, test_df[\"PassengerId\"], \"catboost\"\n",
        ")\n",
        "\n",
        "test_pred_gbc = create_submission(\n",
        "    tuned_gbc, X_test, test_df[\"PassengerId\"], \"gbc\"\n",
        " )\n",
        "\n",
        "test_pred_lightgbm = create_submission(\n",
        "    tuned_lightgbm, X_test, test_df[\"PassengerId\"], \"gbc\"\n",
        " )\n",
        "\n",
        "test_pred_ada = create_submission(\n",
        "    tuned_ada, X_test, test_df[\"PassengerId\"], \"gbc\"\n",
        " )"
      ],
      "id": "casual-waterproof",
      "execution_count": null,
      "outputs": []
    },
    {
      "cell_type": "code",
      "metadata": {
        "execution": {
          "iopub.execute_input": "2021-04-28T08:33:12.509813Z",
          "iopub.status.busy": "2021-04-28T08:33:12.509092Z",
          "iopub.status.idle": "2021-04-28T08:33:12.512829Z",
          "shell.execute_reply": "2021-04-28T08:33:12.513301Z"
        },
        "papermill": {
          "duration": 0.152342,
          "end_time": "2021-04-28T08:33:12.513483",
          "exception": false,
          "start_time": "2021-04-28T08:33:12.361141",
          "status": "completed"
        },
        "tags": [],
        "id": "several-melbourne"
      },
      "source": [
        "test_pred_merged = (\n",
        "    test_pred_catboost +\n",
        "    test_pred_gbc +\n",
        "    test_pred_ada +\n",
        "    test_pred_lightgbm\n",
        ")\n",
        "\n",
        "test_pred_merged = np.round(test_pred_merged / 4)"
      ],
      "id": "several-melbourne",
      "execution_count": null,
      "outputs": []
    },
    {
      "cell_type": "code",
      "metadata": {
        "execution": {
          "iopub.execute_input": "2021-04-28T08:33:12.806015Z",
          "iopub.status.busy": "2021-04-28T08:33:12.805318Z",
          "iopub.status.idle": "2021-04-28T08:33:12.993816Z",
          "shell.execute_reply": "2021-04-28T08:33:12.993115Z"
        },
        "papermill": {
          "duration": 0.337698,
          "end_time": "2021-04-28T08:33:12.993955",
          "exception": false,
          "start_time": "2021-04-28T08:33:12.656257",
          "status": "completed"
        },
        "tags": [],
        "id": "colonial-disney"
      },
      "source": [
        "submission = pd.DataFrame(\n",
        "    {\n",
        "        'PassengerId' : test_df[\"PassengerId\"],\n",
        "        'Survived' : test_pred_merged.astype(int),\n",
        "    }\n",
        ")\n",
        "\n",
        "submission.to_csv(f\"submission_merged.csv\", index=False)"
      ],
      "id": "colonial-disney",
      "execution_count": null,
      "outputs": []
    },
    {
      "cell_type": "markdown",
      "metadata": {
        "papermill": {
          "duration": 0.143226,
          "end_time": "2021-04-28T08:33:13.282347",
          "exception": false,
          "start_time": "2021-04-28T08:33:13.139121",
          "status": "completed"
        },
        "tags": [],
        "id": "arctic-receptor"
      },
      "source": [
        "## not pseudo"
      ],
      "id": "arctic-receptor"
    },
    {
      "cell_type": "code",
      "metadata": {
        "_kg_hide-input": false,
        "execution": {
          "iopub.execute_input": "2021-04-28T08:33:13.573329Z",
          "iopub.status.busy": "2021-04-28T08:33:13.572605Z",
          "iopub.status.idle": "2021-04-28T08:33:13.577026Z",
          "shell.execute_reply": "2021-04-28T08:33:13.576487Z"
        },
        "papermill": {
          "duration": 0.152201,
          "end_time": "2021-04-28T08:33:13.577195",
          "exception": false,
          "start_time": "2021-04-28T08:33:13.424994",
          "status": "completed"
        },
        "tags": [],
        "id": "nervous-prime",
        "outputId": "1fa995b7-5b7a-45ee-8feb-b648e1d15f0b"
      },
      "source": [
        "'''train = all_df.iloc[:100000, :]#0개~100000개\n",
        "test = all_df.iloc[100000:, :] #100000개~ \n",
        "#iloc은 정수형 인덱싱\n",
        "test = test.drop('Survived', axis=1) #test에서 종속변수를 드랍한다. \n",
        "model_results = pd.DataFrame()\n",
        "folds = 5'''"
      ],
      "id": "nervous-prime",
      "execution_count": null,
      "outputs": [
        {
          "output_type": "execute_result",
          "data": {
            "text/plain": [
              "\"train = all_df.iloc[:100000, :]#0개~100000개\\ntest = all_df.iloc[100000:, :] #100000개~ \\n#iloc은 정수형 인덱싱\\ntest = test.drop('Survived', axis=1) #test에서 종속변수를 드랍한다. \\nmodel_results = pd.DataFrame()\\nfolds = 5\""
            ]
          },
          "metadata": {
            "tags": []
          },
          "execution_count": 41
        }
      ]
    },
    {
      "cell_type": "code",
      "metadata": {
        "_kg_hide-input": false,
        "execution": {
          "iopub.execute_input": "2021-04-28T08:33:13.872098Z",
          "iopub.status.busy": "2021-04-28T08:33:13.871191Z",
          "iopub.status.idle": "2021-04-28T08:33:13.875645Z",
          "shell.execute_reply": "2021-04-28T08:33:13.875121Z"
        },
        "papermill": {
          "duration": 0.154572,
          "end_time": "2021-04-28T08:33:13.875790",
          "exception": false,
          "start_time": "2021-04-28T08:33:13.721218",
          "status": "completed"
        },
        "tags": [],
        "id": "theoretical-stupid",
        "outputId": "45c07615-ead5-465c-834d-57136cd1e399"
      },
      "source": [
        "'''y= train.loc[:,'Survived']\n",
        "X= train.drop(drop_list,axis=1)'''"
      ],
      "id": "theoretical-stupid",
      "execution_count": null,
      "outputs": [
        {
          "output_type": "execute_result",
          "data": {
            "text/plain": [
              "\"y= train.loc[:,'Survived']\\nX= train.drop(drop_list,axis=1)\""
            ]
          },
          "metadata": {
            "tags": []
          },
          "execution_count": 42
        }
      ]
    },
    {
      "cell_type": "markdown",
      "metadata": {
        "papermill": {
          "duration": 0.145136,
          "end_time": "2021-04-28T08:33:14.167868",
          "exception": false,
          "start_time": "2021-04-28T08:33:14.022732",
          "status": "completed"
        },
        "tags": [],
        "id": "overhead-detroit"
      },
      "source": [
        "## pseudo"
      ],
      "id": "overhead-detroit"
    },
    {
      "cell_type": "code",
      "metadata": {
        "_kg_hide-input": true,
        "execution": {
          "iopub.execute_input": "2021-04-28T08:33:14.461625Z",
          "iopub.status.busy": "2021-04-28T08:33:14.460648Z",
          "iopub.status.idle": "2021-04-28T08:33:14.463020Z",
          "shell.execute_reply": "2021-04-28T08:33:14.463459Z"
        },
        "papermill": {
          "duration": 0.151065,
          "end_time": "2021-04-28T08:33:14.463646",
          "exception": false,
          "start_time": "2021-04-28T08:33:14.312581",
          "status": "completed"
        },
        "tags": [],
        "id": "serial-decision"
      },
      "source": [
        "# y=all_df.loc[:,'Survived']\n",
        "# X=all_df.drop('Survived',axis=1)"
      ],
      "id": "serial-decision",
      "execution_count": null,
      "outputs": []
    },
    {
      "cell_type": "code",
      "metadata": {
        "_kg_hide-input": true,
        "execution": {
          "iopub.execute_input": "2021-04-28T08:33:14.757420Z",
          "iopub.status.busy": "2021-04-28T08:33:14.756793Z",
          "iopub.status.idle": "2021-04-28T08:33:14.763618Z",
          "shell.execute_reply": "2021-04-28T08:33:14.763068Z"
        },
        "papermill": {
          "duration": 0.154579,
          "end_time": "2021-04-28T08:33:14.763759",
          "exception": false,
          "start_time": "2021-04-28T08:33:14.609180",
          "status": "completed"
        },
        "tags": [],
        "id": "annual-summary",
        "outputId": "8cc67196-27ee-408a-98d5-818a29403df4"
      },
      "source": [
        "'''X_train, X_valid, y_train, y_valid = train_test_split(X,y,test_size=0.25, random_state=21)\n",
        "'''"
      ],
      "id": "annual-summary",
      "execution_count": null,
      "outputs": [
        {
          "output_type": "execute_result",
          "data": {
            "text/plain": [
              "'X_train, X_valid, y_train, y_valid = train_test_split(X,y,test_size=0.25, random_state=21)\\n'"
            ]
          },
          "metadata": {
            "tags": []
          },
          "execution_count": 44
        }
      ]
    },
    {
      "cell_type": "code",
      "metadata": {
        "execution": {
          "iopub.execute_input": "2021-04-28T08:33:15.060942Z",
          "iopub.status.busy": "2021-04-28T08:33:15.060010Z",
          "iopub.status.idle": "2021-04-28T08:33:15.064300Z",
          "shell.execute_reply": "2021-04-28T08:33:15.063810Z"
        },
        "papermill": {
          "duration": 0.154417,
          "end_time": "2021-04-28T08:33:15.064442",
          "exception": false,
          "start_time": "2021-04-28T08:33:14.910025",
          "status": "completed"
        },
        "tags": [],
        "id": "gorgeous-speaking",
        "outputId": "541fc0f2-89ba-4c80-9f84-5894c951d004"
      },
      "source": [
        "'''from sklearn import metrics  \n",
        "from sklearn.metrics import accuracy_score\n",
        "import numpy as np'''"
      ],
      "id": "gorgeous-speaking",
      "execution_count": null,
      "outputs": [
        {
          "output_type": "execute_result",
          "data": {
            "text/plain": [
              "'from sklearn import metrics  \\nfrom sklearn.metrics import accuracy_score\\nimport numpy as np'"
            ]
          },
          "metadata": {
            "tags": []
          },
          "execution_count": 45
        }
      ]
    },
    {
      "cell_type": "code",
      "metadata": {
        "execution": {
          "iopub.execute_input": "2021-04-28T08:33:15.361655Z",
          "iopub.status.busy": "2021-04-28T08:33:15.360998Z",
          "iopub.status.idle": "2021-04-28T08:33:15.364252Z",
          "shell.execute_reply": "2021-04-28T08:33:15.364732Z"
        },
        "papermill": {
          "duration": 0.154454,
          "end_time": "2021-04-28T08:33:15.364905",
          "exception": false,
          "start_time": "2021-04-28T08:33:15.210451",
          "status": "completed"
        },
        "tags": [],
        "id": "fluid-description",
        "outputId": "d4fb1003-761c-48c9-cb24-5f934364e1fe"
      },
      "source": [
        "'''params = {\n",
        "    'metric': 'binary_logloss',\n",
        "    'n_estimators': N_ESTIMATORS,\n",
        "    'objective': 'binary',\n",
        "    'random_state': SEED,\n",
        "    'learning_rate': 0.01,\n",
        "    'min_child_samples': 150,\n",
        "    'reg_alpha': 3e-5,\n",
        "    'reg_lambda': 9e-2,\n",
        "    'num_leaves': 20,\n",
        "    'max_depth': 16,\n",
        "    'colsample_bytree': 0.8,\n",
        "    'subsample': 0.8,\n",
        "    'subsample_freq': 2,\n",
        "    'max_bin': 240,\n",
        "}'''"
      ],
      "id": "fluid-description",
      "execution_count": null,
      "outputs": [
        {
          "output_type": "execute_result",
          "data": {
            "text/plain": [
              "\"params = {\\n    'metric': 'binary_logloss',\\n    'n_estimators': N_ESTIMATORS,\\n    'objective': 'binary',\\n    'random_state': SEED,\\n    'learning_rate': 0.01,\\n    'min_child_samples': 150,\\n    'reg_alpha': 3e-5,\\n    'reg_lambda': 9e-2,\\n    'num_leaves': 20,\\n    'max_depth': 16,\\n    'colsample_bytree': 0.8,\\n    'subsample': 0.8,\\n    'subsample_freq': 2,\\n    'max_bin': 240,\\n}\""
            ]
          },
          "metadata": {
            "tags": []
          },
          "execution_count": 46
        }
      ]
    },
    {
      "cell_type": "code",
      "metadata": {
        "execution": {
          "iopub.execute_input": "2021-04-28T08:33:15.661652Z",
          "iopub.status.busy": "2021-04-28T08:33:15.660776Z",
          "iopub.status.idle": "2021-04-28T08:33:15.664232Z",
          "shell.execute_reply": "2021-04-28T08:33:15.664697Z"
        },
        "papermill": {
          "duration": 0.154073,
          "end_time": "2021-04-28T08:33:15.664870",
          "exception": false,
          "start_time": "2021-04-28T08:33:15.510797",
          "status": "completed"
        },
        "tags": [],
        "id": "universal-matter",
        "outputId": "463cf00c-53e6-475d-b88a-554492ba7240"
      },
      "source": [
        "'''lgbm_model=lgb.LGBMClassifier(**params)\n",
        "lgbm_model.fit(X_train,y_train)\n",
        "lgbm_pred=lgbm_model.predict(X_valid)\n",
        "\n",
        "lgbm_R2=metrics.accuracy_score(y_valid,lgbm_pred)\n",
        "#lgbm_rmse = np.sqrt(mean_squared_error(lgbm_pred,y_valid))\n",
        "print('R2 : ',lgbm_R2)\n",
        "#print(\"RMSE : \", lgbm_rmse)'''"
      ],
      "id": "universal-matter",
      "execution_count": null,
      "outputs": [
        {
          "output_type": "execute_result",
          "data": {
            "text/plain": [
              "'lgbm_model=lgb.LGBMClassifier(**params)\\nlgbm_model.fit(X_train,y_train)\\nlgbm_pred=lgbm_model.predict(X_valid)\\n\\nlgbm_R2=metrics.accuracy_score(y_valid,lgbm_pred)\\n#lgbm_rmse = np.sqrt(mean_squared_error(lgbm_pred,y_valid))\\nprint(\\'R2 : \\',lgbm_R2)\\n#print(\"RMSE : \", lgbm_rmse)'"
            ]
          },
          "metadata": {
            "tags": []
          },
          "execution_count": 47
        }
      ]
    },
    {
      "cell_type": "code",
      "metadata": {
        "papermill": {
          "duration": 0.148811,
          "end_time": "2021-04-28T08:33:15.964825",
          "exception": false,
          "start_time": "2021-04-28T08:33:15.816014",
          "status": "completed"
        },
        "tags": [],
        "id": "homeless-hayes"
      },
      "source": [
        ""
      ],
      "id": "homeless-hayes",
      "execution_count": null,
      "outputs": []
    },
    {
      "cell_type": "code",
      "metadata": {
        "execution": {
          "iopub.execute_input": "2021-04-28T08:33:16.262519Z",
          "iopub.status.busy": "2021-04-28T08:33:16.261870Z",
          "iopub.status.idle": "2021-04-28T08:33:16.266192Z",
          "shell.execute_reply": "2021-04-28T08:33:16.265506Z"
        },
        "papermill": {
          "duration": 0.154489,
          "end_time": "2021-04-28T08:33:16.266336",
          "exception": false,
          "start_time": "2021-04-28T08:33:16.111847",
          "status": "completed"
        },
        "tags": [],
        "id": "rising-orchestra",
        "outputId": "da30c3b1-f48b-4b74-8aac-92db1b4c85ac"
      },
      "source": [
        "'''print(len(X_train.columns))\n",
        "print(X_train.columns)'''"
      ],
      "id": "rising-orchestra",
      "execution_count": null,
      "outputs": [
        {
          "output_type": "execute_result",
          "data": {
            "text/plain": [
              "'print(len(X_train.columns))\\nprint(X_train.columns)'"
            ]
          },
          "metadata": {
            "tags": []
          },
          "execution_count": 48
        }
      ]
    },
    {
      "cell_type": "code",
      "metadata": {
        "execution": {
          "iopub.execute_input": "2021-04-28T08:33:16.565492Z",
          "iopub.status.busy": "2021-04-28T08:33:16.564872Z",
          "iopub.status.idle": "2021-04-28T08:33:16.568956Z",
          "shell.execute_reply": "2021-04-28T08:33:16.568433Z"
        },
        "papermill": {
          "duration": 0.155471,
          "end_time": "2021-04-28T08:33:16.569098",
          "exception": false,
          "start_time": "2021-04-28T08:33:16.413627",
          "status": "completed"
        },
        "tags": [],
        "id": "distributed-indonesia",
        "outputId": "61188da9-dbd6-4f29-f325-ff47dca458f6"
      },
      "source": [
        "'''def cal_adjust_r2(r2):\n",
        "    n=80000\n",
        "    k= len(X_train.columns)\n",
        "    temp=(1-r2)*(n-1)\n",
        "    temp2=n-k-1\n",
        "    ad_r2=1-(temp/temp2)\n",
        "    return ad_r2'''"
      ],
      "id": "distributed-indonesia",
      "execution_count": null,
      "outputs": [
        {
          "output_type": "execute_result",
          "data": {
            "text/plain": [
              "'def cal_adjust_r2(r2):\\n    n=80000\\n    k= len(X_train.columns)\\n    temp=(1-r2)*(n-1)\\n    temp2=n-k-1\\n    ad_r2=1-(temp/temp2)\\n    return ad_r2'"
            ]
          },
          "metadata": {
            "tags": []
          },
          "execution_count": 49
        }
      ]
    },
    {
      "cell_type": "code",
      "metadata": {
        "execution": {
          "iopub.execute_input": "2021-04-28T08:33:16.893494Z",
          "iopub.status.busy": "2021-04-28T08:33:16.892648Z",
          "iopub.status.idle": "2021-04-28T08:33:16.897231Z",
          "shell.execute_reply": "2021-04-28T08:33:16.896705Z"
        },
        "papermill": {
          "duration": 0.180829,
          "end_time": "2021-04-28T08:33:16.897364",
          "exception": false,
          "start_time": "2021-04-28T08:33:16.716535",
          "status": "completed"
        },
        "tags": [],
        "id": "decreased-stewart",
        "outputId": "3e494beb-9594-4590-b410-28114bd461e4"
      },
      "source": [
        "'''ad_r2_lgbm=cal_adjust_r2(lgbm_R2)\n",
        "print(ad_r2_lgbm)'''"
      ],
      "id": "decreased-stewart",
      "execution_count": null,
      "outputs": [
        {
          "output_type": "execute_result",
          "data": {
            "text/plain": [
              "'ad_r2_lgbm=cal_adjust_r2(lgbm_R2)\\nprint(ad_r2_lgbm)'"
            ]
          },
          "metadata": {
            "tags": []
          },
          "execution_count": 50
        }
      ]
    },
    {
      "cell_type": "markdown",
      "metadata": {
        "papermill": {
          "duration": 0.147822,
          "end_time": "2021-04-28T08:33:17.194603",
          "exception": false,
          "start_time": "2021-04-28T08:33:17.046781",
          "status": "completed"
        },
        "tags": [],
        "id": "together-sitting"
      },
      "source": [
        ""
      ],
      "id": "together-sitting"
    },
    {
      "cell_type": "code",
      "metadata": {
        "execution": {
          "iopub.execute_input": "2021-04-28T08:33:17.492908Z",
          "iopub.status.busy": "2021-04-28T08:33:17.492245Z",
          "iopub.status.idle": "2021-04-28T08:33:17.496369Z",
          "shell.execute_reply": "2021-04-28T08:33:17.496876Z"
        },
        "papermill": {
          "duration": 0.155201,
          "end_time": "2021-04-28T08:33:17.497042",
          "exception": false,
          "start_time": "2021-04-28T08:33:17.341841",
          "status": "completed"
        },
        "tags": [],
        "id": "revolutionary-paris",
        "outputId": "bcf6de2a-a3b2-44be-ab86-00d3220fb8ec"
      },
      "source": [
        "'''#NOT Pseudo\n",
        "train_kf_feature=train.drop(drop_list,axis=1)\n",
        "train_kf_label=train.loc[:,'Survived']'''"
      ],
      "id": "revolutionary-paris",
      "execution_count": null,
      "outputs": [
        {
          "output_type": "execute_result",
          "data": {
            "text/plain": [
              "\"#NOT Pseudo\\ntrain_kf_feature=train.drop(drop_list,axis=1)\\ntrain_kf_label=train.loc[:,'Survived']\""
            ]
          },
          "metadata": {
            "tags": []
          },
          "execution_count": 51
        }
      ]
    },
    {
      "cell_type": "code",
      "metadata": {
        "execution": {
          "iopub.execute_input": "2021-04-28T08:33:17.802824Z",
          "iopub.status.busy": "2021-04-28T08:33:17.801774Z",
          "iopub.status.idle": "2021-04-28T08:33:17.804777Z",
          "shell.execute_reply": "2021-04-28T08:33:17.804113Z"
        },
        "papermill": {
          "duration": 0.159512,
          "end_time": "2021-04-28T08:33:17.804962",
          "exception": false,
          "start_time": "2021-04-28T08:33:17.645450",
          "status": "completed"
        },
        "tags": [],
        "id": "level-significance"
      },
      "source": [
        "#Pseudo\n",
        "# train_kf_feature=all_df.drop(drop_list,axis=1)\n",
        "# train_kf_label=all_df.loc[:,'Survived']"
      ],
      "id": "level-significance",
      "execution_count": null,
      "outputs": []
    },
    {
      "cell_type": "code",
      "metadata": {
        "execution": {
          "iopub.execute_input": "2021-04-28T08:33:18.113343Z",
          "iopub.status.busy": "2021-04-28T08:33:18.112340Z",
          "iopub.status.idle": "2021-04-28T08:33:18.118119Z",
          "shell.execute_reply": "2021-04-28T08:33:18.118591Z"
        },
        "papermill": {
          "duration": 0.159514,
          "end_time": "2021-04-28T08:33:18.118760",
          "exception": false,
          "start_time": "2021-04-28T08:33:17.959246",
          "status": "completed"
        },
        "tags": [],
        "id": "wanted-bunny",
        "outputId": "c39a7eae-a19a-4c24-cd93-91fa3a286c53"
      },
      "source": [
        "'''n_iter=0\n",
        "kfold=StratifiedKFold(n_splits=5)\n",
        "cv_accuracy=[]\n",
        "feature_importances = pd.DataFrame()\n",
        "\n",
        "for train_idx, test_idx in kfold.split(train_kf_feature,train_kf_label):\n",
        "\n",
        "    X_train=train_kf_feature.iloc[train_idx]\n",
        "    X_test=train_kf_feature.iloc[test_idx]\n",
        "    y_train,y_test=train_kf_label.iloc[train_idx],train_kf_label.iloc[test_idx]\n",
        "    #학습 진행\n",
        "    lgbm_model.fit(X_train,y_train)\n",
        "    #예측\n",
        "    fold_pred=lgbm_model.predict(X_test)\n",
        "    \n",
        "    #정확도\n",
        "    n_iter+=1\n",
        "    fold_accuracy=metrics.accuracy_score(y_test,fold_pred)\n",
        "    print(\"\\n {}번째  교차 검증 정확도 : {} , 학습 데이터 크기:{}, 검증 데이터 크기 :{} \".\n",
        "          format(n_iter,fold_accuracy,X_train.shape[0],X_test.shape[0]))\n",
        "    cv_accuracy.append(fold_accuracy)\n",
        "    \n",
        "    #중요도 \n",
        "    fi_tmp = pd.DataFrame()\n",
        "    fi_tmp[\"feature\"] = lgbm_model.feature_name_\n",
        "    fi_tmp[\"importance\"] = lgbm_model.feature_importances_\n",
        "    feature_importances = feature_importances.append(fi_tmp)\n",
        "\n",
        "print('\\n 평균 검증 정확도 : ',np.mean(cv_accuracy))\n",
        "    '''"
      ],
      "id": "wanted-bunny",
      "execution_count": null,
      "outputs": [
        {
          "output_type": "execute_result",
          "data": {
            "text/plain": [
              "'n_iter=0\\nkfold=StratifiedKFold(n_splits=5)\\ncv_accuracy=[]\\nfeature_importances = pd.DataFrame()\\n\\nfor train_idx, test_idx in kfold.split(train_kf_feature,train_kf_label):\\n\\n    X_train=train_kf_feature.iloc[train_idx]\\n    X_test=train_kf_feature.iloc[test_idx]\\n    y_train,y_test=train_kf_label.iloc[train_idx],train_kf_label.iloc[test_idx]\\n    #학습 진행\\n    lgbm_model.fit(X_train,y_train)\\n    #예측\\n    fold_pred=lgbm_model.predict(X_test)\\n    \\n    #정확도\\n    n_iter+=1\\n    fold_accuracy=metrics.accuracy_score(y_test,fold_pred)\\n    print(\"\\n {}번째  교차 검증 정확도 : {} , 학습 데이터 크기:{}, 검증 데이터 크기 :{} \".\\n          format(n_iter,fold_accuracy,X_train.shape[0],X_test.shape[0]))\\n    cv_accuracy.append(fold_accuracy)\\n    \\n    #중요도 \\n    fi_tmp = pd.DataFrame()\\n    fi_tmp[\"feature\"] = lgbm_model.feature_name_\\n    fi_tmp[\"importance\"] = lgbm_model.feature_importances_\\n    feature_importances = feature_importances.append(fi_tmp)\\n\\nprint(\\'\\n 평균 검증 정확도 : \\',np.mean(cv_accuracy))\\n    '"
            ]
          },
          "metadata": {
            "tags": []
          },
          "execution_count": 53
        }
      ]
    },
    {
      "cell_type": "code",
      "metadata": {
        "execution": {
          "iopub.execute_input": "2021-04-28T08:33:18.418460Z",
          "iopub.status.busy": "2021-04-28T08:33:18.417508Z",
          "iopub.status.idle": "2021-04-28T08:33:18.423669Z",
          "shell.execute_reply": "2021-04-28T08:33:18.423139Z"
        },
        "papermill": {
          "duration": 0.157326,
          "end_time": "2021-04-28T08:33:18.423821",
          "exception": false,
          "start_time": "2021-04-28T08:33:18.266495",
          "status": "completed"
        },
        "tags": [],
        "id": "massive-adaptation",
        "outputId": "fbab0b57-03e5-41e8-b71b-d84ad7d8e6e5"
      },
      "source": [
        "'''order = list(feature_importances.groupby(\"feature\").\n",
        "             mean().sort_values(\"importance\", ascending=False).index)\n",
        "plt.figure(figsize=(10, 10))\n",
        "sns.barplot(x=\"importance\", y=\"feature\", data=feature_importances, order=order)\n",
        "plt.title(\"{} importance\".format(\"LGBMRegressor\"))\n",
        "plt.tight_layout()'''"
      ],
      "id": "massive-adaptation",
      "execution_count": null,
      "outputs": [
        {
          "output_type": "execute_result",
          "data": {
            "text/plain": [
              "'order = list(feature_importances.groupby(\"feature\").\\n             mean().sort_values(\"importance\", ascending=False).index)\\nplt.figure(figsize=(10, 10))\\nsns.barplot(x=\"importance\", y=\"feature\", data=feature_importances, order=order)\\nplt.title(\"{} importance\".format(\"LGBMRegressor\"))\\nplt.tight_layout()'"
            ]
          },
          "metadata": {
            "tags": []
          },
          "execution_count": 54
        }
      ]
    },
    {
      "cell_type": "markdown",
      "metadata": {
        "papermill": {
          "duration": 0.148849,
          "end_time": "2021-04-28T08:33:18.723247",
          "exception": false,
          "start_time": "2021-04-28T08:33:18.574398",
          "status": "completed"
        },
        "tags": [],
        "id": "integrated-chinese"
      },
      "source": [
        "### CATBoost\n"
      ],
      "id": "integrated-chinese"
    },
    {
      "cell_type": "code",
      "metadata": {
        "execution": {
          "iopub.execute_input": "2021-04-28T08:33:19.030284Z",
          "iopub.status.busy": "2021-04-28T08:33:19.029366Z",
          "iopub.status.idle": "2021-04-28T08:33:19.033077Z",
          "shell.execute_reply": "2021-04-28T08:33:19.033523Z"
        },
        "papermill": {
          "duration": 0.158999,
          "end_time": "2021-04-28T08:33:19.033709",
          "exception": false,
          "start_time": "2021-04-28T08:33:18.874710",
          "status": "completed"
        },
        "tags": [],
        "id": "sharing-devil",
        "outputId": "9669500a-4277-4e08-ef4f-23ba3905980e"
      },
      "source": [
        "'''params_cat = {\n",
        "    'bootstrap_type': 'Poisson',\n",
        "    'loss_function': 'Logloss',\n",
        "    'eval_metric': 'Logloss',\n",
        "    'random_seed': SEED,\n",
        "    'task_type': 'GPU',\n",
        "    'max_depth': 8,\n",
        "    'learning_rate': 0.01,\n",
        "    'n_estimators': N_ESTIMATORS,\n",
        "    'max_bin': 280,\n",
        "    'min_data_in_leaf': 64,\n",
        "    'l2_leaf_reg': 0.01,\n",
        "    'subsample': 0.8\n",
        "}'''"
      ],
      "id": "sharing-devil",
      "execution_count": null,
      "outputs": [
        {
          "output_type": "execute_result",
          "data": {
            "text/plain": [
              "\"params_cat = {\\n    'bootstrap_type': 'Poisson',\\n    'loss_function': 'Logloss',\\n    'eval_metric': 'Logloss',\\n    'random_seed': SEED,\\n    'task_type': 'GPU',\\n    'max_depth': 8,\\n    'learning_rate': 0.01,\\n    'n_estimators': N_ESTIMATORS,\\n    'max_bin': 280,\\n    'min_data_in_leaf': 64,\\n    'l2_leaf_reg': 0.01,\\n    'subsample': 0.8\\n}\""
            ]
          },
          "metadata": {
            "tags": []
          },
          "execution_count": 55
        }
      ]
    },
    {
      "cell_type": "code",
      "metadata": {
        "execution": {
          "iopub.execute_input": "2021-04-28T08:33:19.357298Z",
          "iopub.status.busy": "2021-04-28T08:33:19.356375Z",
          "iopub.status.idle": "2021-04-28T08:33:19.360592Z",
          "shell.execute_reply": "2021-04-28T08:33:19.361391Z"
        },
        "papermill": {
          "duration": 0.176414,
          "end_time": "2021-04-28T08:33:19.361640",
          "exception": false,
          "start_time": "2021-04-28T08:33:19.185226",
          "status": "completed"
        },
        "tags": [],
        "id": "medical-pathology",
        "outputId": "ba919903-cda4-44e0-c438-ad0e56791fdf"
      },
      "source": [
        "'''#새로운 트레인 valid 셋\n",
        "X_train, X_valid, y_train, y_valid = train_test_split(X,y,test_size=0.25, random_state=21)\n",
        "''''''"
      ],
      "id": "medical-pathology",
      "execution_count": null,
      "outputs": [
        {
          "output_type": "error",
          "ename": "SyntaxError",
          "evalue": "EOF while scanning triple-quoted string literal (<ipython-input-56-5f35148964f0>, line 3)",
          "traceback": [
            "\u001b[0;36m  File \u001b[0;32m\"<ipython-input-56-5f35148964f0>\"\u001b[0;36m, line \u001b[0;32m3\u001b[0m\n\u001b[0;31m    ''''''\u001b[0m\n\u001b[0m          \n^\u001b[0m\n\u001b[0;31mSyntaxError\u001b[0m\u001b[0;31m:\u001b[0m EOF while scanning triple-quoted string literal\n"
          ]
        }
      ]
    },
    {
      "cell_type": "code",
      "metadata": {
        "execution": {
          "iopub.execute_input": "2021-04-28T08:33:19.690891Z",
          "iopub.status.busy": "2021-04-28T08:33:19.687549Z",
          "iopub.status.idle": "2021-04-28T08:33:19.694956Z",
          "shell.execute_reply": "2021-04-28T08:33:19.694420Z"
        },
        "papermill": {
          "duration": 0.165455,
          "end_time": "2021-04-28T08:33:19.695096",
          "exception": false,
          "start_time": "2021-04-28T08:33:19.529641",
          "status": "completed"
        },
        "tags": [],
        "id": "representative-texture",
        "outputId": "2c028b36-5673-40d6-f909-47c938c3aa67"
      },
      "source": [
        "'''\n",
        "cat_model=ctb.CatBoostClassifier(**params_cat)\n",
        "cat_model.fit(X_train, y_train,verbose=300)\n",
        "cat_pred=cat_model.predict(X_valid)\n",
        "print(\"\\n정확도: \", metrics.accuracy_score(y_valid, cat_pred))\n",
        "cat_R2=metrics.accuracy_score(y_valid,cat_pred)\n",
        "#lgbm_rmse = np.sqrt(mean_squared_error(lgbm_pred,y_valid))\n",
        "print('R2 : ',cat_R2)'''"
      ],
      "id": "representative-texture",
      "execution_count": null,
      "outputs": [
        {
          "output_type": "execute_result",
          "data": {
            "text/plain": [
              "'\\ncat_model=ctb.CatBoostClassifier(**params_cat)\\ncat_model.fit(X_train, y_train,verbose=300)\\ncat_pred=cat_model.predict(X_valid)\\nprint(\"\\n정확도: \", metrics.accuracy_score(y_valid, cat_pred))\\ncat_R2=metrics.accuracy_score(y_valid,cat_pred)\\n#lgbm_rmse = np.sqrt(mean_squared_error(lgbm_pred,y_valid))\\nprint(\\'R2 : \\',cat_R2)'"
            ]
          },
          "metadata": {
            "tags": []
          },
          "execution_count": 57
        }
      ]
    },
    {
      "cell_type": "code",
      "metadata": {
        "execution": {
          "iopub.execute_input": "2021-04-28T08:33:20.006793Z",
          "iopub.status.busy": "2021-04-28T08:33:20.006056Z",
          "iopub.status.idle": "2021-04-28T08:33:20.008736Z",
          "shell.execute_reply": "2021-04-28T08:33:20.009219Z"
        },
        "papermill": {
          "duration": 0.162129,
          "end_time": "2021-04-28T08:33:20.009384",
          "exception": false,
          "start_time": "2021-04-28T08:33:19.847255",
          "status": "completed"
        },
        "tags": [],
        "id": "alternative-treatment",
        "outputId": "c55f668a-5f7e-482b-9a01-cd559e094173"
      },
      "source": [
        "'''cv_accuracy=[]\n",
        "feature_importances = pd.DataFrame()\n",
        "\n",
        "for train_idx, test_idx in kfold.split(train_kf_feature,train_kf_label):\n",
        "\n",
        "    X_train=train_kf_feature.iloc[train_idx]\n",
        "    X_test=train_kf_feature.iloc[test_idx]\n",
        "    y_train,y_test=train_kf_label.iloc[train_idx],train_kf_label.iloc[test_idx]\n",
        "    #학습 진행\n",
        "    cat_model.fit(X_train,y_train,verbose=500)\n",
        "    #예측\n",
        "    fold_pred=cat_model.predict(X_test)\n",
        "    \n",
        "    #정확도\n",
        "    n_iter+=1\n",
        "    fold_accuracy=metrics.accuracy_score(y_test,fold_pred)\n",
        "    print(\"\\n {}번째  교차 검증 정확도 : {} , 학습 데이터 크기:{}, 검증 데이터 크기 :{} \".\n",
        "          format(n_iter,fold_accuracy,X_train.shape[0],X_test.shape[0]))\n",
        "    cv_accuracy.append(fold_accuracy)\n",
        "    \n",
        "    #중요도 . lgbm이랑 명령어가 다르다.\n",
        "    fi_tmp = pd.DataFrame()\n",
        "    fi_tmp[\"feature\"] = X_test.columns.to_list()\n",
        "    fi_tmp[\"importance\"] = cat_model.get_feature_importance()\n",
        "    feature_importances = feature_importances.append(fi_tmp)\n",
        "\n",
        "print('\\n 평균 검증 정확도 : ',np.mean(cv_accuracy))'''"
      ],
      "id": "alternative-treatment",
      "execution_count": null,
      "outputs": [
        {
          "output_type": "execute_result",
          "data": {
            "text/plain": [
              "'cv_accuracy=[]\\nfeature_importances = pd.DataFrame()\\n\\nfor train_idx, test_idx in kfold.split(train_kf_feature,train_kf_label):\\n\\n    X_train=train_kf_feature.iloc[train_idx]\\n    X_test=train_kf_feature.iloc[test_idx]\\n    y_train,y_test=train_kf_label.iloc[train_idx],train_kf_label.iloc[test_idx]\\n    #학습 진행\\n    cat_model.fit(X_train,y_train,verbose=500)\\n    #예측\\n    fold_pred=cat_model.predict(X_test)\\n    \\n    #정확도\\n    n_iter+=1\\n    fold_accuracy=metrics.accuracy_score(y_test,fold_pred)\\n    print(\"\\n {}번째  교차 검증 정확도 : {} , 학습 데이터 크기:{}, 검증 데이터 크기 :{} \".\\n          format(n_iter,fold_accuracy,X_train.shape[0],X_test.shape[0]))\\n    cv_accuracy.append(fold_accuracy)\\n    \\n    #중요도 . lgbm이랑 명령어가 다르다.\\n    fi_tmp = pd.DataFrame()\\n    fi_tmp[\"feature\"] = X_test.columns.to_list()\\n    fi_tmp[\"importance\"] = cat_model.get_feature_importance()\\n    feature_importances = feature_importances.append(fi_tmp)\\n\\nprint(\\'\\n 평균 검증 정확도 : \\',np.mean(cv_accuracy))'"
            ]
          },
          "metadata": {
            "tags": []
          },
          "execution_count": 58
        }
      ]
    },
    {
      "cell_type": "code",
      "metadata": {
        "execution": {
          "iopub.execute_input": "2021-04-28T08:33:20.316359Z",
          "iopub.status.busy": "2021-04-28T08:33:20.315719Z",
          "iopub.status.idle": "2021-04-28T08:33:20.318782Z",
          "shell.execute_reply": "2021-04-28T08:33:20.319272Z"
        },
        "papermill": {
          "duration": 0.158778,
          "end_time": "2021-04-28T08:33:20.319438",
          "exception": false,
          "start_time": "2021-04-28T08:33:20.160660",
          "status": "completed"
        },
        "tags": [],
        "id": "respective-channel",
        "outputId": "92797cfa-7345-4b20-cc43-5b827a0145e1"
      },
      "source": [
        "'''# just to get ideas to improve\n",
        "order = list(feature_importances.groupby(\"feature\").mean().sort_values(\"importance\", ascending=False).index)\n",
        "plt.figure(figsize=(10, 10))\n",
        "sns.barplot(x=\"importance\", y=\"feature\", data=feature_importances, order=order)\n",
        "plt.title(\"{} importance\".format(\"CatBoostClassifier\"))\n",
        "plt.tight_layout()'''"
      ],
      "id": "respective-channel",
      "execution_count": null,
      "outputs": [
        {
          "output_type": "execute_result",
          "data": {
            "text/plain": [
              "'# just to get ideas to improve\\norder = list(feature_importances.groupby(\"feature\").mean().sort_values(\"importance\", ascending=False).index)\\nplt.figure(figsize=(10, 10))\\nsns.barplot(x=\"importance\", y=\"feature\", data=feature_importances, order=order)\\nplt.title(\"{} importance\".format(\"CatBoostClassifier\"))\\nplt.tight_layout()'"
            ]
          },
          "metadata": {
            "tags": []
          },
          "execution_count": 59
        }
      ]
    },
    {
      "cell_type": "markdown",
      "metadata": {
        "papermill": {
          "duration": 0.151147,
          "end_time": "2021-04-28T08:33:20.622070",
          "exception": false,
          "start_time": "2021-04-28T08:33:20.470923",
          "status": "completed"
        },
        "tags": [],
        "id": "liberal-windows"
      },
      "source": [
        "## Submission\n"
      ],
      "id": "liberal-windows"
    },
    {
      "cell_type": "code",
      "metadata": {
        "execution": {
          "iopub.execute_input": "2021-04-28T08:33:20.929089Z",
          "iopub.status.busy": "2021-04-28T08:33:20.928401Z",
          "iopub.status.idle": "2021-04-28T08:33:20.933808Z",
          "shell.execute_reply": "2021-04-28T08:33:20.933258Z"
        },
        "papermill": {
          "duration": 0.160643,
          "end_time": "2021-04-28T08:33:20.933948",
          "exception": false,
          "start_time": "2021-04-28T08:33:20.773305",
          "status": "completed"
        },
        "tags": [],
        "id": "heard-apache",
        "outputId": "87c1ad49-2ce5-413b-879f-60e5721b7736"
      },
      "source": [
        "'''def create_submission(model, test, test_passenger_id, model_name):\n",
        "    y_pred_test = model.predict_proba(test)[:, 1]\n",
        "    submission = pd.DataFrame(\n",
        "        {\n",
        "            'PassengerId': test_passenger_id, \n",
        "            'Survived': (y_pred_test >= 0.5).astype(int),\n",
        "        }\n",
        "    )\n",
        "    submission.to_csv(f\"submission_{model_name}.csv\", index=False)\n",
        "    \n",
        "    return y_pred_test'''"
      ],
      "id": "heard-apache",
      "execution_count": null,
      "outputs": [
        {
          "output_type": "execute_result",
          "data": {
            "text/plain": [
              "'def create_submission(model, test, test_passenger_id, model_name):\\n    y_pred_test = model.predict_proba(test)[:, 1]\\n    submission = pd.DataFrame(\\n        {\\n            \\'PassengerId\\': test_passenger_id, \\n            \\'Survived\\': (y_pred_test >= 0.5).astype(int),\\n        }\\n    )\\n    submission.to_csv(f\"submission_{model_name}.csv\", index=False)\\n    \\n    return y_pred_test'"
            ]
          },
          "metadata": {
            "tags": []
          },
          "execution_count": 60
        }
      ]
    },
    {
      "cell_type": "code",
      "metadata": {
        "execution": {
          "iopub.execute_input": "2021-04-28T08:33:21.243501Z",
          "iopub.status.busy": "2021-04-28T08:33:21.242872Z",
          "iopub.status.idle": "2021-04-28T08:33:21.246944Z",
          "shell.execute_reply": "2021-04-28T08:33:21.246417Z"
        },
        "papermill": {
          "duration": 0.16053,
          "end_time": "2021-04-28T08:33:21.247081",
          "exception": false,
          "start_time": "2021-04-28T08:33:21.086551",
          "status": "completed"
        },
        "tags": [],
        "id": "generous-carry",
        "outputId": "34ec1db9-50dc-47f9-efaa-67db187ebfc7"
      },
      "source": [
        "'''test_df.head()'''"
      ],
      "id": "generous-carry",
      "execution_count": null,
      "outputs": [
        {
          "output_type": "execute_result",
          "data": {
            "text/plain": [
              "'test_df.head()'"
            ]
          },
          "metadata": {
            "tags": []
          },
          "execution_count": 61
        }
      ]
    },
    {
      "cell_type": "code",
      "metadata": {
        "execution": {
          "iopub.execute_input": "2021-04-28T08:33:21.557053Z",
          "iopub.status.busy": "2021-04-28T08:33:21.556394Z",
          "iopub.status.idle": "2021-04-28T08:33:21.559485Z",
          "shell.execute_reply": "2021-04-28T08:33:21.560074Z"
        },
        "papermill": {
          "duration": 0.160513,
          "end_time": "2021-04-28T08:33:21.560248",
          "exception": false,
          "start_time": "2021-04-28T08:33:21.399735",
          "status": "completed"
        },
        "tags": [],
        "id": "finnish-screw",
        "outputId": "711ef365-e870-4693-a1cf-403e98297cb5"
      },
      "source": [
        "'''#X_test=test.drop('Pclass',axis=1)\n",
        "test = all_df.iloc[100000:, :] #100000개~ \n",
        "X_test=test.drop(drop_list,axis=1)\n",
        "X_test.head()'''"
      ],
      "id": "finnish-screw",
      "execution_count": null,
      "outputs": [
        {
          "output_type": "execute_result",
          "data": {
            "text/plain": [
              "\"#X_test=test.drop('Pclass',axis=1)\\ntest = all_df.iloc[100000:, :] #100000개~ \\nX_test=test.drop(drop_list,axis=1)\\nX_test.head()\""
            ]
          },
          "metadata": {
            "tags": []
          },
          "execution_count": 62
        }
      ]
    },
    {
      "cell_type": "code",
      "metadata": {
        "execution": {
          "iopub.execute_input": "2021-04-28T08:33:21.870043Z",
          "iopub.status.busy": "2021-04-28T08:33:21.869002Z",
          "iopub.status.idle": "2021-04-28T08:33:21.874734Z",
          "shell.execute_reply": "2021-04-28T08:33:21.875300Z"
        },
        "papermill": {
          "duration": 0.162808,
          "end_time": "2021-04-28T08:33:21.875472",
          "exception": false,
          "start_time": "2021-04-28T08:33:21.712664",
          "status": "completed"
        },
        "tags": [],
        "id": "declared-maple",
        "outputId": "43fc2ea3-286d-4559-c227-4ea90f87b2cc"
      },
      "source": [
        "'''test_pred_lightgbm = create_submission(\n",
        "    lgbm_model, X_test, test_df[\"PassengerId\"], \"lightgbm\"\n",
        ")\n",
        "test_pred_catboost = create_submission(\n",
        "    cat_model, X_test, test_df[\"PassengerId\"], \"catboost\"\n",
        ")'''"
      ],
      "id": "declared-maple",
      "execution_count": null,
      "outputs": [
        {
          "output_type": "execute_result",
          "data": {
            "text/plain": [
              "'test_pred_lightgbm = create_submission(\\n    lgbm_model, X_test, test_df[\"PassengerId\"], \"lightgbm\"\\n)\\ntest_pred_catboost = create_submission(\\n    cat_model, X_test, test_df[\"PassengerId\"], \"catboost\"\\n)'"
            ]
          },
          "metadata": {
            "tags": []
          },
          "execution_count": 63
        }
      ]
    },
    {
      "cell_type": "code",
      "metadata": {
        "execution": {
          "iopub.execute_input": "2021-04-28T08:33:22.188713Z",
          "iopub.status.busy": "2021-04-28T08:33:22.187951Z",
          "iopub.status.idle": "2021-04-28T08:33:22.192975Z",
          "shell.execute_reply": "2021-04-28T08:33:22.193486Z"
        },
        "papermill": {
          "duration": 0.164219,
          "end_time": "2021-04-28T08:33:22.193735",
          "exception": false,
          "start_time": "2021-04-28T08:33:22.029516",
          "status": "completed"
        },
        "tags": [],
        "id": "accessory-harris",
        "outputId": "eb2f9d5f-371a-486f-b759-f4db0db2a5c4"
      },
      "source": [
        "'''test_pred_merged = (\n",
        "\n",
        "    test_pred_lightgbm + \n",
        "    test_pred_catboost \n",
        ")\n",
        "test_pred_merged = np.round(test_pred_merged / 2)'''"
      ],
      "id": "accessory-harris",
      "execution_count": null,
      "outputs": [
        {
          "output_type": "execute_result",
          "data": {
            "text/plain": [
              "'test_pred_merged = (\\n\\n    test_pred_lightgbm + \\n    test_pred_catboost \\n)\\ntest_pred_merged = np.round(test_pred_merged / 2)'"
            ]
          },
          "metadata": {
            "tags": []
          },
          "execution_count": 64
        }
      ]
    },
    {
      "cell_type": "code",
      "metadata": {
        "execution": {
          "iopub.execute_input": "2021-04-28T08:33:22.509714Z",
          "iopub.status.busy": "2021-04-28T08:33:22.508520Z",
          "iopub.status.idle": "2021-04-28T08:33:22.512797Z",
          "shell.execute_reply": "2021-04-28T08:33:22.513361Z"
        },
        "papermill": {
          "duration": 0.162988,
          "end_time": "2021-04-28T08:33:22.513532",
          "exception": false,
          "start_time": "2021-04-28T08:33:22.350544",
          "status": "completed"
        },
        "tags": [],
        "id": "certain-federal",
        "outputId": "38363602-eba7-435f-f9bb-1756e9fea94a"
      },
      "source": [
        "'''submission = pd.DataFrame(\n",
        "    {\n",
        "        'PassengerId': test_df[\"PassengerId\"], \n",
        "        'Survived': test_pred_merged.astype(int),\n",
        "    }\n",
        ")\n",
        "submission.to_csv(f\"submission_merged3.csv\", index=False)'''"
      ],
      "id": "certain-federal",
      "execution_count": null,
      "outputs": [
        {
          "output_type": "execute_result",
          "data": {
            "text/plain": [
              "'submission = pd.DataFrame(\\n    {\\n        \\'PassengerId\\': test_df[\"PassengerId\"], \\n        \\'Survived\\': test_pred_merged.astype(int),\\n    }\\n)\\nsubmission.to_csv(f\"submission_merged3.csv\", index=False)'"
            ]
          },
          "metadata": {
            "tags": []
          },
          "execution_count": 65
        }
      ]
    }
  ]
}